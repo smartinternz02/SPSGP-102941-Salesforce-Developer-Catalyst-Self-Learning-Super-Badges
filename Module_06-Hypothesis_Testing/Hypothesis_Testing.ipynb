{
  "nbformat": 4,
  "nbformat_minor": 0,
  "metadata": {
    "colab": {
      "provenance": [],
      "include_colab_link": true
    },
    "kernelspec": {
      "name": "python3",
      "display_name": "Python 3"
    },
    "language_info": {
      "name": "python"
    }
  },
  "cells": [
    {
      "cell_type": "markdown",
      "metadata": {
        "id": "view-in-github",
        "colab_type": "text"
      },
      "source": [
        "<a href=\"https://colab.research.google.com/github/smartinternz02/SPSGP-102941-Salesforce-Developer-Catalyst-Self-Learning-Super-Badges/blob/main/Module_06-Hypothesis_Testing/Hypothesis_Testing.ipynb\" target=\"_parent\"><img src=\"https://colab.research.google.com/assets/colab-badge.svg\" alt=\"Open In Colab\"/></a>"
      ]
    },
    {
      "cell_type": "markdown",
      "source": [
        "# Hypothesis Testing\n",
        "Greeshma Mandala"
      ],
      "metadata": {
        "id": "tsseECtPFMAZ"
      }
    },
    {
      "cell_type": "markdown",
      "source": [
        "## Getting Started\n",
        "\n",
        "* Colab - get notebook from gitmystuff\n",
        "* Save a Copy in Drive\n",
        "* Remove Copy of\n",
        "* Edit name\n",
        "* Take attendance\n",
        "* Clean up Colab Notebooks folder\n",
        "* Submit shared link"
      ],
      "metadata": {
        "id": "ojyIDptwB7Iy"
      }
    },
    {
      "cell_type": "markdown",
      "source": [
        "## Things to Do\n",
        "\n",
        "* Academic Advising\n",
        "* https://datascience.unt.edu/executive-summit\n",
        "* Multimodal Survey\n",
        "* NotebookLM and Code\n",
        "* https://www.forbes.com/sites/avivalegatt/2025/09/25/colleges-and-schools-must-block-agentic-ai-browsers-now-heres-why/\n",
        "* The importance of probability and statistics"
      ],
      "metadata": {
        "id": "ompoUNDrFeA7"
      }
    },
    {
      "cell_type": "markdown",
      "source": [
        "## Presentism and Anachronism\n",
        "\n",
        "* **Anachronism** is when something (a concept, word, or object) is placed in a time period where it doesn’t belong. For example, saying “data analysis in Ancient Greece” is technically anachronistic because neither the phrase nor the modern discipline existed yet.\n",
        "* **Presentism** is the broader interpretive habit of applying present-day concepts, categories, or values to interpret the past. Historians use the word critically, since it can distort how people in antiquity actually thought.\n",
        "\n",
        "“Strictly speaking, the ancients did not think in terms of ‘data analysis’—that’s a modern concept. When I use this language, I am engaging in a kind of *presentism*: explaining ancient practices of measurement, probability, and record-keeping through the lens of today’s terminology.”\n",
        "\n"
      ],
      "metadata": {
        "id": "eIXvyFgxN9k9"
      }
    },
    {
      "cell_type": "markdown",
      "source": [
        "## 5000 Years Ago\n",
        "\n",
        "* Krishna\n",
        "* Yellow Emperor and Shennong\n",
        "* Abraham\n",
        "\n",
        "We have evidence of sea-faring navigation...\n",
        "\n",
        "Hundreds of cultures worldwide, potentially over 200 or more, have stories about a great flood, though the exact number is hard to pinpoint due to the vastness of oral tradition and differing definitions of a \"culture\" or \"flood story\". While the biblical flood of Noah is famous, similar narratives exist across diverse cultures, from Mesopotamia and Greece to Indigenous traditions in North and South America, and from China to Australia. These stories likely arose independently from various local flooding events and shared cultural understandings of past cataclysmic natural disasters, particularly the significant sea-level rise after the last ice age.\n",
        "\n",
        "Prevalence of Flood Myths\n",
        "\n",
        "* Widespread Phenomenon: Flood myths are a recurring theme found in the folklore of almost every culture on Earth, regardless of geographic location.\n",
        "* Examples Across Cultures: Flood stories appear in the traditions of the Hopi Indians, the Incas, the Mesopotamians (Epic of Gilgamesh), the ancient Greeks (Deucalion and Pyrrha), the Chinese, the Hindus (Manu), and many others.   \n",
        "\n"
      ],
      "metadata": {
        "id": "j5C1iw5wsb8L"
      }
    },
    {
      "cell_type": "markdown",
      "source": [
        "## Ancient Datasets\n",
        "\n",
        "**Astronomy**\n",
        "\n",
        "From Babylonian stargazers to Tycho Brahe’s meticulous charts, the heavens provided humanity’s first massive datasets. By tracking the motions of planets and stars, astronomers discovered patterns, residuals, and errors—forcing them to invent methods to reconcile theory with observation. The need to explain discrepancies between prediction and reality gave birth to least squares, error distributions, and the very idea that “noise” in data could be modeled. Astronomy, in many ways, is the cradle of modern statistics.\n",
        "\n",
        "**Agriculture**\n",
        "\n",
        "For millennia, farmers measured yields and timed planting by tradition, but in the 19th century, systematic experiments at places like Rothamsted transformed agriculture into a statistical laboratory. By comparing plots with and without fertilizer, scientists like Fisher developed randomization, replication, and ANOVA. The farm field became the prototype of the modern controlled experiment, and its lessons live on today in everything from medical trials to online A/B testing.\n",
        "\n",
        "**Navigation**\n",
        "\n",
        "Sailors once relied on stars, tides, and crude instruments to traverse oceans, but navigation demanded data analysis before the concept had a name. Tables of latitude and longitude, lunar distances, and compass deviations accumulated into shared “datasets.” Errors in measurement—whether of a sextant or a clock—drove the development of corrections, averaging, and eventually probability theory. In striving to find their way across uncharted seas, navigators pioneered the quantification of uncertainty itself.\n"
      ],
      "metadata": {
        "id": "6QAX2KuB6RdE"
      }
    },
    {
      "cell_type": "markdown",
      "source": [
        "## Early Practices - Observation and Measurement\n",
        "\n",
        "* Astronomy and calendars: Babylonian and Egyptian sky records used to predict seasons for agriculture and navigation; repeated observation establishes “data before theory.”\n",
        "* State administration: censuses, grain tallies, and tax lists in Egypt, Rome, and China formalize record-keeping.\n",
        "* Greeks: Philosophers (e.g., Aristotle) discuss randomness largely as absence of purpose or as “for the most part” regularities; no formal calculus of probability.\n",
        "* Will of the gods.\n",
        "* Euclid.\n",
        "* Romans: Gambling is widespread (knucklebones/dice), but analysis is practical not mathematical—odds are experienced, not computed.\n",
        "* War, building, and luxury\n",
        "* Key terms and concepts: observation, measurement, calendar cycles, omen catalogues, census, empirical regularity.\n",
        "\n"
      ],
      "metadata": {
        "id": "wPQIj4aSNwZF"
      }
    },
    {
      "cell_type": "markdown",
      "source": [
        "### Simple Ratios and Formulas for Approximation and Pattern Recognition\n",
        "\n",
        "Appropriate Mathematical Concept: The Empirical Ratio (Frequency $\\approx$ Proportion)\n",
        "\n",
        "The closest mathematical representation of the Babylonian, Egyptian, and Roman practices of **repeated observation** and **tallying** is the concept of a **simple ratio** or **proportion** derived from empirical data.\n",
        "\n",
        "They were essentially establishing a **precursor to the Law of Large Numbers** through:\n",
        "\n",
        "$$\\text{Empirical Regularity} \\approx \\frac{\\text{Number of Favorable Outcomes}}{\\text{Total Number of Observations}}$$\n",
        "\n",
        "Applications to Your Key Terms\n",
        "\n",
        "This concept applies directly to the practices you listed:\n",
        "\n",
        "1.  **Astronomy and Calendars (Prediction):**\n",
        "    * They observed the cycle of seasons ($S$), divided by the total number of days observed ($D$).\n",
        "    $$ \\text{Length of Year} \\approx \\frac{\\text{Total Days Observed}}{\\text{Number of Cycles Observed}}$$\n",
        "    * This ratio allowed them to approximate the **365.25 day** length of the solar year, leading to accurate calendars.\n",
        "\n",
        "2.  **State Administration (Censuses/Tallies):**\n",
        "    * They calculated ratios for tax allocation or resource planning.\n",
        "    $$ \\text{Tax Rate (Ratio)} = \\frac{\\text{Grain Paid in Tax}}{\\text{Total Grain Harvested}}$$\n",
        "\n",
        "3.  **Roman Gambling (Practical Odds):**\n",
        "    * While they didn't compute this formally, their *practical* understanding of \"odds\" was based on experiencing the ratio of successful throws ($W$) versus total throws ($N$):\n",
        "    $$ \\text{Observed Chance of Winning} \\approx \\frac{\\text{Number of Wins (Favorable Outcomes)}}{\\text{Total Number of Rolls (Observations)}}$$\n",
        "\n",
        "Why No Formal Probability Equation?\n",
        "\n",
        "$$P(\\text{Event}) = \\frac{\\text{Number of Favorable Outcomes}}{\\text{Total Number of Possible Outcomes}}$$\n",
        "\n",
        "The primary reason no formal equation existed is that **formal probability theory**—calculating the **sample space** and theoretical odds—was not developed until the $16$th and $17$th centuries with figures like Cardano, Pascal, and Fermat.\n",
        "\n",
        "The ancients:\n",
        "* Did not conceive of **randomness** as a mathematically calculable phenomenon, often attributing it to the **\"Will of the Gods.\"**\n",
        "* Focused on **regularities** and **deterministic cycles** (e.g., the stars, the seasons) for administration and prediction.\n",
        "* Their mathematics was highly focused on **geometry, ratios (proportions), and practical measurement** (e.g., area, volume, accounting)."
      ],
      "metadata": {
        "id": "uIz7DEJJPWEV"
      }
    },
    {
      "cell_type": "markdown",
      "source": [
        "### The Problem\n",
        "\n",
        "The earliest stirrings of statistical thought are deeply embedded in the ancient practice of astronomy. Early civilizations, from the Assyro-Babylonians to the Greeks, used rudimentary instruments and naked-eye observation to monitor celestial motions, which was fundamental for timekeeping, agriculture, and navigation.1 While these observations were systematic, as evidenced by Hipparchus's compilation of the first stellar catalogue in the second century BCE, they were inherently limited by the imprecision of measurement. For instance, Hipparchus's catalogue, which listed 850 stars, had a precision of about one degree, approximately twice the angular size of the full Moon.1 The intellectual challenge was to reconcile these imprecise measurements with the desire to know a single, \"true\" value for a star's position or a planet's orbit."
      ],
      "metadata": {
        "id": "F5HwyWqrQl9Q"
      }
    },
    {
      "cell_type": "markdown",
      "source": [
        "## Medieval Era (500–1500) Knowledge Preservation and Refinement\n",
        "\n",
        "* Islamic Golden Age astronomers (Al-Battani, Al-Tusi, Ulugh Beg) produce precise star catalogs; error is noted and minimized through repeated measurement.\n",
        "* Navigation improves via astrolabes, quadrants, and later the magnetic compass; pilots rely on accumulated observational “datasets.”\n",
        "\n",
        "Proto-statistical thinking\n",
        "\n",
        "* Averaging and tabulation appear in astronomy and finance; life annuities and simple risk notions emerge in European commerce.\n",
        "* Key terms: star catalog, ephemeris, instrument error, mean/average, annuity, risk.\n"
      ],
      "metadata": {
        "id": "YQ5f3Li5SLje"
      }
    },
    {
      "cell_type": "markdown",
      "source": [
        "## Renaissance & Early Scientific Revolution (1500–1650) Empiricism\n",
        "\n",
        "* Copernicus, Tycho Brahe, Kepler, and Galileo institutionalize systematic observation; residuals between theory and observation become targets for analysis.\n",
        "* Navigation and cartography: longitude/latitude methods, marine logs, and pilot charts accumulate structured data.\n",
        "\n"
      ],
      "metadata": {
        "id": "2FwIn_f6SjTt"
      }
    },
    {
      "cell_type": "markdown",
      "source": [
        "### Seeds of Error Analysis\n",
        "\n",
        "* Kepler and Galileo compare models to measurements; repeated trials and residual patterns foreshadow formal error distributions.\n",
        "* Key terms: Residual, systematic vs random error, observational study, triangulation, nautical log."
      ],
      "metadata": {
        "id": "B1W7qGWBSyHh"
      }
    },
    {
      "cell_type": "markdown",
      "source": [
        "## Birth of Probability (1650–1750) Gambling to mathematics\n",
        "\n",
        "* Pascal–Fermat correspondence solves problems of games of chance; Huygens writes first textbook on probability.\n",
        "* Cardano’s earlier analysis (published posthumously) anticipates sample spaces and fair odds.\n",
        "\n",
        "\n"
      ],
      "metadata": {
        "id": "ErzMJ3HeTYS9"
      }
    },
    {
      "cell_type": "markdown",
      "source": [
        "### Dawn of Mathematical Probability\n",
        "\n",
        "The earliest known work on probability theory is attributed to Gerolamo Cardano, a 16th-century Italian physician and avid gambler. Around 1550, Cardano penned a manuscript, Liber de Ludo Aleae (The Book on Games of Chance), which provided a rudimentary definition of probability as the ratio of favorable cases to the total number of possible cases. However, this work, not published until 1663, contained a significant logical flaw that exemplified the flawed intuition of the era. Cardano's \"reasoning on the mean\" led him to incorrectly conclude that the probability of a specific face appearing in three rolls of a die was equal to\n",
        "p=3⋅1/6​=1/2​. This error demonstrated that a simple, intuitive understanding of chance was insufficient for complex problems.\n",
        "\n",
        "The true catalyst for modern probability theory came a century later, in the correspondence of two brilliant French mathematicians, Blaise Pascal and Pierre de Fermat, in 1654. They were tasked by the Chevalier de Méré with solving the \"problem of points,\" a famous gambling puzzle. The problem asked how to fairly divide the stakes in a game of chance that was interrupted before its conclusion. For example, if two players are playing a game where the first to reach a certain number of points wins the pot, how should the pot be divided if the game is stopped prematurely, based on the current score?\n",
        "\n",
        "This was not a simple question about a single outcome; it forced Pascal and Fermat to develop a way to calculate the fair value of a stake based on the likelihood of all possible future outcomes. Their work laid the fundamental groundwork of probability theory and introduced the concept of expected value, a weighted sum of probabilities that remains a cornerstone of the discipline. This marked a profound departure from naive intuition and established the core idea of a new mode of mathematical thought.\n",
        "\n",
        "### The Gambler Who Forced the Issue\n",
        "\n",
        "The person who, in a practical sense, forced the mathematical community to confront this calculation was **The Chevalier de Méré**, a French nobleman and passionate gambler.\n",
        "\n",
        "* De Méré noticed a subtle difference between two related betting problems:\n",
        "    1.  Betting to get at least one \"six\" in **four rolls** of a single die. (He usually won).\n",
        "    2.  Betting to get at least one \"double-six\" in **24 rolls** of two dice. (He usually lost).\n",
        "\n",
        "* He correctly felt that the odds in the first game were favorable and the odds in the second were unfavorable, but his own faulty, Cardan-like reasoning could not explain *why*.\n",
        "\n",
        "### The Mathematicians Who Formalized the Correction\n",
        "\n",
        "De Méré posed these and other gambling problems to **Blaise Pascal** in $1654$, which led to Pascal's correspondence with **Pierre de Fermat**.\n",
        "\n",
        "While their primary focus was the more complex \"Problem of Points,\" they used the correct method to address de Méré's dice questions. This correct method involved what we now call the complement rule and the multiplication rule for independent events:\n",
        "\n",
        "$$P(\\text{at least one } 6) = 1 - P(\\text{no } 6\\text{'s}) = 1 - \\left(\\frac{5}{6}\\right)^4$$\n",
        "\n",
        "The calculation of this $1 - P(\\text{not } A)$ formula was demonstrated and formalized by these and other early probabilists, including **Christiaan Huygens**, whose 1657 treatise, *On Reasoning in Games of Chance*, was the first textbook on probability.\n",
        "\n",
        "**In summary:**\n",
        "\n",
        "* **Cardano** made the error by using simple addition.\n",
        "* The error was definitively corrected by the **new mathematical framework** created by **Pascal, Fermat, and Huygens** in the mid-17th century. They used the multiplication principle (which forms the basis of the complement rule) to calculate the odds of independent events correctly.\n",
        "\n",
        "The nascent field gained further momentum with the publication of the first text on probability theory, Christiaan Huygens' De Ratiociniis in Ludo Aleae (On Reasoning in Games and Chance) in 1657.\n",
        "\n",
        "This work was later expounded upon by James Bernoulli, who, in his posthumously published workArs Conjectandi (1713), introduced the concepts of combinations and permutations that are still fundamental to probability today."
      ],
      "metadata": {
        "id": "SsfZ8HAjUeqt"
      }
    },
    {
      "cell_type": "markdown",
      "source": [
        "### Expected Value ($\\mathbf{E}$)\n",
        "\n",
        "The Formula for Expected Value\n",
        "\n",
        "The core idea derived from their work is that the value of an uncertain outcome is the **weighted average** of all possible outcomes, with the weights being the probability of each outcome occurring. This is the definition of **Expected Value ($E$)**.\n",
        "\n",
        "The general formula for a game or wager with a finite number of possible outcomes is:\n",
        "\n",
        "$$E = \\sum_{i=1}^{k} \\left(P_i \\cdot V_i\\right)$$\n",
        "\n",
        "Where:\n",
        "* $E$ is the **Expected Value** (the fair share of the pot a player should receive).\n",
        "* $P_i$ is the **Probability** of the $i^{th}$ possible future outcome (e.g., Player A winning the game).\n",
        "* $V_i$ is the **Value** of the $i^{th}$ possible future outcome (e.g., the amount of the pot won if that outcome occurs).\n",
        "\n",
        "Application to the \"Problem of Points\"\n",
        "\n",
        "In the context of the \"Problem of Points,\" this formula is applied to determine the fair division of the total prize ($T$) based on the remaining games needed for each player.\n",
        "\n",
        "Let's say a game is interrupted, and Player A needs $a$ more points to win, and Player B needs $b$ more points to win.\n",
        "\n",
        "1.  **Calculate the Probabilities:** Pascal and Fermat used combinatorial methods (often involving what is now **Pascal's Triangle**) to calculate:\n",
        "    * $P_A$: The probability that Player A will win the remaining points.\n",
        "    * $P_B$: The probability that Player B will win the remaining points. (Note: $P_A + P_B = 1$).\n",
        "\n",
        "2.  **Determine the Fair Share (Expected Value):**\n",
        "    * The fair share for **Player A ($E_A$)** is the probability of A winning times the full pot amount ($T$):\n",
        "        $$E_A = P_A \\cdot T$$\n",
        "    * The fair share for **Player B ($E_B$)** is the probability of B winning times the full pot amount ($T$):\n",
        "        $$E_B = P_B \\cdot T$$\n",
        "\n",
        "This result was the first rigorous mathematical demonstration of how to quantify the value of a future chance, which became the bedrock of modern probability theory."
      ],
      "metadata": {
        "id": "luidXsiMXN2j"
      }
    },
    {
      "cell_type": "markdown",
      "source": [
        "### Expected Value of Rolling a Die\n",
        "\n",
        "The expected value of rolling a fair, **six-sided die** is **3.5**.\n",
        "\n",
        "The expected value ($E[X]$) is the long-term average outcome if you were to repeat an experiment many times. It is calculated by multiplying each possible outcome by its probability and summing the results.\n",
        "\n",
        "Calculation\n",
        "\n",
        "The formula for Expected Value is:\n",
        "$$E[X] = \\sum x \\cdot P(x)$$\n",
        "where:\n",
        "* $x$ is a possible outcome (the numbers 1, 2, 3, 4, 5, or 6).\n",
        "* $P(x)$ is the probability of that outcome (for a fair six-sided die, this is $\\frac{1}{6}$ for every number).\n",
        "\n",
        "| Outcome ($x$) | Probability ($P(x)$) | $x \\cdot P(x)$ |\n",
        "| :---: | :---: | :---: |\n",
        "| 1 | $\\frac{1}{6}$ | $1 \\cdot \\frac{1}{6} = \\frac{1}{6}$ |\n",
        "| 2 | $\\frac{1}{6}$ | $2 \\cdot \\frac{1}{6} = \\frac{2}{6}$ |\n",
        "| 3 | $\\frac{1}{6}$ | $3 \\cdot \\frac{1}{6} = \\frac{3}{6}$ |\n",
        "| 4 | $\\frac{1}{6}$ | $4 \\cdot \\frac{1}{6} = \\frac{4}{6}$ |\n",
        "| 5 | $\\frac{1}{6}$ | $5 \\cdot \\frac{1}{6} = \\frac{5}{6}$ |\n",
        "| 6 | $\\frac{1}{6}$ | $6 \\cdot \\frac{1}{6} = \\frac{6}{6}$ |\n",
        "| **Sum** | **1** | $\\frac{21}{6}$ |\n",
        "\n",
        "$$E[X] = \\frac{1}{6} + \\frac{2}{6} + \\frac{3}{6} + \\frac{4}{6} + \\frac{5}{6} + \\frac{6}{6} = \\frac{21}{6} = \\mathbf{3.5}$$\n",
        "\n",
        "Interpretation\n",
        "\n",
        "The expected value of **3.5** is the theoretical **mean** of the outcomes. It's important to note:\n",
        "\n",
        "1.  **It is not a possible outcome:** You can never roll a 3.5 on a standard die.\n",
        "2.  **It is the average:** If you roll the die hundreds or thousands of times, the **average** of all the numbers you roll will get closer and closer to **3.5**."
      ],
      "metadata": {
        "id": "EE6Jb5er48Jl"
      }
    },
    {
      "cell_type": "markdown",
      "source": [
        "### Bussiness Example for Expected Value\n",
        "\n",
        "An insurance company wants to determine the annual premium for a new car policy. They use historical data to estimate the probability of a driver being in an accident and the potential cost of a claim.\n",
        "\n",
        "The Expected Value (EV) calculation here is from the **company's perspective**, representing the average profit (or loss) per policy.\n",
        "\n",
        "**Scenario Data:**\n",
        "\n",
        "| Outcome ($x$) | Potential Payout (Cost to Company) | Probability ($P(x)$) |\n",
        "| :---: | :---: | :---: |\n",
        "| **No Accident** | \\$0 | $95.00\\%$ (0.95) |\n",
        "| **Minor Accident** | \\$-\\$\\text{5,000} | $4.00\\%$ (0.04) |\n",
        "| **Major Accident** | \\$-\\$\\text{30,000} | $1.00\\%$ (0.01) |\n",
        "| **Total** | | $100.00\\%$ (1.00) |\n",
        "\n",
        "#### 1. Calculate the Expected Payout (Expected Loss)\n",
        "\n",
        "The company first calculates the **Expected Payout** (the average amount they expect to pay out per policy over the long run).\n",
        "\n",
        "$$E[\\text{Payout}] = \\sum \\text{Payout} \\cdot P(\\text{Payout})$$\n",
        "\n",
        "$$E[\\text{Payout}] = (\\$0 \\cdot 0.95) + (-\\$5,000 \\cdot 0.04) + (-\\$30,000 \\cdot 0.01)$$\n",
        "\n",
        "$$E[\\text{Payout}] = \\$0 + (-\\$200) + (-\\$300)$$\n",
        "\n",
        "$$E[\\text{Payout}] = -\\$\\mathbf{500}$$\n",
        "\n",
        "This means that, on average, the insurance company **expects to pay out \\$500 per policy** to cover claims.\n",
        "\n",
        "#### 2. Determine the Minimum Break-Even Premium\n",
        "\n",
        "To simply break even, the premium must equal the expected payout:\n",
        "$$\\text{Break-Even Premium} = \\text{Expected Payout} = \\$500$$\n",
        "\n",
        "#### 3. Calculate the Final Expected Value (Profit)\n",
        "\n",
        "To make a profit and cover operating costs (salaries, rent, advertising, etc.), the company adds a **profit margin** (let's say \\$150) to the premium.\n",
        "\n",
        "If they set the **Premium at \\$650**, the Expected Value ($E[X]$) or **Expected Profit** for the company is:\n",
        "\n",
        "$$E[\\text{Profit}] = \\text{Premium} - E[\\text{Payout}]$$\n",
        "$$E[\\text{Profit}] = \\$650 - \\$500 = \\mathbf{\\$150}$$\n",
        "\n",
        "By charging a premium of \\$650, the company has an **Expected Value of + \\$150 per policy**. This is the average profit the company anticipates earning per customer in the long run. If the EV were negative, the business would eventually lose money and fail."
      ],
      "metadata": {
        "id": "oTfSzbm05mds"
      }
    },
    {
      "cell_type": "markdown",
      "source": [
        "### Python: Expected Value for a Business Decision\n",
        "\n",
        "The Problem\n",
        "\n",
        "A company is deciding whether to launch a new software product. They estimate three possible outcomes:\n",
        "\n",
        "* **Success (High Profit):** Financial Outcome is **\\$500,000** with a Probability of **30% (0.30)**.\n",
        "* **Moderate Success:** Financial Outcome is **\\$100,000** with a Probability of **50% (0.50)**.\n",
        "* **Failure (Loss):** Financial Outcome is **-\\$250,000** with a Probability of **20% (0.20)**.\n",
        "\n",
        "The goal is to calculate the **Expected Value** to determine the project's long-term average value."
      ],
      "metadata": {
        "id": "i3ZwlhdD7aBm"
      }
    },
    {
      "cell_type": "code",
      "source": [
        "# expected value problem\n",
        "outcomes = [500000, 100000, -250000]\n",
        "probabilities = [0.30, 0.50, 0.20]\n",
        "\n",
        "def calculate_expected_value(outcomes, probabilities):\n",
        "    \"\"\"\n",
        "    Calculates the Expected Value (EV) for a set of discrete outcomes.\n",
        "\n",
        "    EV = Sum(Outcome * Probability)\n",
        "    \"\"\"\n",
        "    if len(outcomes) != len(probabilities):\n",
        "        raise ValueError(\"The number of outcomes must match the number of probabilities.\")\n",
        "\n",
        "    if not 0.999 <= sum(probabilities) <= 1.001:\n",
        "        print(\"Warning: Probabilities do not sum exactly to 1.0.\")\n",
        "\n",
        "    expected_value = 0\n",
        "\n",
        "    for i in range(len(outcomes)):\n",
        "        term = outcomes[i] * probabilities[i]\n",
        "        expected_value += term\n",
        "        print(f\"Scenario {i+1}: {outcomes[i]:,.2f} * {probabilities[i]:.2f} = {term:,.2f}\")\n",
        "\n",
        "    return expected_value\n",
        "\n",
        "expected_return = calculate_expected_value(outcomes, probabilities)\n",
        "\n",
        "print(\"\\n\" + \"=\"*40)\n",
        "print(f\"The Expected Value of the new product launch is: \\${expected_return:,.2f}\")\n",
        "print(\"=\"*40)\n",
        "print(\"\\nInterpretation:\")\n",
        "if expected_return > 0:\n",
        "    print(f\"The positive EV of \\${expected_return:,.2f} suggests that, over many similar projects, the average return would be positive. It is a statistically favorable decision.\")\n",
        "elif expected_return < 0:\n",
        "    print(f\"The negative EV of \\${expected_return:,.2f} suggests the project is expected to lose money in the long run.\")\n",
        "else:\n",
        "    print(\"The EV is $0, meaning the project is expected to break even in the long run.\")"
      ],
      "metadata": {
        "id": "TULyDqiPXdt5"
      },
      "execution_count": null,
      "outputs": []
    },
    {
      "cell_type": "markdown",
      "source": [
        "### Cardano\n",
        "\n",
        "* **Gerolamo Cardano** (24 September 1501– 21 September 1576), The Book on Games of Chance\n",
        "    * Mother tried to abort him\n",
        "    * Caught the bubonic plague\n",
        "    * His writings (medical practice was a sham, blood letting, burning, drilling holes in the head) children made him an anathema (daughter got pregnant with brother Giovanni, had an abortion, and became infertile, Giovannie was executed for supected murder of his wife, son 2 liked killing small animals at an early age and eventually became a torturer for the Inquisition, who later gave evidence of heresy that imprisoned his father\n",
        "    * Used gambling to pay for his medical school\n",
        "    * Hindus were introducing notational math, base 10, and 0 as a number (vs. placeholder) at this time\n",
        "    * Our own number system, composed of the ten symbols {0,1,2,3,4,5,6,7,8,9} is called the Hindu-Arabic system. This is a base-ten (decimal) system since place values increase by powers of ten\n",
        "    * Plus and negative sign was introduced by the Germans\n",
        "    * The = sign (two parallel lines) 1557\n",
        "    * The Scientific Revolution is getting rooted\n",
        "    * An example of Cardano's writing: Suppose a random process has many equally likely outcomes, some favorable (that is, winning), some unfavorable (losing). Then the probability of obtaining a favorable outcome is equal to the proportion of outcomes that are favorable. The set of all possible outcomes is called the sample space\n",
        "    * After incarceration, Cardano moved to Rome, where he received a lifetime annuity from Pope Gregory XIII (after first having been rejected by Pope Pius V, who died in 1572) and finished his autobiography. He was accepted in the Royal College of Physicians, and as well as practising medicine he continued his philosophical studies until his death in 1576."
      ],
      "metadata": {
        "id": "NvjigCA2TwEn"
      }
    },
    {
      "cell_type": "markdown",
      "source": [
        "### Pascal\n",
        "\n",
        "**Blaise Pascal** (19 June 1623 – 19 August 1662) added to probability and gambling\n",
        "* Pascal's development of probability theory was his most influential contribution to mathematics. Originally applied to gambling, today it is extremely important in economics, especially in actuarial science\n",
        "* In 1654, prompted by his friend the Chevalier de Méré, he corresponded with Pierre de Fermat on the subject of gambling problems, and from that collaboration was born the mathematical theory of probabilities.[21] The specific problem was that of two players who want to finish a game early and, given the current circumstances of the game, want to divide the stakes fairly, based on the chance each has of winning the game from that point\n",
        "* From this discussion, the notion of expected value was introduced\n",
        "* Pascal's Triangle: Pascal’s triangle is useful any time you need to know the number of ways in which you can choose some number of objects from a collection that has an equal or greater number\n",
        "\n",
        "Example: Tossing Four Coins\n",
        "\n",
        "Let's use Pascal's Triangle to find the number of ways to get different combinations of heads and tails when you flip a coin **four times**.\n",
        "\n",
        "#### 1. Identify the Correct Row\n",
        "\n",
        "The number of coin tosses, $n$, corresponds to the row number in Pascal's Triangle. Since we have **four tosses**, we'll look at **Row 4** (remembering that the top row is Row 0).\n",
        "\n",
        "**Pascal's Triangle (Rows 0-4):**\n",
        "Row 0: 1\n",
        "Row 1: 1, 1\n",
        "Row 2: 1, 2, 1\n",
        "Row 3: 1, 3, 3, 1\n",
        "**Row 4: 1, 4, 6, 4, 1**\n",
        "\n",
        "#### 2. Interpret the Coefficients\n",
        "\n",
        "The numbers in Row 4 (**1, 4, 6, 4, 1**) are the coefficients that represent the number of possible ways to get a specific combination of Heads (H) and Tails (T):\n",
        "\n",
        "| Coefficient | Number of Heads (H) | Number of Tails (T) | Combinations (Examples) |\n",
        "| :---: | :---: | :---: | :---: |\n",
        "| **1** | 4 | 0 | HHHH |\n",
        "| **4** | 3 | 1 | HHHT, HHTH, HTHH, THHH |\n",
        "| **6** | 2 | 2 | HHTT, HTHT, HTTH, THHT, THTH, TTHH |\n",
        "| **4** | 1 | 3 | HTTT, THTT, TTHT, TTTH |\n",
        "| **1** | 0 | 4 | TTTT |\n",
        "\n",
        "#### 3. Calculate Probabilities\n",
        "\n",
        "To find the probability of a specific outcome, you divide the number of ways that outcome can happen (the coefficient) by the total number of possible outcomes.\n",
        "\n",
        "* **Total possible outcomes:** The sum of the coefficients in Row 4 is $1 + 4 + 6 + 4 + 1 = \\mathbf{16}$. (This is also $2^4$).\n",
        "* **Probability of getting exactly 2 Heads and 2 Tails:**\n",
        "    * Number of ways to get 2H/2T is **6** (from the middle coefficient).\n",
        "    * Probability = $\\frac{\\text{Number of Ways}}{\\text{Total Outcomes}} = \\frac{6}{16} = \\frac{3}{8} = 37.5\\%$\n",
        "\n",
        "Pascal's Triangle directly gives you the number of combinations, eliminating the need to list every single possibility!\n",
        "\n",
        "https://www.mathsisfun.com/pascals-triangle.html\n",
        "\n",
        "* In 1662, a few days after Pascal died, a servant noticed a curious bulge in one of Pascal’s jackets. The servant pulled open the lining to find hidden within it folded sheets of parchment and paper. Pascal had apparently carried them with him every day for the last eight years of his life. Scribbled on the sheets, in his handwriting, was a series of isolated words and phrases dated November 23, 1654. The writings were an emotional account of the trance, in which he described how God had come to him and in the space of two hours delivered him from his corrupt ways. Following that revelation, Pascal had dropped most of his friends, calling them “horrible attachments.”\n",
        "* He sold his carriage, his horses, his furniture, his library—everything except his Bible. He gave his money to the poor, leaving himself with so little that he often had to beg or borrow to obtain food. He wore an iron belt with points on the inside so that he was in constant discomfort and pushed the belt’s spikes into his flesh whenever he found himself in danger of feeling happy. He denounced his studies of mathematics and science. Of his childhood fascination with geometry, he wrote, “I can scarcely remember that there is such a thing as geometry. I recognize geometry to be so useless…it is quite possible I shall never think of it again.”\n",
        "* Yet Pascal remained productive. In the years that followed the trance, he recorded his thoughts about God, religion, and life. Those thoughts were later published in a book titled Pensées, a work that is still in print today. And although Pascal had denounced mathematics, amid his vision of the futility of the worldly life is a mathematical exposition in which he trained his weapon of mathematical probability squarely on a question of theology and created a contribution just as important as his earlier work on the problem of points."
      ],
      "metadata": {
        "id": "-COm3gBiTyVA"
      }
    },
    {
      "cell_type": "code",
      "source": [
        "def generate_pascals_row(n):\n",
        "    \"\"\"\n",
        "    Generates the n-th row of Pascal's Triangle.\n",
        "    (Row 0 is the top row: [1])\n",
        "    \"\"\"\n",
        "    # The first row (row 0) is simply [1]\n",
        "    if n == 0:\n",
        "        return [1]\n",
        "\n",
        "    # Initialize the current row with the starting '1'\n",
        "    current_row = [1]\n",
        "\n",
        "    # Get the previous row to calculate the new values\n",
        "    # Recursive call to get the row above\n",
        "    previous_row = generate_pascals_row(n - 1)\n",
        "\n",
        "    # Calculate the inner elements of the current row\n",
        "    # Each element is the sum of the two elements directly above it\n",
        "    for i in range(len(previous_row) - 1):\n",
        "        # The new element is the sum of the element at 'i' and 'i+1' in the previous row\n",
        "        new_element = previous_row[i] + previous_row[i+1]\n",
        "        current_row.append(new_element)\n",
        "\n",
        "    # The row always ends with a '1'\n",
        "    current_row.append(1)\n",
        "\n",
        "    return current_row\n",
        "\n",
        "# --- Examples ---\n",
        "\n",
        "# Row 0\n",
        "print(f\"Row 0: {generate_pascals_row(0)}\")\n",
        "\n",
        "# Row 4 (used in the previous probability example)\n",
        "print(f\"Row 4: {generate_pascals_row(4)}\")\n",
        "\n",
        "# Row 6\n",
        "print(f\"Row 6: {generate_pascals_row(6)}\")"
      ],
      "metadata": {
        "colab": {
          "base_uri": "https://localhost:8080/"
        },
        "id": "DfFlOqnj6wcz",
        "outputId": "2073478d-fbb7-4ac2-8567-76a2ebed393c"
      },
      "execution_count": null,
      "outputs": [
        {
          "output_type": "stream",
          "name": "stdout",
          "text": [
            "Row 0: [1]\n",
            "Row 4: [1, 4, 6, 4, 1]\n",
            "Row 6: [1, 6, 15, 20, 15, 6, 1]\n"
          ]
        }
      ]
    },
    {
      "cell_type": "markdown",
      "source": [
        "### Binomial Stuff\n",
        "\n",
        "The \"coefficient\" mentioned in the context of the number of combinations for coin flips comes directly from a formal mathematical equation: the **Binomial Coefficient**.\n",
        "\n",
        "The Binomial Coefficient is used to calculate the number of ways to choose $k$ successes (Heads) from $n$ total trials (flips), **without regard to the order of the outcomes**.\n",
        "\n",
        "The coefficients you see—$1, 4, 6, 4, 1$ for $n=4$ flips—are the values of the Binomial Coefficient $\\binom{n}{k}$ for $k = 0, 1, 2, 3, 4$.\n",
        "\n",
        "#### Formal Equation\n",
        "The number of combinations of selecting $k$ items from a set of $n$ items is:\n",
        "\n",
        "$$\\binom{n}{k} = \\frac{n!}{k!(n-k)!}$$\n",
        "\n",
        "Where:\n",
        "* $n$ is the **total number of trials** (coin flips).\n",
        "* $k$ is the **number of successful outcomes** (number of Heads, H).\n",
        "* $!$ denotes the **factorial** (e.g., $4! = 4 \\times 3 \\times 2 \\times 1$).\n",
        "\n",
        "---\n",
        "\n",
        "#### Example Calculation\n",
        "\n",
        "For your example of flipping a coin **4 times** ($n=4$) and getting **exactly 2 Heads** ($k=2$):\n",
        "\n",
        "1.  **Total Flips ($n$)** = 4\n",
        "2.  **Required Heads ($k$)** = 2\n",
        "\n",
        "$$\\text{Coefficient} = \\binom{4}{2} = \\frac{4!}{2!(4-2)!} = \\frac{4!}{2!2!} = \\frac{4 \\times 3 \\times 2 \\times 1}{(2 \\times 1)(2 \\times 1)} = \\frac{24}{4} = \\mathbf{6}$$\n",
        "\n",
        "This result of **6** matches the coefficient in your table for the combination \"2 Heads and 2 Tails.\"\n",
        "\n",
        "***\n",
        "\n",
        "#### Connection to the Binomial Distribution\n",
        "\n",
        "This coefficient forms the first part of the full equation for the **Binomial Probability Mass Function (PMF)**, which calculates the probability of getting exactly $k$ successes in $n$ trials:\n",
        "\n",
        "$$P(X=k) = \\binom{n}{k} \\cdot p^k \\cdot (1-p)^{n-k}$$\n",
        "\n",
        "Where:\n",
        "* $\\binom{n}{k}$ is the **coefficient** (number of ways the event can happen).\n",
        "* $p$ is the probability of a single success (e.g., $0.5$ for heads).\n",
        "* $p^k \\cdot (1-p)^{n-k}$ is the probability of *any one specific sequence* occurring.\n",
        "\n",
        "For your example of exactly 2 Heads in 4 flips with a fair coin ($p=0.5$):\n",
        "\n",
        "$$P(X=2) = \\mathbf{6} \\cdot (0.5)^2 \\cdot (1-0.5)^{4-2}$$\n",
        "$$P(X=2) = 6 \\cdot (0.25) \\cdot (0.25) = 6 \\cdot 0.0625 = \\mathbf{0.375}$$\n",
        "\n",
        "This confirms the stated probability: $37.5\\%$ (or $\\frac{6}{16}$)."
      ],
      "metadata": {
        "id": "IuH-Rn3x7CH2"
      }
    },
    {
      "cell_type": "markdown",
      "source": [
        "### 6?\n",
        "\n",
        "Here is the step-by-step breakdown of how the Binomial Coefficient formula produces the number **6** for \"4 over 2,\" which represents the combinations of 2 Heads (successes) in 4 coin flips ($n=4, k=2$).\n",
        "\n",
        "Here is the formal calculation using the formula for Combinations, $\\binom{n}{k}$:\n",
        "\n",
        "---\n",
        "\n",
        "#### Calculating the Binomial Coefficient $\\mathbf{\\binom{4}{2}}$\n",
        "\n",
        "The formula for the number of combinations of choosing $k$ items from a set of $n$ items is:\n",
        "\n",
        "$$\\binom{n}{k} = \\frac{n!}{k!(n-k)!}$$\n",
        "\n",
        "In your example, the total number of trials is **$n=4$** (flips) and the number of successes is **$k=2$** (Heads).\n",
        "\n",
        "##### Step 1: Substitute the values into the formula.\n",
        "Substitute $n=4$ and $k=2$:\n",
        "\n",
        "$$\\binom{4}{2} = \\frac{4!}{2!(4-2)!}$$\n",
        "\n",
        "##### Step 2: Simplify the term in the parentheses.\n",
        "$$(4-2)! = 2!$$\n",
        "\n",
        "$$\\binom{4}{2} = \\frac{4!}{2!2!}$$\n",
        "\n",
        "##### Step 3: Expand the factorials.\n",
        "Recall that the factorial $n!$ is the product of all positive integers less than or equal to $n$.\n",
        "* $4! = 4 \\times 3 \\times 2 \\times 1 = 24$\n",
        "* $2! = 2 \\times 1 = 2$\n",
        "\n",
        "$$\\binom{4}{2} = \\frac{4 \\times 3 \\times 2 \\times 1}{(2 \\times 1) \\times (2 \\times 1)}$$\n",
        "\n",
        "$$\\binom{4}{2} = \\frac{24}{2 \\times 2} = \\frac{24}{4}$$\n",
        "\n",
        "##### Step 4: Perform the final division.\n",
        "\n",
        "$$\\frac{24}{4} = \\mathbf{6}$$\n",
        "\n",
        "---\n",
        "\n",
        "#### Result and Interpretation\n",
        "\n",
        "The result, **6**, confirms that there are exactly **6 possible unique sequences** of 4 coin flips that contain exactly 2 Heads and 2 Tails.\n",
        "\n",
        "These sequences are:\n",
        "\n",
        "1.  HHTT\n",
        "2.  HTHT\n",
        "3.  HTTH\n",
        "4.  THHT\n",
        "5.  THTH\n",
        "6.  TTHH"
      ],
      "metadata": {
        "id": "T_UqDb437ldC"
      }
    },
    {
      "cell_type": "markdown",
      "source": [
        "### $\\mathbf{\\sum_{k=0}^{n} \\binom{n}{k} = 2^n}$\n",
        "\n",
        "**The sum of the coefficients in any row of Pascal's Triangle is equal to 2 raised to the power of the row number.**\n",
        "\n",
        "This is a fundamental property of Pascal's Triangle.\n",
        "\n",
        "***\n",
        "\n",
        "#### The Rule: $\\mathbf{\\sum_{k=0}^{n} \\binom{n}{k} = 2^n}$\n",
        "\n",
        "The relationship can be stated formally as:\n",
        "\n",
        "$\\text{Row Sum} = 2^{\\text{Row Number } (n)}$\n",
        "\n",
        "Where:\n",
        "* $n$ is the row number (starting with $n=0$).\n",
        "* The terms in the row are the binomial coefficients, $\\binom{n}{k}$.\n",
        "\n",
        "##### Examples\n",
        "\n",
        "| Row Number ($\\mathbf{n}$) | Pascal's Triangle Row (Coefficients) | Row Sum ($\\mathbf{2^n}$) | Calculation |\n",
        "| :---: | :---: | :---: | :---: |\n",
        "| **0** | $1$ | $1$ | $2^0 = 1$ |\n",
        "| **1** | $1, 1$ | $2$ | $2^1 = 2$ |\n",
        "| **2** | $1, 2, 1$ | $4$ | $2^2 = 4$ |\n",
        "| **3** | $1, 3, 3, 1$ | $8$ | $2^3 = 8$ |\n",
        "| **4** | $1, 4, 6, 4, 1$ | $16$ | $2^4 = 16$ |\n",
        "\n",
        "##### Why This is True (Connection to Outcomes)\n",
        "\n",
        "This relationship holds true because the sum of the coefficients in row $n$ represents the **total number of possible outcomes** in an experiment with $n$ trials (or $n$ coin flips).\n",
        "\n",
        "For any trial, there are always **two possible outcomes** (e.g., Heads or Tails). Therefore, for $n$ independent trials, the total number of distinct outcomes is $2 \\times 2 \\times \\dots \\times 2$ ($n$ times), or $\\mathbf{2^n}$.\n",
        "\n",
        "The coefficients themselves tell you *how those $2^n$ outcomes are distributed* based on the number of successes:\n",
        "$$\\underbrace{\\text{Total Outcomes}}_{\\mathbf{2^n}} = \\underbrace{\\text{Ways to get 0 Successes}}_{\\binom{n}{0}} + \\underbrace{\\text{Ways to get 1 Success}}_{\\binom{n}{1}} + \\dots + \\underbrace{\\text{Ways to get } n \\text{ Successes}}_{\\binom{n}{n}}$$\n",
        "\n",
        "In the context of the 4 coin flips you discussed:\n",
        "$$\\mathbf{16} = 1 (\\text{for } 0H/4T) + 4 (\\text{for } 1H/3T) + 6 (\\text{for } 2H/2T) + 4 (\\text{for } 3H/1T) + 1 (\\text{for } 4H/0T)$$"
      ],
      "metadata": {
        "id": "E64VQyzM8Klj"
      }
    },
    {
      "cell_type": "markdown",
      "source": [
        "### Early Distributions and Expectation\n",
        "\n",
        "* Arithmetical expectation and combinatorics formalize “chance” as mathematics rather than philosophy or custom.\n",
        "* Insurance and mortality: Graunt and Petty analyze Bills of Mortality; Halley constructs a life table—probability meets demography and actuarial science.\n",
        "* Key figures: Cardano, Pascal, Fermat, Huygens, Graunt, Petty, Halley, Bernoulli (Jacob).\n",
        "* Key terms: expectation, sample space, combinations, law of large numbers (Bernoulli), life table, actuarial risk."
      ],
      "metadata": {
        "id": "QLGs_gYeTtCx"
      }
    },
    {
      "cell_type": "markdown",
      "source": [
        "## Probability I\n",
        "\n",
        "**Probability** is a branch of mathematics and statistics that provides a numerical description of how **likely an event is to occur**.\n",
        "\n",
        "The probability of any event is quantified as a single number between **0 and 1**, inclusive:\n",
        "\n",
        "* **0** means the event is **impossible** (e.g., the probability of a coin landing on its edge).\n",
        "* **1** means the event is **certain** (e.g., the probability of the sun rising tomorrow, in practical terms).\n",
        "* **0.5** means the event is **equally likely** to occur or not occur (e.g., the probability of a fair coin landing on heads).\n",
        "\n",
        "---\n",
        "\n",
        "### Defining Probability\n",
        "\n",
        "There are two primary ways to define and calculate probability, both of which are implied in the examples you provided:\n",
        "\n",
        "#### 1. Theoretical (or Classical) Definition\n",
        "This definition relies on mathematical reasoning and assumes all outcomes in an experiment are **equally likely**.\n",
        "\n",
        "$$P(\\text{Event}) = \\frac{\\text{Number of Favorable Outcomes}}{\\text{Total Number of Possible Outcomes}}$$\n",
        "\n",
        "* **Example:** When rolling a fair six-sided die, the theoretical probability of rolling a **4** is $\\frac{1}{6}$, because there is 1 favorable outcome out of 6 total possible outcomes.\n",
        "\n",
        "#### 2. Empirical ( or Frequentist) Definition\n",
        "This definition is based on **observation** and **experimentation**, as highlighted in your examples of Astronomy and Roman Gambling.\n",
        "\n",
        "$$P(\\text{Event}) \\approx \\frac{\\text{Number of Times the Event Occurred}}{\\text{Total Number of Trials (Observations)}}$$\n",
        "\n",
        "* **Example:** If you flip a coin 1,000 times and it lands on heads 503 times, the empirical probability of getting a head is $\\frac{503}{1000} = 0.503$.\n",
        "\n",
        "The Frequentist definition states that as the number of trials increases (approaches infinity), the empirical probability will converge toward the theoretical probability."
      ],
      "metadata": {
        "id": "7c73fUklURel"
      }
    },
    {
      "cell_type": "markdown",
      "source": [
        "### The Core Components\n",
        "\n",
        "#### 1. Sample Space ($\\mathbf{S}$ or $\\mathbf{\\Omega}$)\n",
        "* **Definition:** The **set of all possible outcomes** of a random experiment.\n",
        "* **Example:** When rolling a single six-sided die, the sample space is $S = \\{1, 2, 3, 4, 5, 6\\}$.\n",
        "\n",
        "#### 2. Outcome (or Sample Point)\n",
        "* **Definition:** A single, specific result of a random experiment. It is an element of the sample space.\n",
        "* **Example:** Rolling a **3** is one outcome.\n",
        "\n",
        "#### 3. Event ($\\mathbf{A}, \\mathbf{B}, \\mathbf{E}, \\text{etc.}$)\n",
        "* **Definition:** A specific outcome or a **collection of outcomes** (a subset of the sample space) to which a probability is assigned.\n",
        "* **Example:** Rolling an **even number** is an event, $E = \\{2, 4, 6\\}$.\n",
        "\n",
        "#### 4. Probability ($\\mathbf{P(A)}$)\n",
        "* **Definition:** A numerical measure of the likelihood that a specific event $A$ will occur. It is always a value between **0 and 1**, inclusive.\n",
        "* **Notation:** $P(A)$ reads \"The probability of event A.\"\n",
        "\n",
        "---\n",
        "\n",
        "### Relationships Between Events\n",
        "\n",
        "These terms describe how two or more events interact with each other.\n",
        "\n",
        "#### 5. Complement ($\\mathbf{A^c}$ or $\\mathbf{A'}$ )\n",
        "* **Definition:** The event that **Event A does not occur**. The complement of $A$ includes all outcomes in the sample space that are not in $A$.\n",
        "* **Rule:** $P(A) + P(A^c) = 1$\n",
        "* **Example:** If $A$ is rolling a 4 on a die, the complement $A^c$ is rolling any number **other than 4** ($\\{1, 2, 3, 5, 6\\}$).\n",
        "\n",
        "#### 6. Union ($\\mathbf{A \\cup B}$)\n",
        "* **Definition:** The event that **A or B or both** occur. (Corresponds to the \"OR\" rule, often involving addition).\n",
        "* **Example:** If $A$ is rolling a number $< 3$ ($\\{1, 2\\}$) and $B$ is rolling an even number ($\\{2, 4, 6\\}$), the union $A \\cup B$ is rolling a $\\{1, 2, 4, 6\\}$.\n",
        "\n",
        "#### 7. Intersection ($\\mathbf{A \\cap B}$)\n",
        "* **Definition:** The event that **both A and B** occur simultaneously. (Corresponds to the \"AND\" rule, often involving multiplication).\n",
        "* **Example:** Using the events $A$ and $B$ above, the intersection $A \\cap B$ is rolling a number that is both $< 3$ and even: $\\{\\mathbf{2}\\}$.\n",
        "\n",
        "#### 8. Mutually Exclusive (or Disjoint) Events\n",
        "* **Definition:** Two events that **cannot occur at the same time**; their intersection is the empty set ($\\emptyset$).\n",
        "* **Rule:** If $A$ and $B$ are mutually exclusive, $P(A \\text{ and } B) = P(A \\cap B) = 0$.\n",
        "* **Example:** Rolling an odd number and rolling an even number are mutually exclusive.\n",
        "\n",
        "#### 9. Independent Events\n",
        "* **Definition:** The occurrence of one event **does not affect the probability** of the other event occurring.\n",
        "* **Rule:** $P(A \\text{ and } B) = P(A) \\times P(B)$.\n",
        "* **Example:** Flipping a coin and rolling a die. The coin's result doesn't change the die's probability.\n",
        "\n",
        "#### 10. Conditional Probability ($\\mathbf{P(A \\mid B)}$)\n",
        "* **Definition:** The probability of **Event A occurring, given that Event B has already occurred**. This effectively reduces the size of the sample space to only include outcomes where $B$ happened.\n",
        "* **Rule:** $P(A \\mid B) = \\frac{P(A \\cap B)}{P(B)}$\n",
        "* **Example:** The probability of drawing an Ace on the second draw, **given that** the first card drawn was also an Ace (without replacement)."
      ],
      "metadata": {
        "id": "62Ae9XAg29_w"
      }
    },
    {
      "cell_type": "markdown",
      "metadata": {
        "id": "d4af8014"
      },
      "source": [
        "### Factorial\n",
        "\n",
        "$n!$<br />\n",
        "5! = 1 * 2 * 3 * 4 * 5"
      ]
    },
    {
      "cell_type": "code",
      "execution_count": null,
      "metadata": {
        "colab": {
          "base_uri": "https://localhost:8080/"
        },
        "id": "c5104c32",
        "outputId": "c130f3c8-e1f6-4e2e-f899-dec2abab9ae1"
      },
      "outputs": [
        {
          "output_type": "stream",
          "name": "stdout",
          "text": [
            "[1 2 3 4 5]\n",
            "120\n",
            "fact: 120\n",
            "test: 120\n",
            "comprehension: 120\n",
            "factorial: 120\n"
          ]
        }
      ],
      "source": [
        "import numpy as np\n",
        "from math import factorial\n",
        "\n",
        "n = 5\n",
        "fact = 1\n",
        "test = 1\n",
        "\n",
        "print(np.arange(1, n+1))\n",
        "print(np.arange(1, n+1).prod())\n",
        "for i in range(1, n+1):\n",
        "    fact = fact * i\n",
        "    test *= i # assignment operator https://www.w3schools.com/python/python_operators.asp\n",
        "\n",
        "print('fact:', fact)\n",
        "print('test:', test)\n",
        "print('comprehension:', np.prod([i for i in range(1, n+1)]))\n",
        "print('factorial:', factorial(n))"
      ]
    },
    {
      "cell_type": "markdown",
      "metadata": {
        "id": "0d58e552"
      },
      "source": [
        "### Permutations\n",
        "\n",
        "Order does matter (permutation, position)<br />\n",
        "The combination of a safe\n",
        "\n",
        "$_{n}P_r = \\frac{n!}{(n-r)!}$\n",
        "\n",
        "with repetitions\n",
        "\n",
        "$n^r$"
      ]
    },
    {
      "cell_type": "code",
      "execution_count": null,
      "metadata": {
        "colab": {
          "base_uri": "https://localhost:8080/"
        },
        "id": "14376aa4",
        "outputId": "68f63a56-a8fc-43a6-8471-1815539d79d7"
      },
      "outputs": [
        {
          "output_type": "stream",
          "name": "stdout",
          "text": [
            "[(1, 2, 3), (1, 3, 2), (2, 1, 3), (2, 3, 1), (3, 1, 2), (3, 2, 1)]\n",
            "6.0\n",
            "\n",
            "with repetitions (n^r)\n",
            "[(1, 1, 1), (1, 1, 2), (1, 1, 3), (1, 2, 1), (1, 2, 2), (1, 2, 3), (1, 3, 1), (1, 3, 2), (1, 3, 3), (2, 1, 1), (2, 1, 2), (2, 1, 3), (2, 2, 1), (2, 2, 2), (2, 2, 3), (2, 3, 1), (2, 3, 2), (2, 3, 3), (3, 1, 1), (3, 1, 2), (3, 1, 3), (3, 2, 1), (3, 2, 2), (3, 2, 3), (3, 3, 1), (3, 3, 2), (3, 3, 3)]\n",
            "27\n"
          ]
        }
      ],
      "source": [
        "from itertools import permutations, product\n",
        "\n",
        "l = [1, 2, 3]\n",
        "n = len(l)\n",
        "r = 3\n",
        "\n",
        "perms = permutations(l)\n",
        "print(list(perms))\n",
        "print(factorial(n)/factorial(n - r))\n",
        "print()\n",
        "print('with repetitions (n^r)')\n",
        "print([p for p in product(l, repeat=r)])\n",
        "print(n**r)"
      ]
    },
    {
      "cell_type": "markdown",
      "metadata": {
        "id": "eb335ec6"
      },
      "source": [
        "#### Example\n",
        "\n",
        "$_{n}P_r = \\frac{n!}{(n-r)!}$"
      ]
    },
    {
      "cell_type": "code",
      "execution_count": null,
      "metadata": {
        "colab": {
          "base_uri": "https://localhost:8080/"
        },
        "id": "68a7dcf3",
        "outputId": "1aaef663-e7ae-4c73-cf89-83ad84cfae88"
      },
      "outputs": [
        {
          "output_type": "stream",
          "name": "stdout",
          "text": [
            "[(1, 2), (1, 3), (2, 1), (2, 3), (3, 1), (3, 2)]\n",
            "6.0\n"
          ]
        }
      ],
      "source": [
        "from itertools import permutations, product\n",
        "\n",
        "l = [1, 2, 3]\n",
        "n = len(l)\n",
        "r = 2\n",
        "\n",
        "perms = permutations(l, r)\n",
        "print(list(perms))\n",
        "\n",
        "print(factorial(n)/factorial(n - r))"
      ]
    },
    {
      "cell_type": "markdown",
      "metadata": {
        "id": "ff70cd10"
      },
      "source": [
        "#### Another Example\n",
        "\n",
        "$_{16}P_{3}$ = $\\frac{16!}{(16-3)!}$ = 16 x 15 x 14 = 3,360"
      ]
    },
    {
      "cell_type": "code",
      "execution_count": null,
      "metadata": {
        "colab": {
          "base_uri": "https://localhost:8080/"
        },
        "id": "aa07856e",
        "outputId": "5eab8909-4e91-49d4-c57e-bad13e3d1444"
      },
      "outputs": [
        {
          "output_type": "stream",
          "name": "stdout",
          "text": [
            "3360.0\n",
            "3360\n"
          ]
        }
      ],
      "source": [
        "# solve\n",
        "n = 16\n",
        "r = 3\n",
        "print(factorial(n)/factorial(n - r))\n",
        "print(16 * 15 * 14)"
      ]
    },
    {
      "cell_type": "markdown",
      "metadata": {
        "id": "69a01606"
      },
      "source": [
        "$_{10}P_{2}$ = $\\frac{10!}{(10-2)!}$ = 10 x 9 = 90"
      ]
    },
    {
      "cell_type": "code",
      "execution_count": null,
      "metadata": {
        "colab": {
          "base_uri": "https://localhost:8080/"
        },
        "id": "a5fdda80",
        "outputId": "65b0ae13-2603-4a93-9267-90999f3667f6"
      },
      "outputs": [
        {
          "output_type": "stream",
          "name": "stdout",
          "text": [
            "90.0\n",
            "90\n"
          ]
        }
      ],
      "source": [
        "n = 10\n",
        "r = 2\n",
        "print(factorial(n)/factorial(n - r))\n",
        "print(10 * 9)"
      ]
    },
    {
      "cell_type": "markdown",
      "metadata": {
        "id": "be2b8ad3"
      },
      "source": [
        "#### Four digit combination using number 0 - 9 without repetition\n",
        "\n",
        "$_{10}P_{4}$"
      ]
    },
    {
      "cell_type": "code",
      "execution_count": null,
      "metadata": {
        "colab": {
          "base_uri": "https://localhost:8080/"
        },
        "id": "e77891dd",
        "outputId": "dc802e54-7dc0-4410-ec06-03328bcc5217"
      },
      "outputs": [
        {
          "output_type": "stream",
          "name": "stdout",
          "text": [
            "5040.0\n",
            "5040\n"
          ]
        }
      ],
      "source": [
        "# how many permutations without repetition?\n",
        "n = 10\n",
        "r = 4\n",
        "print(factorial(n)/factorial(n - r))\n",
        "print(10 * 9 * 8 * 7)"
      ]
    },
    {
      "cell_type": "markdown",
      "metadata": {
        "id": "018d2d4c"
      },
      "source": [
        "### Combinations\n",
        "\n",
        "Order doesn't matter<br />\n",
        "Items on a pizza\n",
        "\n",
        "$C(n,r) = C_r^{n} = {_nC_r} = \\binom {n}{r}  = \\frac{n!}{r!(n-r)!}$"
      ]
    },
    {
      "cell_type": "code",
      "execution_count": null,
      "metadata": {
        "colab": {
          "base_uri": "https://localhost:8080/"
        },
        "id": "3c975b2d",
        "outputId": "91db95ee-e717-4107-e378-e8f1187608e4"
      },
      "outputs": [
        {
          "output_type": "stream",
          "name": "stdout",
          "text": [
            "[(1, 2), (1, 3), (2, 3)]\n",
            "3.0\n"
          ]
        }
      ],
      "source": [
        "from itertools import combinations\n",
        "\n",
        "l = [1, 2, 3]\n",
        "n = len(l)\n",
        "r = 2\n",
        "combs = combinations(l, r)\n",
        "print(list(combs))\n",
        "print(factorial(n)/(factorial(r) * factorial(n - r)))"
      ]
    },
    {
      "cell_type": "markdown",
      "metadata": {
        "id": "fad946b2"
      },
      "source": [
        "**Practice**\n",
        "\n",
        "Solve ${_nC_r} = \\binom {n}{r}  = \\frac{n!}{r!(n-r)!}$<br />\n",
        "Where n = 10 and r = 4"
      ]
    },
    {
      "cell_type": "code",
      "execution_count": null,
      "metadata": {
        "colab": {
          "base_uri": "https://localhost:8080/"
        },
        "id": "225743e5",
        "outputId": "cd5fd796-b541-4a74-a640-1c14cb5a5aa0"
      },
      "outputs": [
        {
          "output_type": "stream",
          "name": "stdout",
          "text": [
            "210.0\n"
          ]
        }
      ],
      "source": [
        "# solve\n",
        "n = 10\n",
        "r = 4\n",
        "print(factorial(n)/(factorial(r) * factorial(n - r)))"
      ]
    },
    {
      "cell_type": "markdown",
      "metadata": {
        "id": "6af51749"
      },
      "source": [
        "**Relationship with permutations**<br />\n",
        "${_nC_r}$ * $r!$ = permutations"
      ]
    },
    {
      "cell_type": "code",
      "execution_count": null,
      "metadata": {
        "colab": {
          "base_uri": "https://localhost:8080/"
        },
        "id": "531eb54f",
        "outputId": "7432d589-d8d4-4515-fb21-970247577376"
      },
      "outputs": [
        {
          "output_type": "execute_result",
          "data": {
            "text/plain": [
              "5040"
            ]
          },
          "metadata": {},
          "execution_count": 12
        }
      ],
      "source": [
        "# solve and compare to permutation where n = 10 and r = 4\n",
        "# see figure 1 http://mathandmultimedia.com/2010/01/02/intro-to-combinations/\n",
        "210 * factorial(4)"
      ]
    },
    {
      "cell_type": "markdown",
      "metadata": {
        "id": "f5248205"
      },
      "source": [
        "#### With Replacement\n",
        "\n",
        "$_{n+r-1}C_r = \\frac{(r+n-1)!}{r!(n-1)!}$"
      ]
    },
    {
      "cell_type": "code",
      "execution_count": null,
      "metadata": {
        "colab": {
          "base_uri": "https://localhost:8080/"
        },
        "id": "d6ab3b19",
        "outputId": "10e07ab1-64a3-4a50-bcda-11e494d8cf6b"
      },
      "outputs": [
        {
          "output_type": "stream",
          "name": "stdout",
          "text": [
            "[(1, 1, 1, 1), (1, 1, 1, 2), (1, 1, 1, 3), (1, 1, 2, 2), (1, 1, 2, 3), (1, 1, 3, 3), (1, 2, 2, 2), (1, 2, 2, 3), (1, 2, 3, 3), (1, 3, 3, 3), (2, 2, 2, 2), (2, 2, 2, 3), (2, 2, 3, 3), (2, 3, 3, 3), (3, 3, 3, 3)]\n",
            "715.0\n"
          ]
        }
      ],
      "source": [
        "from itertools import combinations_with_replacement\n",
        "\n",
        "combs = combinations_with_replacement(l, r)\n",
        "print(list(combs))\n",
        "print(factorial(n+r-1)/(factorial(r)*factorial(n-1)))"
      ]
    },
    {
      "cell_type": "markdown",
      "metadata": {
        "id": "7acc7d0f"
      },
      "source": [
        "### Intersections\n",
        "\n",
        "$A \\cap B = \\{\\: x: x \\in A \\: and \\: x \\in B \\:\\}$\n",
        "\n",
        "order doesn't matter $A \\cap B$ or $B \\cap A$"
      ]
    },
    {
      "cell_type": "code",
      "execution_count": null,
      "metadata": {
        "scrolled": true,
        "colab": {
          "base_uri": "https://localhost:8080/",
          "height": 461
        },
        "id": "0c0b126d",
        "outputId": "8dddd590-717c-4723-a72a-af932690e768"
      },
      "outputs": [
        {
          "output_type": "stream",
          "name": "stdout",
          "text": [
            "[3, 4]\n",
            "{3, 4}\n",
            "{3, 4}\n"
          ]
        },
        {
          "output_type": "display_data",
          "data": {
            "text/plain": [
              "<Figure size 640x480 with 1 Axes>"
            ],
            "image/png": "[encoded data removed]"
          },
          "metadata": {}
        }
      ],
      "source": [
        "# https://anaconda.org/conda-forge/matplotlib-venn\n",
        "# https://pypi.org/project/matplotlib-venn/\n",
        "# https://towardsdatascience.com/visualizing-intersections-and-overlaps-with-python-a6af49c597d9\n",
        "# https://practicaldatascience.co.uk/data-science/how-to-visualise-data-using-venn-diagrams-in-matplotlib\n",
        "\n",
        "import matplotlib.pyplot as plt\n",
        "from matplotlib_venn import venn2, venn2_circles\n",
        "\n",
        "set1 = {1, 2, 3, 4}\n",
        "set2 = {3, 4, 5, 6, 7, 8}\n",
        "print([value for value in set1 if value in set2])\n",
        "print(set1 & set2)\n",
        "print(set1.intersection(set2))\n",
        "\n",
        "venn2([set1, set2])\n",
        "plt.show()"
      ]
    },
    {
      "cell_type": "markdown",
      "metadata": {
        "id": "27deb30d"
      },
      "source": [
        "#### Independent\n",
        "\n",
        "$P(A \\cap B) = P(A) * P(B)$"
      ]
    },
    {
      "cell_type": "code",
      "execution_count": null,
      "metadata": {
        "colab": {
          "base_uri": "https://localhost:8080/"
        },
        "id": "ee2a24e4",
        "outputId": "8cf44969-c0e8-4c28-8ca8-430c5bbdcc84"
      },
      "outputs": [
        {
          "output_type": "stream",
          "name": "stdout",
          "text": [
            "[1, 2, 3, 4]\n",
            "0.4\n",
            "[1, 3, 5, 7, 9]\n",
            "0.5\n",
            "Probability of < 5 and odd: 0.2\n"
          ]
        }
      ],
      "source": [
        "# what's the probability of a random pick of a number from 1 - 10 if P(A) less than 5 and P(B) odd\n",
        "# filter https://www.pythonlikeyoumeanit.com/Module2_EssentialsOfPython/Iterables.html\n",
        "event_space = [1, 2, 3, 4, 5, 6, 7, 8, 9, 10]\n",
        "N = len(event_space)\n",
        "a = filter(lambda x: x < 5, event_space)\n",
        "a = list(a)\n",
        "print(a)\n",
        "pa = len(list(a))/N\n",
        "print(pa)\n",
        "b = filter(lambda x: x % 2 == 1, event_space)\n",
        "b = list(b)\n",
        "print(b)\n",
        "pb = len(list(b))/N\n",
        "print(pb)\n",
        "print(f'Probability of < 5 and odd: {pa * pb}')"
      ]
    },
    {
      "cell_type": "markdown",
      "metadata": {
        "id": "790132d3"
      },
      "source": [
        "#### Dependent\n",
        "\n",
        "$P(A \\cap B) = P(A) * P(B|A) = P(B) * P(A|B)$<br />\n",
        "also expressed as P(A and B) = P(A) * P(B given A)"
      ]
    },
    {
      "cell_type": "code",
      "execution_count": null,
      "metadata": {
        "colab": {
          "base_uri": "https://localhost:8080/"
        },
        "id": "2a74c112",
        "outputId": "511b0991-660e-4c9b-8f86-f6c31d9f3534"
      },
      "outputs": [
        {
          "output_type": "stream",
          "name": "stdout",
          "text": [
            "Probability of picking two blue marbles from this bag:\n",
            "{'red': 3, 'blue': 2}\n",
            "Probability of picking a blue: 0.4\n",
            "Bag minus one blue:\n",
            "{'red': 3, 'blue': 1}\n",
            "Probability of picking another blue with just four marbles: 0.25\n",
            "\n",
            "Probability of picking two blue marbles in a row: 0.1\n"
          ]
        }
      ],
      "source": [
        "# https://www.mathsisfun.com/data/probability-events-conditional.html\n",
        "# https://en.wikipedia.org/wiki/Sample_space\n",
        "# number of outcomes in event / total possible outcomes in sample space\n",
        "\n",
        "bag = ['red', 'red', 'red', 'blue', 'blue']\n",
        "mcolor = 'blue'\n",
        "print(f'Probability of picking two {mcolor} marbles from this bag:')\n",
        "bag_dict = {item:bag.count(item) for item in bag}\n",
        "print(bag_dict)\n",
        "\n",
        "# P(A) probability of picking blue 2 / 5\n",
        "pa = bag_dict[mcolor] / len(bag)\n",
        "print(f'Probability of picking a {mcolor}: {pa}')\n",
        "bag.remove(mcolor)\n",
        "print(f'Bag minus one {mcolor}:')\n",
        "bag_dict = {item:bag.count(item) for item in bag}\n",
        "print(bag_dict)\n",
        "print(f'Probability of picking another {mcolor} with just four marbles: {(bag_dict[mcolor] / len(bag))}')\n",
        "print()\n",
        "# P(B|A) probability of picking another blue given you already picked a blue\n",
        "print(f'Probability of picking two {mcolor} marbles in a row: {pa * (bag_dict[mcolor] / len(bag))}')"
      ]
    },
    {
      "cell_type": "markdown",
      "metadata": {
        "id": "ede727d1"
      },
      "source": [
        "### Unions\n",
        "\n",
        "$P(A \\cup B) = P(A) + P(B) - P(A \\cap B)$<br />\n",
        "also expressed P(A or B)<br />\n",
        "order doesn't matter"
      ]
    },
    {
      "cell_type": "code",
      "execution_count": null,
      "metadata": {
        "colab": {
          "base_uri": "https://localhost:8080/",
          "height": 514
        },
        "id": "d8c48ad6",
        "outputId": "82b228d3-6b6b-4be4-8340-876f19ed55fe"
      },
      "outputs": [
        {
          "output_type": "stream",
          "name": "stdout",
          "text": [
            "[1, 2, 3, 4, 5, 6, 7, 8, 9, 10]\n",
            "[1, 2, 3, 4]\n",
            "0.4\n",
            "[1, 3, 5, 7, 9]\n",
            "0.5\n",
            "Probability of the union of A or B is 0.7\n"
          ]
        },
        {
          "output_type": "display_data",
          "data": {
            "text/plain": [
              "<Figure size 640x480 with 1 Axes>"
            ],
            "image/png": "[encoded data removed]"
          },
          "metadata": {}
        }
      ],
      "source": [
        "# what's the probability of a random pick of a number from 1 - 10 is P(A) less than 5 or P(B) odd\n",
        "print(event_space)\n",
        "print(a)\n",
        "print(pa)\n",
        "print(b)\n",
        "print(pb)\n",
        "print(f'Probability of the union of A or B is {pa + pb - (pa * pb)}')\n",
        "\n",
        "venn2([set(a), set(b)])\n",
        "plt.show()"
      ]
    },
    {
      "cell_type": "markdown",
      "metadata": {
        "id": "87e841dd"
      },
      "source": [
        "#### Unions if mutually exclusive (vs. disjoint)\n",
        "\n",
        "$P(A \\cup B) = P(A) + P(B) - P(A \\cap B)$ where $P(A \\cap B) = 0$\n",
        "<br />so<br />\n",
        "$P(A \\cup B) = P(A) + P(B)$\n",
        "\n",
        "Mutually Exclusive: $P(A \\cap B) = 0$<br />\n",
        "Disjoint (dealing in sets): $A \\cap B = 0$"
      ]
    },
    {
      "cell_type": "code",
      "execution_count": null,
      "metadata": {
        "colab": {
          "base_uri": "https://localhost:8080/",
          "height": 370
        },
        "id": "fe15cd1e",
        "outputId": "ede7a910-a404-4199-b048-39c3d9d9d7e1"
      },
      "outputs": [
        {
          "output_type": "stream",
          "name": "stdout",
          "text": [
            "[1, 2, 3, 4, 5, 6, 7, 8, 9, 10]\n",
            "[2, 4, 6, 8, 10]\n",
            "0.5\n",
            "[1, 3, 5, 7, 9]\n",
            "0.5\n",
            "set()\n"
          ]
        },
        {
          "output_type": "display_data",
          "data": {
            "text/plain": [
              "<Figure size 640x480 with 1 Axes>"
            ],
            "image/png": "[encoded data removed]"
          },
          "metadata": {}
        }
      ],
      "source": [
        "# is drawing an even number or odd number mutually exclusive?\n",
        "print(event_space)\n",
        "N = len(event_space)\n",
        "c = filter(lambda x: x % 2 == 0, event_space)\n",
        "c = list(c)\n",
        "print(c)\n",
        "pc = len(list(c))/N\n",
        "print(pc)\n",
        "d = filter(lambda x: x % 2 == 1, event_space)\n",
        "d = list(d)\n",
        "print(d)\n",
        "pd = len(list(d))/N\n",
        "print(pd)\n",
        "print(set(c).intersection(set(d)))\n",
        "\n",
        "venn2([set(c), set(d)])\n",
        "plt.show()"
      ]
    },
    {
      "cell_type": "markdown",
      "metadata": {
        "id": "67cfe7cd"
      },
      "source": [
        "### Compliment\n",
        "\n",
        "Compliment of $A$ is $\\bar{A}$\n",
        "\n",
        "Is the compliment of A mutually exclusive with A?"
      ]
    },
    {
      "cell_type": "markdown",
      "source": [
        "### Bernoulli\n",
        "\n",
        "Jacob Bernoulli was one of the founding fathers of probability theory, and his key contribution, the **Law of Large Numbers**, forms the bedrock of the frequentist interpretation of probability.\n",
        "\n",
        "Jacob Bernoulli and the Frequentist Perspective\n",
        "\n",
        "Jacob Bernoulli's most significant work, **Ars Conjectandi** (*The Art of Conjecturing*), published posthumously in 1713, laid the mathematical foundation for the **Frequentist** view of probability through his key theorem:\n",
        "\n",
        "The Weak Law of Large Numbers (WLLN)\n",
        "\n",
        "This law mathematically proves that:\n",
        "\n",
        "The **relative frequency** of a random event (e.g., the proportion of heads in coin flips) will converge to the **true underlying probability** of that event as the number of trials increases.\n",
        "\n",
        "| Aspect | Bernoulli's Frequentist Perspective |\n",
        "| :--- | :--- |\n",
        "| **Definition of Probability** | Probability is the **limit of relative frequency** over an infinite number of trials. |\n",
        "| **Focus** | On the **data** and the procedure. The probability of an event is an **objective, fixed property** of the experiment (e.g., a coin has a fixed 50% chance of heads). |\n",
        "| **How to Find Probability** | By **a posteriori** (after the fact) observation and repetition of the experiment many times. |\n",
        "\n",
        "Frequentist vs. Bayesian Perspective\n",
        "\n",
        "The difference between the two perspectives boils down to their fundamental definition of what \"probability\" means and the role of prior knowledge.\n",
        "\n",
        "| Feature | Frequentist (Bernoulli's Legacy) | Bayesian (Thomas Bayes' Legacy) |\n",
        "| :--- | :--- | :--- |\n",
        "| **What is Probability?** | An **objective, fixed long-run frequency** of an event. | A **subjective degree of belief** or confidence. |\n",
        "| **Role of Parameters** | Parameters (like the true probability of heads) are **fixed, unknown constants**. | Parameters are **random variables** with their own probability distributions. |\n",
        "| **Role of Prior Knowledge** | **Ignored** or does not formally enter the model. Inference is based only on the **current data (Likelihood)**. | **Crucial.** An initial belief (**Prior**) is formally combined with new data (**Likelihood**) to form an updated belief (**Posterior**). |\n",
        "| **Conclusion** | States the probability of the **data**, given a hypothesis (e.g., *p*-values, confidence intervals). | States the probability of the **hypothesis**, given the data (e.g., credible intervals). |\n",
        "\n",
        "In short, Bernoulli provided the mathematical proof that you can **learn the true probability from data** by repeating an experiment (the frequentist method). Bayes provided the mathematical framework (**Bayes' Theorem**) for how you can **update your belief about a probability** by incorporating both prior knowledge and new data (the Bayesian method)."
      ],
      "metadata": {
        "id": "Fs_fcAHzUCNj"
      }
    },
    {
      "cell_type": "markdown",
      "source": [
        "### The Bernoulli Trial\n",
        "\n",
        "A foundational building block of probability is the **Bernoulli trial**, a single experiment that has only two possible outcomes, conventionally labeled \"**success**\" and \"**failure**\". These trials are assumed to be **independent**, with the probability of success, $p$, and the probability of failure, $1-p$, remaining constant. When a sequence of $n$ such trials is conducted, the number of successes follows a **binomial distribution**, which is a **discrete probability distribution**.\n",
        "\n",
        "The probability of observing exactly $k$ successes in $n$ independent trials is given by the **probability mass function (PMF)**:\n",
        "\n",
        "$$P(X=k)=\\binom{n}{k}p^k(1-p)^{n-k}$$\n",
        "\n",
        "In this formula, $\\binom{n}{k}$ is the **binomial coefficient**, which represents the number of ways to choose $k$ successes from $n$ trials. The term $p^k(1-p)^{n-k}$ represents the probability of a specific sequence of $k$ successes and $n-k$ failures.\n",
        "\n",
        "The **mean (expected value)** and **variance** of a binomial distribution are given by the simple formulas:\n",
        "\n",
        "$$\\text{E}[X]=np$$\n",
        "\n",
        "$$\\text{Var}(X)=np(1-p)$$\n",
        "\n",
        "These results derive from the linearity of expectation and the assumption of independence.\n"
      ],
      "metadata": {
        "id": "xYhkw6elupMR"
      }
    },
    {
      "cell_type": "markdown",
      "source": [
        "## The Binomial Distribution\n",
        "\n",
        "The binomial distribution's historical context is rooted in the early development of **probability theory** and its application to **games of chance** during the late 17th and early 18th centuries.\n",
        "\n",
        "The concept was formally derived and published by the Swiss mathematician **Jacob Bernoulli** in his monumental work, ***Ars Conjectandi*** (Latin for \"The Art of Conjecturing\").\n",
        "\n",
        "**The Age of Early Probability**\n",
        "\n",
        "The 17th century saw the formal mathematical study of probability emerge, driven largely by aristocratic interest in quantifying risk in games of chance. Pioneers like **Blaise Pascal** and **Pierre de Fermat** laid the groundwork by solving famous problems, such as the **Problem of Points** (how to fairly divide stakes in an interrupted game).\n",
        "\n",
        "**Jacob Bernoulli and Ars Conjectandi**\n",
        "\n",
        "Jacob Bernoulli (1654–1705) took these initial ideas and systematically built a rigorous foundation for probability theory.\n",
        "\n",
        "* **The Work:** Bernoulli developed the principles of the binomial distribution between 1684 and 1689. His book, ***Ars Conjectandi***, was written during this time but was only published posthumously in **1713** by his nephew, Nicolaus I Bernoulli.\n",
        "* **The Problem Addressed:** Bernoulli's work focused on sequences of independent trials, each with only two outcomes (often called a **Bernoulli Trial** or success/failure). He sought a mathematical way to determine the probability of getting a specific number of \"successes\" over a fixed number of trials, where the probability of success, $p$, might not be $1/2$.\n",
        "* **The Insight:** Bernoulli proved that the probability of $k$ successes in $n$ trials is given by the $k$-th term in the expansion of the binomial expression $(p + q)^n$, where $q = 1-p$. This relationship is where the distribution gets its name.\n",
        "\n",
        "**The Law of Large Numbers**\n",
        "\n",
        "Crucially, Bernoulli used the distribution to prove what is now known as **Bernoulli's Theorem**, the first version of the **Weak Law of Large Numbers (WLLN)**. This was perhaps his most profound contribution, as it transitioned probability theory from pure theoretical games into a practical tool for statistics.\n",
        "\n",
        "The theorem essentially proved that as the number of trials ($n$) increases, the observed proportion of successes will converge to the theoretical probability ($p$) of success. This provided a formal mathematical justification for estimating unknown probabilities (like the proportion of black pebbles in an urn) by performing repeated trials, thus moving the field toward **statistical inference**.\n",
        "\n",
        "**Link to the Normal Distribution**\n",
        "\n",
        "The binomial distribution later became the foundational link to the **Normal Distribution**. As discussed previously, **Abraham de Moivre** used the binomial distribution for very large $n$ to derive the bell-shaped curve, formalizing the **De Moivre–Laplace Theorem** and establishing the first version of the **Central Limit Theorem**.\n",
        "\n",
        "The initial discovery of the normal distribution, or the bell curve, came from studying the binomial distribution's behavior for a large number of trials.\n",
        "\n",
        "**De Moivre (1733)**\n",
        "\n",
        "The key figure in this development was the French mathematician **Abraham de Moivre**.\n",
        "\n",
        "* **The Problem:** De Moivre was solving complex problems in gambling that required calculating probabilities for the **binomial distribution** for a very large number of trials ($n$). The factorial calculations involved (like $n!$) were extremely tedious.\n",
        "* **The Solution:** He noticed that as the number of trials ($n$) increased, the discrete probability histogram of the binomial distribution (for $p=0.5$) took on a smooth, symmetric, **bell-shaped curve**. He successfully derived the formula for this curve, which is the **Normal Distribution**.\n",
        "* **The Result:** His work established that the normal distribution could be used to **approximate** the binomial distribution when $n$ is large, drastically simplifying calculations.\n",
        "\n",
        "**The De Moivre–Laplace Theorem**\n",
        "\n",
        "De Moivre's initial finding was later generalized and formalized by **Pierre-Simon Laplace** (around 1812).\n",
        "\n",
        "The **De Moivre–Laplace Theorem** is a specific case of the **Central Limit Theorem (CLT)**, and it states that as the number of trials ($n$) in a binomial distribution (with parameters $n$ and $p$) becomes very large, the distribution of the number of successes approaches the **Normal Distribution** with:\n",
        "\n",
        "$$\\text{Mean } (\\mu) = np$$\n",
        "$$\\text{Variance } (\\sigma^2) = np(1-p)$$\n",
        "\n",
        "While the discovery of the normal distribution was rooted in the binomial approximation, it wasn't the *only* path to the curve. Later, **Carl Friedrich Gauss** independently derived the same formula (which is why it's also called the Gaussian distribution) when studying **measurement errors** in astronomy, treating it as the \"law of errors.\" However, the **temporal precedence** for its initial mathematical form goes to de Moivre's work on the binomial distribution."
      ],
      "metadata": {
        "id": "up1GvqD_k7rV"
      }
    },
    {
      "cell_type": "markdown",
      "source": [
        "### The Longitude Problem: Navigational Imperatives\n",
        "\n",
        "While astronomy provided the intellectual framework for error theory, the practical demands of maritime navigation drove the professionalization and industrialization of statistical work. The \"longitude problem\" was the immense difficulty of determining a ship's east-west position when out of sight of land, a problem that led to countless shipwrecks and the loss of lives and cargo. A nation that could solve this problem could rule the waves, as evidenced by the British Parliament's Longitude Act of 1714, which offered a prize of up to £20,000 for a reliable solution. At its heart, the problem was one of timekeeping. Since the Earth rotates once per day, the time difference between a ship's local time and a fixed reference point like the Greenwich Meridian could be used to calculate its longitude.\n"
      ],
      "metadata": {
        "id": "_KHMAGhmVo7G"
      }
    },
    {
      "cell_type": "markdown",
      "source": [
        "## Thomas Bayes and David Humes\n",
        "\n",
        "David Hume (1711–1776)\n",
        "\n",
        "Hume was a Scottish philosopher and is often associated with the philosophical underpinnings of skepticism and empiricism. His work, particularly his questioning of cause and effect and the problem of induction, is relevant to the philosophical debates surrounding probability and certainty that were happening during this period. He argued that our belief in causality comes from \"custom and mental habit\" rather than rational justification. While not a mathematician like many of his contemporaries, his philosophical ideas on the limits of human knowledge and inductive reasoning are part of the broader intellectual context in which statistical and probabilistic concepts were being developed.\n",
        "\n",
        "Philosophical contribution: Questioned the basis of causality and inductive reasoning, influencing the intellectual context for probability theory.\n",
        "\n",
        "Thomas Bayes (1701/1702–1761)\n",
        "\n",
        "Bayes was an English statistician and minister. His most significant contribution is the theorem that now bears his name, which was published posthumously in 1763. Bayes's theorem provides a way to update the probability of a hypothesis as new evidence becomes available. This work was a critical step in moving the field from just calculating the probability of an event to inferring causes from observed data.\n",
        "\n",
        "Key Contribution: His work, published posthumously, introduced the first method for inverse probability, which is now known as Bayes's theorem, a foundational concept for statistical inference."
      ],
      "metadata": {
        "id": "hv5_fOXV-5u-"
      }
    },
    {
      "cell_type": "markdown",
      "source": [
        "### David Hume and the Problem of Induction\n",
        "\n",
        "Hume did not deny that humans use induction; rather, he argued that it **cannot be logically justified** through pure reason or experience.\n",
        "\n",
        "Hume's Central Argument (The Circularity of Induction)\n",
        "\n",
        "All inductive reasoning—from observing the sun rise every day to concluding that a flame will always cause heat—relies on the hidden assumption known as the **Principle of Uniformity of Nature (PUN)**: that **unobserved instances will resemble observed instances** (i.e., the future will be like the past).\n",
        "\n",
        "Hume then asks how this PUN can be rationally justified:\n",
        "\n",
        "1.  **A priori reasoning (Logic):** The opposite of the PUN (that the future will *not* resemble the past) is conceivable and does not lead to a logical contradiction (e.g., you can easily imagine the sun not rising tomorrow). Therefore, the PUN cannot be justified by logic alone.\n",
        "2.  **A posteriori reasoning (Experience):** If we try to justify the PUN by saying, \"It has always worked in the past, so it will work in the future,\" we fall into **circular reasoning**. We are using the very principle of induction to justify the principle of induction itself.\n",
        "\n",
        "Hume concludes that our reliance on induction is based not on logic, but on **psychological habit** or **instinct**.\n",
        "\n",
        "\n"
      ],
      "metadata": {
        "id": "HvzdLFSI_7-s"
      }
    },
    {
      "cell_type": "markdown",
      "source": [
        "### Bayes and the Sunrise"
      ],
      "metadata": {
        "id": "i65MbonXAMnr"
      }
    },
    {
      "cell_type": "markdown",
      "source": [
        "### Inductive Reasoning vs. Deductive Reasoning\n",
        "\n",
        "Inductive and deductive reasoning are the two main types of logical inference, distinguished by the direction of their movement and the certainty of their conclusions.\n",
        "\n",
        "| Feature | Inductive Reasoning | Deductive Reasoning |\n",
        "| :--- | :--- | :--- |\n",
        "| **Direction** | **Specific to General** (Bottom-up) | **General to Specific** (Top-down) |\n",
        "| **Goal** | To **develop a theory** or find a general rule. | To **test a theory** or apply a known rule. |\n",
        "| **Certainty of Conclusion** | **Probable/Likely.** The conclusion contains new information not present in the premises, making it only probable (even if the premises are true). | **Certain/Guaranteed.** The conclusion is necessarily true if the premises are true (a **valid** argument). |\n",
        "| **Example** | **Premises:** *Every swan I have ever seen is white.* **Conclusion:** *Therefore, all swans are white.* (A new observation could prove this false.) | **Premises:** *All men are mortal. Socrates is a man.* **Conclusion:** *Therefore, Socrates is mortal.* (The conclusion is inescapable.) |\n",
        "| **Used in** | Forming scientific **hypotheses** and general laws. | Applying scientific laws or proving mathematical **theorems**. |"
      ],
      "metadata": {
        "id": "WCXMo47tAHlj"
      }
    },
    {
      "cell_type": "markdown",
      "source": [
        "## 19th Century: Error Theory, Least Squares, and Statistical Thinking (1800–1900)\n",
        "\n",
        "\n"
      ],
      "metadata": {
        "id": "zhd9z2dHBcCy"
      }
    },
    {
      "cell_type": "markdown",
      "source": [
        "### Error distributions and estimation\n",
        "\n",
        "* Legendre and Gauss propose Least Squares for orbit determination; Gauss links it to the normal law and maximum likelihood reasoning.\n",
        "* Bessel introduces the n−1 degrees-of-freedom correction for variance estimation (Bessel’s correction).\n",
        "\n",
        "\n"
      ],
      "metadata": {
        "id": "XgJjKqlSBzJS"
      }
    },
    {
      "cell_type": "markdown",
      "source": [
        "### Least Squares\n",
        "\n",
        "The method of least squares was developed independently by Legendre and Gauss to solve a very practical problem in astronomy and geodesy: how to combine multiple, flawed measurements to estimate the true value of an unknown quantity, like a comet's orbit or a planet's position.\n",
        "\n",
        "Legendre's Contribution (1805): French mathematician Adrien-Marie Legendre was the first to publish the method in his work Nouvelles méthodes pour la détermination des orbites des comètes. He presented it simply as a computational technique for finding a line that best fits a set of data points by minimizing the sum of the squares of the errors (residuals)."
      ],
      "metadata": {
        "id": "OI7LpoyHDhWB"
      }
    },
    {
      "cell_type": "code",
      "source": [
        "# fitted model\n",
        "import numpy as np\n",
        "import matplotlib.pyplot as plt\n",
        "\n",
        "np.random.seed(42)\n",
        "X = np.arange(10, 30) # X values from 10 to 29\n",
        "# True relationship: Y = 50000 + 3000 * X + noise\n",
        "true_slope = 3000\n",
        "true_intercept = 50000\n",
        "noise = np.random.normal(0, 10000, size=len(X))\n",
        "Y = true_intercept + true_slope * X + noise\n",
        "\n",
        "x_mean = np.mean(X)\n",
        "y_mean = np.mean(Y)\n",
        "numerator = np.sum((X - x_mean) * (Y - y_mean))\n",
        "denominator = np.sum((X - x_mean)**2)\n",
        "b_slope = numerator / denominator\n",
        "a_intercept = y_mean - b_slope * x_mean\n",
        "Y_predicted = a_intercept + b_slope * X\n",
        "\n",
        "plt.figure(figsize=(10, 6))\n",
        "plt.scatter(X, Y, color='blue', label='Observed Data Points')\n",
        "plt.plot(X, Y_predicted, color='red', label='Least Squares Fitted Line')\n",
        "\n",
        "for i in range(len(X)):\n",
        "    plt.plot([X[i], X[i]], [Y[i], Y_predicted[i]], 'k--', alpha=0.3)\n",
        "\n",
        "plt.title('Simple Linear Regression (Least Squares Fit)')\n",
        "plt.xlabel('X (Independent Variable)')\n",
        "plt.ylabel('Y (Dependent Variable)')\n",
        "plt.legend()\n",
        "plt.grid(True, linestyle='--', alpha=0.6)\n",
        "plt.show()\n",
        "\n",
        "print(f\"Calculated Slope (b): {b_slope:.2f}\")\n",
        "print(f\"Calculated Intercept (a): {a_intercept:.2f}\")"
      ],
      "metadata": {
        "colab": {
          "base_uri": "https://localhost:8080/",
          "height": 599
        },
        "id": "WbzDcdmEELdG",
        "outputId": "dc8093ba-aa02-4b57-bafc-bfeb0f1facc4"
      },
      "execution_count": null,
      "outputs": [
        {
          "output_type": "display_data",
          "data": {
            "text/plain": [
              "<Figure size 1000x600 with 1 Axes>"
            ],
            "image/png": "[encoded data removed]"
          },
          "metadata": {}
        },
        {
          "output_type": "stream",
          "name": "stdout",
          "text": [
            "Calculated Slope (b): 2004.35\n",
            "Calculated Intercept (a): 67702.14\n"
          ]
        }
      ]
    },
    {
      "cell_type": "markdown",
      "source": [
        "### The Normal Curve\n",
        "\n",
        "Gauss's Contribution (1809): German mathematician Carl Friedrich Gauss claimed to have used the method as early as 1795. When he published his work, Theoria motus corporum coelestium, he provided a much deeper, probabilistic justification for the method. Gauss showed that if measurement errors followed the Normal (Gaussian) Distribution, then the method of least squares was the most likely way to estimate the true parameters—a concept known as Maximum Likelihood Estimation (MLE). This connection to the Normal Distribution is what cemented the method's theoretical power.\n",
        "\n",
        "Essentially, Legendre offered the recipe (the procedure for minimizing squared errors), and Gauss provided the statistical justification (the proof that it's the optimal recipe when errors are normally distributed).\n",
        "\n",
        "The **method of least squares** is a fundamental technique in statistics and regression analysis used to find the line, curve, or function that best fits a set of observed data points by minimizing the total discrepancy between the actual data and the function."
      ],
      "metadata": {
        "id": "XGjFuzH5GsET"
      }
    },
    {
      "cell_type": "code",
      "source": [
        "import numpy as np\n",
        "import matplotlib.pyplot as plt\n",
        "from scipy.stats import norm\n",
        "\n",
        "mu = 0\n",
        "sigma = 1\n",
        "x = np.linspace(mu - 4 * sigma, mu + 4 * sigma, 500)\n",
        "pdf = norm.pdf(x, mu, sigma)\n",
        "\n",
        "plt.figure(figsize=(10, 6))\n",
        "plt.plot(x, pdf, color='black', linewidth=2)\n",
        "\n",
        "# --- 3 Sigma (99.7%) ---\n",
        "x_3sigma = np.linspace(mu - 3 * sigma, mu + 3 * sigma, 100)\n",
        "pdf_3sigma = norm.pdf(x_3sigma, mu, sigma)\n",
        "plt.fill_between(x_3sigma, 0, pdf_3sigma, color='steelblue', alpha=0.2, label='99.7% (±3σ)')\n",
        "\n",
        "# --- 2 Sigma (95%) ---\n",
        "x_2sigma = np.linspace(mu - 2 * sigma, mu + 2 * sigma, 100)\n",
        "pdf_2sigma = norm.pdf(x_2sigma, mu, sigma)\n",
        "plt.fill_between(x_2sigma, 0, pdf_2sigma, color='skyblue', alpha=0.4, label='95% (±2σ)')\n",
        "\n",
        "# --- 1 Sigma (68%) ---\n",
        "x_1sigma = np.linspace(mu - sigma, mu + sigma, 100)\n",
        "pdf_1sigma = norm.pdf(x_1sigma, mu, sigma)\n",
        "plt.fill_between(x_1sigma, 0, pdf_1sigma, color='lightblue', alpha=0.6, label='68% (±1σ)')\n",
        "plt.axvline(mu, color='black', linestyle='-', linewidth=1.0)\n",
        "plt.xticks([mu - 3 * sigma, mu - 2 * sigma, mu - 1 * sigma, mu, mu + 1 * sigma, mu + 2 * sigma, mu + 3 * sigma],\n",
        "           ['-3σ', '-2σ', '-1σ', 'μ', '+1σ', '+2σ', '+3σ'])\n",
        "\n",
        "plt.text(0, 0.15, '68%', horizontalalignment='center', fontsize=10, fontweight='bold', color='darkblue')\n",
        "plt.text(1.5, 0.05, '95%', horizontalalignment='center', fontsize=10, fontweight='bold', color='darkblue')\n",
        "plt.text(2.5, 0.015, '99.7%', horizontalalignment='center', fontsize=10, fontweight='bold', color='darkblue')\n",
        "\n",
        "plt.title('The 68-95-99.7 Rule on the Normal Distribution')\n",
        "plt.xlabel('Standard Deviations (σ)')\n",
        "plt.ylabel('Probability Density')\n",
        "plt.ylim(0)\n",
        "plt.legend(loc='upper left')\n",
        "plt.grid(axis='y', linestyle='--', alpha=0.5)\n",
        "\n",
        "plt.show()"
      ],
      "metadata": {
        "colab": {
          "base_uri": "https://localhost:8080/",
          "height": 564
        },
        "id": "mQmfRi3mHJAs",
        "outputId": "febaa0a3-3158-4efb-f876-b4d06186cdb6"
      },
      "execution_count": null,
      "outputs": [
        {
          "output_type": "display_data",
          "data": {
            "text/plain": [
              "<Figure size 1000x600 with 1 Axes>"
            ],
            "image/png": "[encoded data removed]"
          },
          "metadata": {}
        }
      ]
    },
    {
      "cell_type": "markdown",
      "source": [
        "### What is Least Squares?\n",
        "\n",
        "In simple terms, \"least squares\" works by trying to make the errors between the fitted model and the data points as small as possible.\n",
        "\n",
        "1.  **Model Fitting:** You start with a set of data points (e.g., years of experience vs. salary).\n",
        "2.  **Error Calculation:** For any given line you draw through the points, the **residual** (or error) is the vertical distance between the data point and the line.\n",
        "3.  **Minimization:** The method finds the specific line that minimizes the **sum of the squares of all these residuals**.\n",
        "\n",
        "The reason the method uses the **square** of the residuals, rather than the absolute value or just the sum, is twofold:\n",
        "* Squaring ensures that positive and negative errors don't cancel each other out.\n",
        "* Squaring penalizes large errors more heavily than small errors, resulting in a unique solution that is statistically optimal when errors follow a Normal Distribution (as shown by Gauss).\n",
        "\n",
        "***\n",
        "\n",
        "The Formula for Simple Linear Regression\n",
        "\n",
        "The method of least squares is most commonly applied to **simple linear regression**, where the goal is to find the best-fitting straight line, $\\hat{y} = a + bx$. The formula is used to find the optimal values for the slope ($b$) and the intercept ($a$).\n",
        "\n",
        "The Goal (The Minimization Formula)\n",
        "\n",
        "The core principle is expressed by the term the method seeks to minimize:\n",
        "\n",
        "$$\\text{Minimize } \\sum_{i=1}^{n} (y_i - \\hat{y}_i)^2$$\n",
        "\n",
        "Where:\n",
        "* $y_i$ is the actual observed value (the data point).\n",
        "* $\\hat{y}_i$ is the value predicted by the line (the estimated value).\n",
        "* $(y_i - \\hat{y}_i)$ is the **residual** or error.\n",
        "\n",
        "The Solution (Formulas for the Best Fit Line)\n",
        "\n",
        "The values for the slope ($b$) and intercept ($a$) that minimize the sum of squared errors are:\n",
        "\n",
        "**1. Slope ($b$):**\n",
        "$$b = \\frac{\\sum_{i=1}^{n} (x_i - \\bar{x})(y_i - \\bar{y})}{\\sum_{i=1}^{n} (x_i - \\bar{x})^2}$$\n",
        "\n",
        "**2. Intercept ($a$):**\n",
        "$$a = \\bar{y} - b\\bar{x}$$\n",
        "\n",
        "* $\\bar{x}$ and $\\bar{y}$ are the means (averages) of the $x$ and $y$ data sets, respectively.\n",
        "* This calculation ensures that the resulting line passes through the central point of the data ($\\bar{x}$, $\\bar{y}$)."
      ],
      "metadata": {
        "id": "keli5Xy4EL95"
      }
    },
    {
      "cell_type": "markdown",
      "source": [
        "### Least Squares and the Normal Distribution\n",
        "\n",
        "The method of least squares and the Normal (Gaussian) Distribution are intrinsically linked because the Normal Distribution provides the theoretical justification for why the least squares solution is the optimal estimate.\n",
        "\n",
        "This connection was established by Carl Friedrich Gauss and is rooted in the principle of Maximum Likelihood Estimation (MLE).\n",
        "\n",
        "The Role of the Normal Curve in Least Squares\n",
        "\n",
        "The method of least squares is a computational technique: it minimizes the sum of squared errors to find the best-fit line. The Normal Curve explains why that minimized sum is the best possible choice.\n",
        "\n",
        "1. The Core Assumption: Normally Distributed Errors\n",
        "When applying least squares to model data (e.g., in regression), the core assumption is that the residuals (the small, random errors between the observed data points and the fitted line) are independent and normally distributed.\n",
        "\n",
        "Error as a Random Variable: Every physical or human measurement has some inherent, random error. Gauss argued that if you measure something many times, these errors should cluster symmetrically around zero (the true value), with small errors being far more common than large ones. This is precisely the shape of the Normal Distribution.\n",
        "\n",
        "2. The Link to Maximum Likelihood Estimation (MLE)\n",
        "Gauss showed that if you accept that the errors follow a Normal Distribution, the method of least squares is equivalent to finding the Maximum Likelihood Estimate (MLE) for the model's parameters:\n",
        "\n",
        "Maximum Likelihood Principle: The MLE criterion demands that you choose the model parameters (the slope and intercept of your line) that maximize the probability (the likelihood) of observing the specific data set you actually have.\n",
        "\n",
        "The Equivalence: When the errors are assumed to be Normal, the mathematical function that represents the likelihood of the data is maximized exactly when the sum of the squared residuals is minimized.\n",
        "\n",
        "In summary: If the errors are Normal, choosing the line that minimizes squared error is mathematically identical to choosing the line that is most likely to be correct. The Normal Distribution transforms least squares from a practical trick into a powerful statistical inference tool.\n",
        "\n",
        "How the 68-95-99.7 Rule Applies\n",
        "\n",
        "The 68-95-99.7 Rule immediately applies to the residuals, reinforcing the Normal assumption:\n",
        "\n",
        "* If the model is a good fit, approximately 68% of the length of the residuals should fall within one standard deviation (σ) of the fitted line.\n",
        "* Approximately 95% of your data points should fall within two standard deviations (2σ) of the fitted line.\n",
        "* If the calculated residuals do not follow this pattern, it suggests the Normal error assumption is wrong, and the least squares method might not be the most appropriate tool for that data."
      ],
      "metadata": {
        "id": "B0XhKow4Sndh"
      }
    },
    {
      "cell_type": "markdown",
      "source": [
        "### Maximum Likelihood Estimation\n",
        "\n",
        "Gauss's contribution to the method of least squares is one of the most important early examples of Maximum Likelihood Estimation in practice. When introducing **Gauss linking the least squares method to the Normal (Gaussian) distribution**, we are fundamentally introducing the logic of MLE. Maximum Likelihood Estimation (MLE) is a general method for estimating the parameters of a statistical model. MLE works by finding the parameter values that make the observed data **most probable** (i.e., that maximize the **likelihood function**).\n",
        "\n",
        "* **Likelihood** is the probability of observing the data you *already* have, given a specific set of parameters.\n",
        "* In other words, MLE answers the question: **\"Given this data, what are the parameters that were most likely to have produced it?\"**\n",
        "\n",
        "Gauss's MLE Argument for Least Squares\n",
        "\n",
        "* Gauss’s true innovation was not just the least squares formula (which Legendre published first), but the **probabilistic justification** for using it.\n",
        "* **The Assumption:** Gauss postulated that measurement errors in astronomy (the residuals) are not random chaos, but follow the **Normal Distribution**.\n",
        "* **The Link:** He then showed that if these errors are normally distributed, the parameter values (the slope and intercept of the best-fit line) that **maximize the likelihood** of observing those specific errors are the **exact same values** calculated by the method of least squares.\n",
        "\n",
        "The least squares method, when applied to normally distributed errors, is simply a special case of the more general principle of Maximum Likelihood Estimation. This insight elevated least squares from a mere calculation technique to a cornerstone of statistical inference."
      ],
      "metadata": {
        "id": "Cot_L9EXFBBc"
      }
    },
    {
      "cell_type": "markdown",
      "source": [
        "### Bernoulli Distribution and Probability Mass Function\n",
        "\n",
        "The Bernoulli distribution models a single experiment or trial that has only **two possible outcomes**: success (represented by 1) or failure (represented by 0). Think of it as the mathematical representation of a coin flip or any single yes/no event.\n",
        "\n",
        "Key Characteristics\n",
        "\n",
        "* **Discrete Random Variable:** The variable $x$ is **discrete** because it can only take on a countable number of values, specifically $0$ or $1$.\n",
        "* **Single Trial:** It describes the outcome of a single experiment.\n",
        "* **Two Outcomes:** The result is either a **success** ($x=1$) or a **failure** ($x=0$).\n",
        "\n",
        "The Parameter is ($\\theta$), X is a given value from an experiment.\n",
        "\n",
        "The distribution is defined by a  single parameter, $\\theta$ (theta), which represents the **probability of success**.\n",
        "\n",
        "* $\\theta = P(X=1)$, the probability of getting a success.\n",
        "* Since the event must be either success or failure, the probability of failure is $1 - \\theta$.\n",
        "* $1 - \\theta = P(X=0)$, the probability of getting a failure.\n",
        "\n",
        "**Probability Mass Function (PMF)**\n",
        "\n",
        "The formula you see in the image is the **Probability Mass Function (PMF)**, $p(x)$. The PMF is a function that gives the probability that a discrete random variable is exactly equal to some value $x$.\n",
        "\n",
        "The formula is:\n",
        "$$p(x) = \\theta^x (1 - \\theta)^{1 - x}$$\n",
        "where $x$ can only be $0$ or $1$.\n",
        "\n",
        "How the PMF Works\n",
        "\n",
        "This single formula cleverly handles both possible outcomes:\n",
        "\n",
        "1.  **If $x=1$ (Success):**\n",
        "    $$p(1) = \\theta^1 (1 - \\theta)^{1 - 1}$$   $$p(1) = \\theta \\cdot (1 - \\theta)^0$$   $$p(1) = \\theta \\cdot 1$$   $$\\mathbf{p(1) = \\theta}$$\n",
        "    *This confirms that the probability of success is $\\theta$.*\n",
        "\n",
        "2.  **If $x=0$ (Failure):**\n",
        "    $$p(0) = \\theta^0 (1 - \\theta)^{1 - 0}$$   $$p(0) = 1 \\cdot (1 - \\theta)^1$$   $$\\mathbf{p(0) = 1 - \\theta}$$\n",
        "    *This confirms that the probability of failure is $1 - \\theta$.*\n",
        "\n",
        "Example: A Biased Coin Flip\n",
        "\n",
        "Imagine a coin that is weighted so that it lands on **Heads** 70% of the time.\n",
        "\n",
        "* Let **Success** ($x=1$) be getting a **Heads**.\n",
        "* The parameter is $\\theta = 0.7$ (the probability of success).\n",
        "* The probability of failure (Tails) is $1 - \\theta = 1 - 0.7 = 0.3$.\n",
        "\n",
        "Using the PMF, we can find the probability of a specific outcome:\n",
        "\n",
        "* **Probability of Heads ($x=1$):**\n",
        "    $$p(1) = 0.7^1 (1 - 0.7)^{1 - 1} = 0.7 \\cdot 0.3^0 = 0.7$$\n",
        "* **Probability of Tails ($x=0$):**\n",
        "    $$p(0) = 0.7^0 (1 - 0.7)^{1 - 0} = 1 \\cdot 0.3^1 = 0.3$$\n",
        "\n",
        "The Bernoulli distribution is the simplest building block for many other distributions, most notably the **Binomial Distribution**, which models the number of successes in multiple independent Bernoulli trials."
      ],
      "metadata": {
        "id": "_z_oScVgUWVx"
      }
    },
    {
      "cell_type": "markdown",
      "source": [
        "### Likelihood Function from Bernoulli Data\n",
        "\n",
        "This entire process is aimed at finding the most likely value for the probability of success, $\\theta$, given a set of observed data.\n",
        "\n",
        "**The Model: Bernoulli Distribution**\n",
        "\n",
        "The Bernoulli distribution models a **single** trial with only two outcomes: success ($x=1$) or failure ($x=0$). The parameter $\\theta$ is the true, but unknown, probability of success.\n",
        "\n",
        "* **Random Variable:** $x \\in \\{0, 1\\}$.\n",
        "* **Parameter:** $\\theta = P(X=1)$.\n",
        "* **Probability Mass Function (PMF):** This function gives the probability of a single outcome $x$.\n",
        "* $p(x) = \\theta^x (1 - \\theta)^{1 - x}$\n",
        "\n",
        "**The Setup: Likelihood Function $L(\\theta)$**\n",
        "\n",
        "Given a dataset of **$N$ independent trials** $data = \\{x_1, x_2, \\ldots, x_N\\}$, the likelihood function measures the probability of observing that specific dataset, *given* a hypothesized value of $\\theta$.\n",
        "\n",
        "* **Definition:** The joint probability of all observed data points.\n",
        "    $$L(\\theta) = p(\\text{data} \\mid \\theta) = \\prod_{i=1}^{N} p(x_i \\mid \\theta)$$\n",
        "* **Expanded Likelihood (Product Form):**\n",
        "    $$L(\\theta) = \\prod_{i=1}^{N} \\theta^{x_i} (1 - \\theta)^{1 - x_i}$$\n",
        "\n",
        "This is the **Likelihood Function, $L(\\theta)$**, for a series of independent success/fail trials or coin flips (Bernoulli trials). It calculates the probability of observing a specific sequence of Heads and Tails, given a probability of Heads, $\\theta$.\n",
        "\n",
        "The formula is:\n",
        "$$L(\\theta) = \\prod_{i=1}^{N} \\theta^{x_i} (1 - \\theta)^{1 - x_i}$$\n",
        "\n",
        "| Symbol | Coin Flip Meaning | Mathematical Meaning |\n",
        "| :--- | :--- | :--- |\n",
        "| **$L(\\theta)$** | The probability of observing the entire sequence of $N$ coin flips (Heads and Tails) **given** a specific probability $\\theta$. | The **Likelihood Function**. |\n",
        "| **$N$** | The **total number of coin flips**. | The total number of data points. |\n",
        "| **$i=1$ to $N$** | The index, referring to the **first flip** up to the **$N$-th flip**. | The index for the summation/product. |\n",
        "| **$\\prod$** | **Multiply** the probability of each flip together. | The **Product Operator**, used because each flip is assumed to be an independent event. |\n",
        "| **$\\theta$** | The **probability of getting a Head** ($P(\\text{Head})$). | The **parameter** we are estimating. |\n",
        "| **$1 - \\theta$** | The **probability of getting a Tail** ($P(\\text{Tail})$). | The probability of failure. |\n",
        "| **$x_i$** | The **outcome of the $i$-th flip**: $x_i=1$ for Heads, $x_i=0$ for Tails. | The $i$-th data point. |\n",
        "\n",
        "### How the Formula Works for Each Flip\n",
        "\n",
        "The term inside the product, $\\theta^{x_i} (1 - \\theta)^{1 - x_i}$, is the probability for the single $i$-th flip.\n",
        "\n",
        "| If the $i$-th flip is... | $x_i$ value is... | The term becomes... | Probability |\n",
        "| :--- | :--- | :--- | :--- |\n",
        "| **Heads** | $x_i = 1$ | $\\theta^1 (1 - \\theta)^{1 - 1} = \\theta \\cdot (1) = \\theta$ | $P(\\text{Head})$ |\n",
        "| **Tails** | $x_i = 0$ | $\\theta^0 (1 - \\theta)^{1 - 0} = (1) \\cdot (1 - \\theta)$ | $P(\\text{Tail})$ |\n",
        "\n",
        "Suppose you flip a coin $N=3$ times and get the sequence **Head, Tail, Head** ($x_1=1, x_2=0, x_3=1$).\n",
        "\n",
        "The likelihood $L(\\theta)$ for this specific sequence is the product of the individual probabilities:\n",
        "\n",
        "$$L(\\theta) = \\underbrace{p(x_1=1)}_{\\text{Head}} \\cdot \\underbrace{p(x_2=0)}_{\\text{Tail}} \\cdot \\underbrace{p(x_3=1)}_{\\text{Head}}$$\n",
        "\n",
        "$$L(\\theta) = \\underbrace{(\\theta)}_{\\text{Prob. of H}} \\cdot \\underbrace{(1 - \\theta)}_{\\text{Prob. of T}} \\cdot \\underbrace{(\\theta)}_{\\text{Prob. of H}}$$\n",
        "\n",
        "$$L(\\theta) = \\theta^2 (1 - \\theta)^1$$\n",
        "\n",
        "In **Maximum Likelihood Estimation (MLE)**, you would use calculus to find the value of $\\theta$ (the probability of Heads) that makes this $L(\\theta)$ as large as possible. Intuitively, for a sequence of 2 Heads and 1 Tail, the MLE is $\\hat{\\theta} = 2/3$.\n",
        "\n",
        "**The Simplification: Log-Likelihood $l(\\theta)$**\n",
        "\n",
        "Because differentiating a product is complex, we take the **natural logarithm** of the likelihood. Since $\\log(x)$ is a **monotonically increasing** function, the $\\theta$ that maximizes $L(\\theta)$ will also maximize $l(\\theta)$. The logarithm turns the product into a sum.\n",
        "\n",
        "* **Transformation:** $l(\\theta) = \\log L(\\theta)$.\n",
        "* **Simplified Log-Likelihood (Sum Form):**\n",
        "  * $L(\\theta) = \\prod_{i=1}^{N} \\theta^{x_i} (1 - \\theta)^{1 - x_i}$\n",
        "  * $l(\\theta) = \\sum_{i=1}^{N} \\left\\{ x_i \\log \\theta + (1 - x_i) \\log(1 - \\theta) \\right\\}$\n",
        "\n",
        "**The Solution: Maximizing with Calculus**\n",
        "\n",
        "To find the maximum point of $l(\\theta)$ (where the slope is zero), we take the derivative with respect to $\\theta$ and set the result to zero.\n",
        "\n",
        "* **Goal:** Find the $\\theta$ that maximizes the function, denoted as the Maximum Likelihood Estimate ($\\hat{\\theta}$):\n",
        "  * $\\hat{\\theta} = \\arg \\max_{\\theta} l(\\theta)$\n",
        "* **Calculus Step:** Set the derivative equal to zero:\n",
        "  * $\\frac{dl}{d\\theta} = 0$\n",
        "* **Derivative of the Log-Likelihood:**\n",
        "  * $\\frac{dl}{d\\theta} = \\frac{1}{\\theta} \\sum_{i=1}^{N} x_i - \\frac{1}{1 - \\theta} \\sum_{i=1}^{N} (1 - x_i)$\n",
        "* **Solving for $\\hat{\\theta}$:** After setting the derivative to zero and solving for $\\theta$ (by recognizing that $\\sum x_i$ is the number of successes $N_H$ and $\\sum (1-x_i)$ is the number of failures $N_T$), we arrive at the final estimate.\n",
        "* **Maximum Likelihood Estimate (MLE):** The most likely value for $\\theta$ is the **sample mean** (the observed proportion of successes).\n",
        "  * $\\hat{\\theta} = \\frac{1}{N} \\sum_{i=1}^{N} x_i = \\frac{\\text{Number of Successes}}{\\text{Total Trials}}$\n",
        "\n",
        "**Important Distinction: Bernoulli vs. Binomial**\n",
        "\n",
        "The derivation uses the Bernoulli likelihood, which is often confused with the **Binomial Distribution**.\n",
        "\n",
        "* **Bernoulli Likelihood:** Deals with the probability of a **specific sequence** of $N$ outcomes ($x_1, x_2, \\ldots$).\n",
        "* **Binomial PMF:** Deals with the probability of getting exactly **$k$ successes** in $N$ trials, regardless of order. It includes the combinatorial term $\\binom{N}{k}$ to count all possible orders.\n",
        "  * $p(x = k) = \\binom{N}{k} \\theta^k (1 - \\theta)^{N - k}$"
      ],
      "metadata": {
        "id": "mhh0g2EzVtZ8"
      }
    },
    {
      "cell_type": "markdown",
      "source": [
        "### Data analysis from the heavens and Earth\n",
        "\n",
        "* Geodesy, astronomy, and physics rely on residual analysis; instrument calibration and “weight of observations” become routine.\n",
        "\n",
        "\n"
      ],
      "metadata": {
        "id": "kCkSK2FrB4u6"
      }
    },
    {
      "cell_type": "markdown",
      "source": [
        "### Statecraft, society, and visualization\n",
        "\n",
        "* Quetelet’s “average man” applies statistics to social data; Playfair and later Florence Nightingale pioneer data graphics for public policy. Adolphe Quetelet (1796–1874) was a Belgian astronomer, mathematician, and statistician. His key contribution was a pivotal step in applying probabilistic and statistical ideas, which had largely been confined to fields like astronomy and games of chance , to the study of human and social phenomena\n"
      ],
      "metadata": {
        "id": "-NHFY6GACDdv"
      }
    },
    {
      "cell_type": "markdown",
      "source": [
        "### Biology, heredity, and correlation\n",
        "\n",
        "* Galton studies heredity and regression to the mean; Pearson, Edgeworth, and Yule formalize correlation, regression, contingency analysis, and time series.\n"
      ],
      "metadata": {
        "id": "sijWbYUyCMTR"
      }
    },
    {
      "cell_type": "markdown",
      "source": [
        "### Agriculture and designed comparisons\n",
        "\n",
        "* Rothamsted Experimental Station (Lawes, Gilbert) begins long-run field trials; questions of replication, blocking, and variance structure emerge.\n",
        "* Key figures: Gauss, Legendre, Laplace, Bessel, Quetelet, Playfair, Nightingale, Galton, Pearson, Edgeworth, Yule, Lexis.\n",
        "* Key terms: Least squares, normal (Gaussian) distribution, residuals, measurement error, correlation, regression, contingency table, time series, index numbers, experimental plot."
      ],
      "metadata": {
        "id": "8oLJ4NMzCR5r"
      }
    },
    {
      "cell_type": "markdown",
      "source": [
        "### Tangent: Andrey Markov\n",
        "\n",
        "* Andrey Markov (1856–1922): A Russian mathematician, Markov is known for his work on Markov chains, which describe a sequence of possible events in which the probability of each event depends only on the state attained in the previous event. While he did his most significant work on this in the early 20th century, the foundational ideas align with the late 19th-century developments in probability theory. His work on stochastic processes was a crucial step beyond simple probability to model sequential, dependent events over time.\n",
        "* Markov Decision Process (MDP): The concept of MDPs, which are a mathematical framework for modeling decision-making in situations where outcomes are partly random and partly under the control of a decision-maker, was developed later by Richard Bellman in the 1950s. It builds upon Markov's work by adding actions, rewards, and a \"discount factor\" to the Markov chain model to create a system for finding optimal strategies. While not a 19th-century concept itself, it is a direct evolution of the principles laid out by Markov.\n"
      ],
      "metadata": {
        "id": "yu_gW85JcZjq"
      }
    },
    {
      "cell_type": "markdown",
      "source": [
        "A **Markov Decision Process (MDP)** is a mathematical framework for modeling decision-making in situations where outcomes are partly random and partly under the control of a decision-maker. It is widely used in areas like robotics, economics, and, most famously, in **Reinforcement Learning (RL)**.\n",
        "\n",
        "An MDP can be formally defined by a tuple of five elements: $(S, A, P, R, \\gamma)$.\n",
        "\n",
        "**Components and Formulas**\n",
        "\n",
        "* **Component:** Set of States ($S$) - **Description:** A finite set of all possible states of the environment. **Formula / Role:** $s \\in S$\n",
        "* **Component:** Set of Actions ($A$) - **Description:** A finite set of actions the agent can take. **Formula / Role:** $a \\in A$\n",
        "* **Component:** Transition Probability ($P$) - **Description:** The probability of moving from state $s$ to state $s'$ after taking action $a$. This satisfies the **Markov Property**: the future depends only on the current state and action, not on the past history. **Formula / Role:** $P(s' | s, a) = P(S\\_{t+1}=s' | S\\_t=s, A\\_t=a)$\n",
        "* **Component:** Reward Function ($R$) - **Description:** The expected immediate reward received after transitioning from state $s$ to state $s'$ by taking action $a$. **Formula / Role:** $R(s, a, s') = E[R\\_{t+1} | S\\_t=s, A\\_t=a, S\\_{t+1}=s']$\n",
        "* **Component:** Discount Factor ($\\gamma$) - **Description:** A factor between 0 and 1 ($\\mathbf{0 \\le \\gamma \\le 1}$) that determines the present value of future rewards. A value closer to 0 makes the agent \"myopic\" (focus on immediate reward), while a value closer to 1 makes it \"far-sighted\" (focus on long-term reward). **Formula / Role:** $\\gamma$\n",
        "\n",
        "-----\n",
        "\n",
        "**The Goal: Optimal Policy**\n",
        "\n",
        "The agent's objective is to find an **optimal policy** $\\\\pi^*$. A **policy** $\\\\pi(s)$ is a function that specifies the action $a$ the agent should take in state $s$. The optimal policy $\\\\pi^*$ maximizes the **Expected Return** (the discounted sum of future rewards).\n",
        "\n",
        "The **Return $G\\_t$** from time $t$ is:\n",
        "$$G_t = R_{t+1} + \\gamma R_{t+2} + \\gamma^2 R_{t+3} + \\dots = \\sum_{k=0}^{\\infty} \\gamma^k R_{t+k+1}$$\n",
        "\n",
        "**Value Functions**\n",
        "\n",
        "Two core functions are used to evaluate how \"good\" a state is or how \"good\" an action is in a state under a given policy $\\\\pi$:\n",
        "\n",
        "1.  **State-Value Function $V^\\\\pi(s)$ (The Value of a State):**\n",
        "    The expected return starting from state $s$ and following policy $\\\\pi$ thereafter.\n",
        "    $$V^\\pi(s) = E_\\pi[G_t | S_t=s]$$\n",
        "    This can be recursively defined by the **Bellman Expectation Equation**:\n",
        "    $$V^\\pi(s) = \\sum_{a \\in A} \\pi(a|s) \\sum_{s' \\in S} P(s'|s,a) [R(s,a,s') + \\gamma V^\\pi(s')]$$\n",
        "\n",
        "2.  **Action-Value Function $Q^\\\\pi(s, a)$ (The Value of a State-Action Pair):**\n",
        "    The expected return starting from state $s$, taking action $a$, and then following policy $\\\\pi$ thereafter.\n",
        "    $$Q^\\pi(s, a) = E_\\pi[G_t | S_t=s, A_t=a]$$\n",
        "    It is related to the state-value function by:\n",
        "    $$Q^\\pi(s, a) = \\sum_{s' \\in S} P(s'|s,a) [R(s,a,s') + \\gamma V^\\pi(s')]$$\n",
        "\n",
        "**The Optimal Bellman Equations**\n",
        "\n",
        "The **Optimal State-Value Function $V^\\*(s)$** and **Optimal Action-Value Function $Q^\\*(s, a)$** satisfy the **Bellman Optimality Equations**, which state that the value of an optimal state/action is equal to the expected return for the best choice:\n",
        "\n",
        "  * **Optimal State-Value:**\n",
        "    $$V^*(s) = \\max_{a \\in A} Q^*(s, a)$$   $$V^*(s) = \\max_{a \\in A} \\sum_{s' \\in S} P(s'|s,a) [R(s,a,s') + \\gamma V^*(s')]$$\n",
        "\n",
        "  * **Optimal Action-Value:**\n",
        "    $$Q^*(s, a) = \\sum_{s' \\in S} P(s'|s,a) [R(s,a,s') + \\gamma \\max_{a' \\in A} Q^*(s', a')]$$\n",
        "\n",
        "Once $V^*(s)$ or $Q^*(s, a)$ is found, the **Optimal Policy $\\\\pi^\\*$** is deterministic and defined by:\n",
        "$$\\pi^*(s) = \\arg\\max_{a \\in A} Q^*(s, a)$$\n",
        "\n",
        "-----\n",
        "\n",
        "**Python Code Example: Value Iteration**\n",
        "\n",
        "The **Value Iteration** algorithm is a common method for solving MDPs. It repeatedly applies the Bellman Optimality Update until the value function converges.\n",
        "\n",
        "This example uses a simple grid world MDP:\n",
        "\n",
        "  * **States:** (0, 0), (0, 1), ..., (2, 2)\n",
        "  * **Actions:** Up, Down, Left, Right\n",
        "  * **Goal State:** (2, 2) with high reward.\n",
        "  * **Walls/Irregularities:** Not included for simplicity; transitions are mostly deterministic.\n"
      ],
      "metadata": {
        "id": "jF77msN6e8YL"
      }
    },
    {
      "cell_type": "code",
      "source": [
        "import numpy as np\n",
        "\n",
        "# 1. Define the MDP (S, A, P, R, gamma)\n",
        "\n",
        "# States: 0 to 8 (3x3 grid)\n",
        "# (0,0) -> 0, (0,1) -> 1, ..., (2,2) -> 8\n",
        "S = list(range(9))\n",
        "\n",
        "# Actions: 0=Up, 1=Down, 2=Left, 3=Right\n",
        "A = list(range(4))\n",
        "action_map = {0: 'Up', 1: 'Down', 2: 'Left', 3: 'Right'}\n",
        "\n",
        "# Reward Function R(s, a, s'): Simple reward: +10 at state 8 (Goal), -1 otherwise\n",
        "REWARD_GOAL = 10\n",
        "REWARD_OTHER = -1\n",
        "GOAL_STATE = 8\n",
        "gamma = 0.9  # Discount Factor\n",
        "\n",
        "# Transition Probability P(s' | s, a)\n",
        "# Simplification: Assume deterministic transition (99% chance of going where you intend)\n",
        "# In this simple example, we'll map the action to the next state\n",
        "def transition(s, a):\n",
        "    row, col = s // 3, s % 3\n",
        "\n",
        "    # Calculate next potential position\n",
        "    if a == 0: next_row, next_col = row - 1, col # Up\n",
        "    elif a == 1: next_row, next_col = row + 1, col # Down\n",
        "    elif a == 2: next_row, next_col = row, col - 1 # Left\n",
        "    elif a == 3: next_row, next_col = row, col + 1 # Right\n",
        "\n",
        "    # Check for boundary conditions (stay in current state if hit a wall)\n",
        "    if 0 <= next_row < 3 and 0 <= next_col < 3:\n",
        "        s_prime = next_row * 3 + next_col\n",
        "    else:\n",
        "        s_prime = s\n",
        "\n",
        "    return s_prime\n",
        "\n",
        "# 2. Value Iteration Algorithm\n",
        "\n",
        "def value_iteration(S, A, gamma, epsilon=1e-6, max_iterations=1000):\n",
        "    # Initialize V(s) to 0 for all states\n",
        "    V = np.zeros(len(S))\n",
        "\n",
        "    for _ in range(max_iterations):\n",
        "        V_old = V.copy()\n",
        "\n",
        "        # Delta to check for convergence\n",
        "        delta = 0\n",
        "\n",
        "        for s in S:\n",
        "            if s == GOAL_STATE:\n",
        "                V[s] = REWARD_GOAL\n",
        "                continue\n",
        "\n",
        "            # Bellman Optimality Update: V(s) = max_a [ R(s,a,s') + gamma * V(s') ]\n",
        "            Q_values = []\n",
        "            for a in A:\n",
        "                s_prime = transition(s, a)\n",
        "\n",
        "                # R(s, a, s')\n",
        "                reward = REWARD_GOAL if s_prime == GOAL_STATE else REWARD_OTHER\n",
        "\n",
        "                # Q(s, a) = R + gamma * V(s')\n",
        "                Q = reward + gamma * V_old[s_prime]\n",
        "                Q_values.append(Q)\n",
        "\n",
        "            V[s] = np.max(Q_values)\n",
        "            delta = max(delta, np.abs(V[s] - V_old[s]))\n",
        "\n",
        "        # Check for convergence\n",
        "        if delta < epsilon:\n",
        "            print(f\"Value function converged after {_ + 1} iterations.\")\n",
        "            break\n",
        "\n",
        "    return V\n",
        "\n",
        "# 3. Policy Extraction\n",
        "def extract_policy(V):\n",
        "    policy = np.zeros(len(S), dtype=int)\n",
        "    for s in S:\n",
        "        if s == GOAL_STATE:\n",
        "            policy[s] = -1 # No action needed at goal\n",
        "            continue\n",
        "\n",
        "        Q_values = []\n",
        "        for a in A:\n",
        "            s_prime = transition(s, a)\n",
        "            reward = REWARD_GOAL if s_prime == GOAL_STATE else REWARD_OTHER\n",
        "            Q = reward + gamma * V[s_prime]\n",
        "            Q_values.append(Q)\n",
        "\n",
        "        # The optimal action is the one that maximizes Q(s, a)\n",
        "        policy[s] = np.argmax(Q_values)\n",
        "\n",
        "    return policy\n",
        "\n",
        "# Run the MDP Solver\n",
        "V_star = value_iteration(S, A, gamma)\n",
        "pi_star = extract_policy(V_star)\n",
        "\n",
        "# Print Results\n",
        "print(\"\\n--- Optimal Value Function V*(s) (3x3 Grid) ---\")\n",
        "print(np.round(V_star.reshape((3, 3)), 2))\n",
        "\n",
        "print(\"\\n--- Optimal Policy π*(s) (Action for each state) ---\")\n",
        "policy_display = [action_map.get(a, 'Goal') for a in pi_star]\n",
        "print(np.array(policy_display).reshape((3, 3)))"
      ],
      "metadata": {
        "colab": {
          "base_uri": "https://localhost:8080/"
        },
        "id": "pBqEyUjvfBlc",
        "outputId": "11e10d88-9604-45dd-8445-c9f97a0b18d2"
      },
      "execution_count": null,
      "outputs": [
        {
          "output_type": "stream",
          "name": "stdout",
          "text": [
            "Value function converged after 6 iterations.\n",
            "\n",
            "--- Optimal Value Function V*(s) (3x3 Grid) ---\n",
            "[[11.14 13.49 16.1 ]\n",
            " [13.49 16.1  19.  ]\n",
            " [16.1  19.   10.  ]]\n",
            "\n",
            "--- Optimal Policy π*(s) (Action for each state) ---\n",
            "[['Down' 'Down' 'Down']\n",
            " ['Down' 'Down' 'Down']\n",
            " ['Right' 'Right' 'Goal']]\n"
          ]
        }
      ]
    },
    {
      "cell_type": "markdown",
      "source": [
        "### Reinforcement Learning\n",
        "\n",
        "The current landscape of RL is dominated by a drive for **efficiency, scalability, and integration** with large, pre-trained models.\n",
        "\n",
        "#### 1. Integration with Foundation Models (LLM-Empowered RL)\n",
        "\n",
        "This is arguably the most significant recent trend, using the representational power of large models to address RL's weaknesses.\n",
        "\n",
        "* **RL with Human Feedback (RLHF):** Used primarily to align Large Language Models (LLMs) with human preferences and values (e.g., in ChatGPT). The LLM is the agent, and the reward signal comes from human-labeled rankings of its outputs.\n",
        "* **Language as Strategy/Prior:** LLMs are used to guide the RL agent's exploration, provide high-level planning, or even generate the reward functions based on text prompts, making the learning process faster and more interpretable.\n",
        "* **Foundation RL Models:** The goal is to create large, general-purpose RL models, similar to GPT for language, that are pre-trained on massive, diverse datasets of interaction data. These models could then be quickly fine-tuned for a wide range of downstream decision-making tasks (e.g., robotics, control systems).\n",
        "\n",
        "#### 2. Efficiency and Data Reduction (Offline and Transfer RL)\n",
        "\n",
        "The high cost of real-world interaction is driving methods that learn from existing data or apply knowledge across tasks.\n",
        "\n",
        "* **Offline RL (Batch RL):** Learning an optimal policy entirely from a fixed dataset of past interaction data (without further exploration). This is crucial for safety-critical domains like healthcare and autonomous driving, where *new* trials are expensive or dangerous.\n",
        "* **Transfer Learning / Meta-RL:** Developing agents that can leverage knowledge (like learned features or initial policies) from one task or environment to rapidly adapt and solve a new, related task. This helps overcome the need to train every agent from scratch.\n",
        "\n",
        "#### 3. Multi-Agent Reinforcement Learning (MARL)\n",
        "\n",
        "The focus is shifting from a single agent to systems where multiple agents cooperate, compete, or coordinate, reflecting the complexity of real-world problems (e.g., traffic control, economic markets, robotic swarms).\n",
        "\n",
        "* **Centralized Training, Decentralized Execution (CTDE):** A common, powerful paradigm where a central \"critic\" (value function) is used during training to share information, but each agent uses its own, simple policy during execution.\n",
        "* **Emergent Communication:** Research into how agents develop their own communication protocols to coordinate, often leading to surprising and efficient solutions.\n",
        "\n",
        "#### 4. Hierarchical Reinforcement Learning (HRL)\n",
        "\n",
        "HRL breaks down complex, long-horizon tasks into a hierarchy of sub-tasks.\n",
        "\n",
        "* A **\"manager\"** agent learns a high-level goal (e.g., \"go to the kitchen\").\n",
        "* A **\"worker\"** agent learns the low-level motor skills to achieve that goal (e.g., \"walk straight for 5 steps\").\n",
        "* This structure significantly improves **scalability** and the ability to solve problems that involve many sequential decisions.\n",
        "\n",
        "---\n",
        "\n",
        "### Major Limitations of Reinforcement Learning\n",
        "\n",
        "Despite the impressive progress, several fundamental challenges limit the widespread deployment of RL in critical real-world systems.\n",
        "\n",
        "#### 1. Sample Inefficiency (The Data Problem)\n",
        "\n",
        "* **Issue:** Standard RL algorithms (especially model-free ones) require millions or even billions of trial-and-error steps to converge on an optimal policy.\n",
        "* **Impact:** This is prohibitively expensive or time-consuming in the physical world (e.g., a robot can't crash a million times to learn how to drive). The reliance on enormous amounts of data is a major bottleneck.\n",
        "\n",
        "#### 2. Reward Function Design (The Specification Problem)\n",
        "\n",
        "* **Issue:** Designing a reward function that perfectly captures the desired behavior without introducing loopholes is extremely difficult.\n",
        "* **Impact (Reward Hacking):** Agents are masters at exploiting flaws in the reward system to maximize their score in unintended and undesirable ways (e.g., a cleaning robot learning to move its dust sensor over the same speck of dirt repeatedly for a high score).\n",
        "* **Impact (Sparse Rewards):** If the reward is only given at the end of a long sequence (e.g., only upon winning a complex game), the agent receives too little feedback to learn intermediate steps efficiently.\n",
        "\n",
        "#### 3. Generalization and Robustness\n",
        "\n",
        "* **Issue:** RL policies are typically brittle—they perform well only in the exact environment they were trained in. Small, unexpected changes (e.g., a different lighting condition, a new obstacle shape) can cause catastrophic failure.\n",
        "* **Impact:** This lack of **generalization** makes deployment in dynamic, open-world settings (like autonomous vehicles or complex robotics) unreliable and risky.\n",
        "\n",
        "#### 4. Stability, Reproducibility, and Interpretability\n",
        "\n",
        "* **Issue:** RL algorithms are often highly sensitive to hyperparameters and random seeds, making it difficult to reproduce results. Furthermore, the final learned policy is often a **\"black box.\"**\n",
        "* **Impact:** It is nearly impossible to debug or understand *why* an agent made a critical decision, which is a significant hurdle for adoption in high-stakes, regulated fields (e.g., finance, medicine) where transparency and accountability are legally required."
      ],
      "metadata": {
        "id": "bRkavVsvf3wy"
      }
    },
    {
      "cell_type": "markdown",
      "source": [
        "### Addressing Sample Inefficiency\n",
        "\n",
        "A vast and active body of research is dedicated to addressing the sample inefficiency of Reinforcement Learning (RL), which is its single greatest hurdle for real-world deployment.\n",
        "\n",
        "The solutions generally fall into four categories:\n",
        "\n",
        "---\n",
        "\n",
        "#### 1. Model-Based Reinforcement Learning (MBRL)\n",
        "\n",
        "This is the most direct approach to improving sample efficiency. Instead of only learning a policy, the agent first learns a **world model** (a simulation) of the environment's dynamics.\n",
        "\n",
        "* **How it helps:** Once the agent has a model, it can generate **simulated experiences** internally without needing to interact with the slow or costly real environment. This effectively allows the agent to train for thousands of \"virtual\" steps for every one real interaction.\n",
        "* **Trade-off:** The agent's performance is highly dependent on the accuracy of the world model. If the model is flawed, the agent learns an optimal policy for the *wrong* environment, leading to poor performance when deployed in the real world.\n",
        "\n",
        "---\n",
        "\n",
        "#### 2. Data Reuse and Management (Off-Policy Learning)\n",
        "\n",
        "These methods focus on maximizing the value extracted from every single collected data point (sample).\n",
        "\n",
        "* **Off-Policy Learning:** Algorithms like **Deep Q-Networks (DQN)** and **Soft Actor-Critic (SAC)** can learn from data collected by *any* previous policy, not just the current one. This is in contrast to **On-Policy** methods (like PPO), which discard old data.\n",
        "* **Experience Replay:** Past interactions (state, action, reward, next state) are stored in a **replay buffer** and randomly sampled many times for training. This prevents the agent from forgetting older, useful experiences and breaks the temporal correlation in the data, which stabilizes training.\n",
        "* **Prioritized Experience Replay:** Samples that are more **surprising** or contain a larger learning signal (error) are sampled and reused more frequently than less informative samples, further optimizing data usage.\n",
        "\n",
        "---\n",
        "\n",
        "#### 3. Knowledge Injection (Transfer and Foundation Models)\n",
        "\n",
        "These approaches give the agent a \"head start\" by incorporating knowledge from outside the current problem.\n",
        "\n",
        "* **Transfer Learning / Imitation Learning:**\n",
        "    * **Warm Start:** An agent is first trained on a simpler, related task (often in a simulator) and then fine-tuned on the real, complex task.\n",
        "    * **Learning from Demonstration (LfD):** The agent observes an expert (human or another AI) perform the task and learns from those expert trajectories, significantly reducing the initial need for random, unproductive exploration.\n",
        "* **LLM Guidance:** Recent research uses large language models (LLMs) to inject **commonsense knowledge** or high-level strategies into the RL agent. The LLM can help **design better reward functions** (reward shaping) or suggest exploratory actions that are logically sound, making exploration more efficient.\n",
        "\n",
        "---\n",
        "\n",
        "#### 4. Enhanced Exploration Strategies\n",
        "\n",
        "Instead of relying on simple randomness, these methods use smarter, targeted ways to find new, rewarding states.\n",
        "\n",
        "* **Intrinsic Motivation (Curiosity):** The agent is given a supplemental reward for states or transitions that are **novel** or **surprising** (high prediction error in its world model). This encourages the agent to explore parts of the environment that it doesn't yet understand, even when the task reward is sparse.\n",
        "* **Uncertainty Estimation:** Algorithms use techniques to explicitly track the **uncertainty** (or \"epistemic uncertainty\") in their value estimates. The agent is then encouraged to visit states where its uncertainty is high, promoting targeted, information-gathering exploration."
      ],
      "metadata": {
        "id": "cv55nuitvXdw"
      }
    },
    {
      "cell_type": "markdown",
      "source": [
        "### RL Agents and Agentic AI\n",
        "\n",
        "The distinction between **Reinforcement Learning (RL)** and **Agentic AI** is a classic difference between a **methodology/algorithm** and a **system/paradigm**.\n",
        "\n",
        "In short: **Reinforcement Learning is one of the most powerful learning mechanisms used *inside* an Agentic AI system.**\n",
        "\n",
        "Here is a detailed breakdown of the difference and how they relate:\n",
        "\n",
        "---\n",
        "\n",
        "#### 1. Reinforcement Learning (RL): The Learning Methodology\n",
        "\n",
        "**RL is a specific type of machine learning algorithm or framework.**\n",
        "\n",
        "* **What it is:** A mathematical process for an entity (called an agent) to learn an optimal **policy** (a strategy) by interacting with an **environment** and maximizing a **cumulative reward** through trial-and-error.\n",
        "* **The Goal:** To solve the **credit assignment problem**—figuring out which actions, taken now, will lead to the greatest future reward.\n",
        "* **Its Role in AI:** RL provides the **feedback loop**. It answers the question: ***\"How should I change my decision-making strategy based on the outcome of my actions?\"***\n",
        "* **Key Characteristics:**\n",
        "    * Relies on a mathematical **Markov Decision Process (MDP)** structure.\n",
        "    * Focuses on **long-term optimization** (cumulative reward).\n",
        "    * Algorithms include Q-Learning, PPO, DQN, SAC, etc.\n",
        "\n",
        "---\n",
        "\n",
        "#### 2. Agentic AI: The Autonomous System Paradigm\n",
        "\n",
        "**Agentic AI is the overall architecture or system designed to achieve complex, multi-step goals autonomously.**\n",
        "\n",
        "* **What it is:** A modern AI system, often built on top of a **Large Language Model (LLM)**, that can perceive, reason, plan, act, and reflect with minimal human intervention.\n",
        "* **The Goal:** To execute complex, high-level, real-world tasks that require multiple steps and tool use (e.g., \"Research the top 5 competitors, write a summary, and email it to the team lead\").\n",
        "* **Its Components:** An Agentic AI system typically involves several distinct modules that RL may or may not be involved in:\n",
        "    1.  **Reasoning/Planning:** (Often handled by the LLM) Breaking the goal into subtasks.\n",
        "    2.  **Tool Use/Action:** Executing the subtasks by calling external APIs, databases, or code.\n",
        "    3.  **Memory:** Storing past actions and observations for long-term consistency.\n",
        "    4.  **Learning/Adaptation:** (This is where RL comes in) Refining the strategy over time.\n",
        "\n",
        "##### The Relationship: RL Powers the Agent's Self-Improvement\n",
        "\n",
        "| Feature | Agentic AI (The System) | Reinforcement Learning (The Engine) |\n",
        "| :--- | :--- | :--- |\n",
        "| **Category** | Paradigm, Architecture, or Application | Machine Learning Methodology |\n",
        "| **Primary Focus** | Autonomous **Action** and **Goal Execution** | **Learning** an Optimal Strategy (The Policy) |\n",
        "| **Key Output** | A **sequence of actions** that achieves a high-level goal. | A **policy function** that maps states to actions. |\n",
        "| **Decision-Maker** | The Agent (often an LLM-based *orchestrator*) | The Algorithm (used to train the Agent) |\n",
        "| **How they Intersect** | **Agentic AI** uses **RL** to enable the crucial ability of **self-improvement.** |\n",
        "\n",
        "**Analogy:**\n",
        "\n",
        "* **Agentic AI** is the **Autonomous Car**. It has a high-level goal (\"Drive me from point A to point B\"), can navigate, follow a GPS (planning), and turn the wheel (action).\n",
        "* **Reinforcement Learning** is the **Adaptive Driving Program** *inside* the car. It learns through millions of miles of virtual driving that, for example, braking smoothly (high reward) is better than braking sharply (penalty). The RL system refines the low-level control policy to ensure the overall agent achieves its goal **optimally and safely.**"
      ],
      "metadata": {
        "id": "oWuw6AK8wXD-"
      }
    },
    {
      "cell_type": "markdown",
      "source": [
        "### Data Hook: The Non-Negotiable Resource\n",
        "\n",
        "**Why Data is the Most Important Resource in Modern AI:**\n",
        "\n",
        "Data is so important because in the AI/RL paradigm, **data is experience, and experience is the only source of knowledge.** Without vast amounts of quality data, the mathematical principles of probability and calculus have nothing to model, and the complex frameworks of Reinforcement Learning and Agentic AI cannot function.\n",
        "\n",
        "The entire research focus on **sample inefficiency**—which we identified as RL's biggest limitation—is effectively a race to reduce the crippling cost of obtaining high-quality data.\n",
        "\n",
        "Here are the four reasons why data is non-negotiable for these systems:\n",
        "\n",
        "#### 1. Data Provides the Probability Space (The Foundation)\n",
        "\n",
        "Data gives the system the empirical observations needed to define the environment:\n",
        "\n",
        "* **PDF/CDF:** You can't model the **probability distribution** of a variable (like a price, a customer action, or a robot's motor error) without a history of data points to observe its frequency and range.\n",
        "* **Model Training:** Every machine learning model, whether supervised or part of an RL agent, is a function that learns to map an input state to an output action/prediction. This mapping is entirely learned from the statistical patterns embedded in the data.\n",
        "\n",
        "#### 2. Data is the *Reward* and *Penalty* (The Learning Signal)\n",
        "\n",
        "In Reinforcement Learning, the agent learns exclusively from the **Reward Signal**, which is derived from data generated during interaction.\n",
        "\n",
        "* A simple **data sample** or \"transition\" consists of the state, the action, the resulting reward, and the next state: $(s_t, a_t, r_{t+1}, s_{t+1})$.\n",
        "* If the data is noisy, sparse, or incorrect, the reward signal is corrupted, and the agent learns a **suboptimal or dangerous policy** (a major concern in real-world safety).\n",
        "* The high **sample inefficiency** of traditional RL means that billions of these data samples (experiences) are required before a reliable policy emerges.\n",
        "\n",
        "#### 3. Data Enables Generalization (The Path to Autonomy)\n",
        "\n",
        "An Agentic AI system that only performs well in its training environment is useless. Data is required to make the agent flexible and robust:\n",
        "\n",
        "* **Diverse Data:** To generalize from a simulator to the real world (the Sim-to-Real challenge), the agent must be trained on data that captures the full **diversity and noise** of the real environment (e.g., varying light, friction, and sensor errors).\n",
        "* **LLM Alignment:** In modern Agentic AI (e.g., RLHF), the LLM's \"reasoning\" is fine-tuned on human-generated data ranking its responses. The quality of the final agent is directly proportional to the quality and diversity of the **human preference data** it was shown.\n",
        "\n",
        "#### 4. Data Is the Key to Solving Limitations\n",
        "\n",
        "Every major research solution to the limitations of RL is essentially a new way to use data more effectively:\n",
        "\n",
        "| Limitation | Data-Centric Solution |\n",
        "| :--- | :--- |\n",
        "| **Sample Inefficiency** | **Model-Based RL:** Use collected data to build a virtual environment that generates *infinite synthetic data*. |\n",
        "| **Costly Exploration** | **Offline/Imitation Learning:** Reuse old data or learn from pre-collected **expert data** instead of generating new samples. |\n",
        "| **Brittle Policies** | **Transfer Learning:** Use pre-trained foundation models (LLMs) that have already internalized vast amounts of general text/vision data, giving the agent a **knowledge head start**. |"
      ],
      "metadata": {
        "id": "VWROdH0mw2IH"
      }
    },
    {
      "cell_type": "markdown",
      "source": [
        "### Adolphe Quetelet\n",
        "\n",
        "* 1796 - 1874\n",
        "*   **Application of probability to human affairs** Quetelet believed that probability profoundly influenced human affairs, even more so than his contemporaries believed.\n",
        "*   **Applying the law of error to human beings** Inspired by astronomy, Quetelet thought the law of error could be applied to human measurements.\n",
        "*   **The \"average man\"** Quetelet aimed to determine the average physical and intellectual traits of a population by gathering \"facts of life,\" which could then be graphically represented as bell-shaped curves. This \"average man\" served as a benchmark against which individual behavior could be assessed. However, some critics argued that an individual who is average in all dimensions might not be biologically feasible.\n",
        "*   **Social mechanics** Quetelet championed a new science, called social mechanics, focused on mapping normal physical and moral characteristics. In 1835, he published *A Treatise on Man, and the Development of His Faculties*, detailing the influence of probability on human affairs.\n",
        "*   **Normal distribution in human measurements** Quetelet demonstrated that diverse human measurements, such as the heights of French conscripts and the chest sizes of Scottish soldiers, followed a normal distribution.\n",
        "*   **Use of the normal curve beyond error law** Quetelet was the first to use the normal curve in contexts other than error laws.\n",
        "*   **Studies of crime and social determinism** His work on the consistency of crimes stimulated discussions about free will versus social determinism.\n",
        "*   **Data collection and census improvements** Quetelet collected and analyzed statistics on crime and mortality for the government and improved census methods.\n",
        "*   **Quetelet Index** He developed the Quetelet index, now used internationally as a measure of obesity. The Quetelet index is calculated as weight in kilograms divided by the square of height in meters; a value greater than 30 indicates obesity.\n",
        "*   **International Collaboration** Quetelet organized the first international statistics conference in 1853 and helped form the Statistical Society of London, the International Statistics Congresses, and the Statistical Section of the British Association for the Advancement of Science. He was also the first foreign member of the American Statistical Association.\n",
        "*   **Racial Differences** Quetelet viewed average physical and mental qualities as real properties awaiting discovery, which gave strength to ideas of racial differences in 19th-century European thought.\n",
        "*   **Eugenics** Quetelet's normal curve provided a scale to grade people. When Galton used the curve, he predicted that it would always apply to \"men of the same race\".\n",
        "\n",
        "Quetelet's use of the \"average man\" concept relied on the idea of the \"persistence of causes,\" suggesting that the average of large datasets would remain stable if the underlying causal relationships did not change. Quetelet believed that as the number of observations increased, individual peculiarities would diminish, allowing general societal facts to become more prominent.\n"
      ],
      "metadata": {
        "id": "qT6i_pz2UHP0"
      }
    },
    {
      "cell_type": "markdown",
      "source": [
        "### Eugenics\n",
        "\n",
        "* Francis Galton and Correlation:\n",
        "    * Galton is recognized for discovering the concept of correlation.\n",
        "    * His work stemmed from his research on heredity, particularly how physical traits like height are passed down.\n",
        "    * He defined \"co-relation\" as the tendency for variables to vary together in a consistent direction.\n",
        "* Eugenics and Galton's Beliefs:\n",
        "    * Galton coined the term \"eugenics\" and advocated for \"race betterment.\"\n",
        "    * He believed in a racial hierarchy.\n",
        "    * He promoted selective breeding, encouraging it among elites and discouraging it among those he deemed \"undesirable\" (e.g., those with \"lunacy, feeble-mindedness, habitual criminality, and pauperism\").\n",
        "* The Connection Between Eugenics and Statistics (How Eugenics Shaped Statistics - Nautilus):\n",
        "    * Statistical methods, including significance testing, were developed in part to support eugenicist goals, such as identifying perceived racial differences.\n",
        "    * This historical connection reveals the deep intertwining of statistical thinking and eugenicist ideology.\n"
      ],
      "metadata": {
        "id": "X9f8j-EwG0Qi"
      }
    },
    {
      "cell_type": "markdown",
      "metadata": {
        "id": "4df57c65"
      },
      "source": [
        "### Francis Galton\n",
        "\n",
        "* Sir Francis Galton, 1822 - 1911\n",
        "* Considered grandfather of statistics\n",
        "* Popularized regression to the mean\n",
        "* English Victorian era polymath: a statistician, sociologist, psychologist,[1] anthropologist, tropical explorer, geographer, inventor, meteorologist, proto-geneticist, psychometrician and a proponent of social Darwinism, eugenics, and scientific racism. He was knighted in 1909.\n",
        "* He was Charles Darwin's half-cousin, sharing the common grandparent Erasmus Darwin. His father was Samuel Tertius Galton, son of Samuel Galton, Jr. He was also a cousin of Douglas Strutt Galton. The Galtons were Quaker gun-manufacturers and bankers, while the Darwins were involved in medicine and science.\n",
        "* Galton was interested at first in the question of whether human ability was hereditary, and proposed to count the number of the relatives of various degrees of eminent men. If the qualities were hereditary, he reasoned, there should be more eminent men among the relatives than among the general population.\n",
        "* A family of geniuses.\n",
        "* On Friday 19 February 1877 Galton gave a lecture entitled Typical Laws of Heredity at the Royal Institution in London. In this lecture, he posited that there must be a counteracting force to maintain population stability. His showpiece for the night was the Galton board.\n",
        "* Galton invented the term eugenics ...  believed that a scheme of 'marks' for family merit should be defined, and early marriage between families of high rank be encouraged via provision of monetary incentives. He pointed out some of the tendencies in British society, such as the late marriages of eminent people, and the paucity of their children, which he thought were dysgenic. He advocated encouraging eugenic marriages by supplying able couples with incentives to have children. On 29 October 1901, Galton chose to address eugenic issues when he delivered the second Huxley lecture at the Royal Anthropological Institute.\n",
        "* According to the Encyclopedia of Genocide, Galton bordered on the justification of genocide when he stated: \"There exists a sentiment, for the most part quite unreasonable, against the gradual extinction of an inferior race.\n",
        "\n",
        "### The Galton Board and the Bell Curve\n",
        "\n",
        "* The path of any individual ball is like a sequence of independent coin flips\n",
        "* The ball can go left or right at each pin\n",
        "* It seems random but with a large sample a probability distribution appears, a normal distribution\n",
        "* Galton noted the same shape when comparing the height of 1000 French military recruits\n",
        "* Galton board was a model for the inheritance of stature and many other genetic traits\n",
        "* The balls inherit their position the same way humans inherit their stature\n",
        "* One way to illustrate a problem with this is by doubling the width of the Galton board base thus increasing the number of rows and pegs and increasing the variance of the distribution\n",
        "* Galton wanted to prove superior intellect through breeding without taking into account privilege\n",
        "* The idea of superior, again, is defined by the culture and not universal\n",
        "* Galton thought he had discovered a law of heredity instead of statistics, the regression of the mean\n",
        "* Thought regression toward the mean was nature's way of keeping things the same from generation to generation\n",
        "* This was thought of as causal but soon abandoned this idea in favor of correlation\n",
        "* Did a lot of father-son pair height testing\n",
        "* Predictions for heights seemed to fall on a line, the line of regression\n",
        "* Soon causation became highly frowned upon; thought to not exist; there are only relationships, association, correlation. More on this next week when we introduce (C)Karl Pearson\n",
        "\n",
        "The Book of Why, Judea Pearl and Dana Mackenzie, Chapter 2"
      ]
    },
    {
      "cell_type": "markdown",
      "metadata": {
        "id": "715565d5"
      },
      "source": [
        "### Pearson\n",
        "\n",
        "Content for the following individuals draw heavily on Wikipedia and The Book of Why Chapter 2 by Judea Pearl and Dana Mackenzie\n",
        "\n",
        "* 1857 - 1936\n",
        "* An English mathematician and biostatistician\n",
        "* That's Karl Pearson with a C\n",
        "* Spent most of the 1880s in Germany / Austria\n",
        "* Loved Germany so much he changed his name from Carl to Karl\n",
        "* A women's right and equality activist, founder of the Men and Women's Club\n",
        "* A socialist that offered help translating some of Karl Marx's work (Das Kapital)\n",
        "* Secured a grant for a biometrics lab at the University of College London\n",
        "* The lab became a department when Galton passed and left an endowment for a professorship as long as Pearson was the first holder\n",
        "* Had to explain what he calls genuine (organic) correlation and spurious correlation\n",
        "* For example, there's a strong correlation between a country's chocolate consumption and Nobel Prize winners\n",
        "* Pearson felt that Galton did away with causation and 1 was just perfect correlation\n",
        "* Data is all there is to science\n",
        "* Galton says that relationships didn't need a casual explanation\n",
        "* Pearson went further by removing causation from science\n",
        "* Pearson belonged to the Positivist School which holds that the universe is a product of human thought and that science is just the expression of these thoughts\n",
        "* Thus causation, outside our thoughts, does not exist\n",
        "* Thoughts can only reflect patterns of observations and can be completely described by correlations\n",
        "* Laws of Nature as Descriptive, Not Causal: Pearson viewed the laws of nature as tools for making accurate predictions and for concisely describing trends in observed data, rather than identifying biological mechanisms. He saw causation as simply the experience \"that a certain sequence has occurred and recurred in the past\".\n",
        "* Emphasis on Mathematical Descriptions: Pearson believed that biologists should focus on providing mathematical descriptions of empirical data rather than trying to identify particular mechanisms of genetics.\n",
        "* Criticism of Biologists' Speculation: He criticized biologists who, in his view, succumbed to \"almost metaphysical speculation as to the causes of heredity,\" which replaced the process of experimental data collection. Pearson stressed the importance of statistical validity in theories. He stated that \"before we can accept any cause of a progressive change as a factor we must have not only shown its plausibility but if possible have demonstrated its quantitative ability\".\n",
        "* Idealism and the Role of the Mind: Pearson's perspective was rooted in idealism, emphasizing ideas or pictures in a mind. He asserted that science is essentially a classification and analysis of the contents of the mind, and scientific law is a product of the human mind with no meaning apart from man.\n",
        "* Pearson's focus was on using statistical methods to reveal fundamental truths about people, presenting them as unquestionable as the law of gravity. He believed that by allowing numbers to tell their own story, objective truths could be revealed."
      ]
    },
    {
      "cell_type": "markdown",
      "metadata": {
        "id": "dd0e4eaf"
      },
      "source": [
        "### R. A. Fisher\n",
        "\n",
        "* 1890 - 1962\n",
        "* Worked as a statistician in the City of London and taught physics and maths\n",
        "* Popularized the p-value\n",
        "* Linear discriminant analysis\n",
        "* F-distribution\n",
        "* Student's t-distribution\n",
        "* He was from an early age a supporter of certain eugenic ideas, and it is for this reason that he has been accused of being a racist and an advocate of forced sterilisation (Evans 2020). His promotion of eugenics has recently caused various organisations to remove his name from awards and dedications of buildings (Tarran 2020; Rothamsted Research 2020; Society for the Study of Evolution 2020; Gonville and Caius College 2020). https://www.nature.com/articles/s41437-020-00394-6\n",
        "Fisher's Eugenics Background: Ronald Fisher was a committed eugenicist. He was the chair of the Cambridge Eugenics Society as a student. Fisher wrote prolifically for The Eugenics Review. He was the Galton Professor of Eugenics at University College London and editor of the Annals of Eugenics.\n",
        "* Fisher's Statistical Contributions: Fisher is responsible for key statistical terms and concepts including \"parameter estimation,\" \"maximum likelihood,\" and \"sufficient statistic\". His 1925 textbook, Statistical Methods for Research Workers, introduced significance testing. Fisher formalized the use of the p-value in statistics. He proposed p=0.05 as a limit for statistical significance. Fisher supplied statistical tests like Fisher's F-test, ANOVA (analysis of variance), and Fisher's exact test.\n",
        "* Fisher promoted significance testing as a way to decide all manner of questions, viewing it as having an objective basis.\n",
        "* Galton, Pearson, and Fisher needed a quantitative way to argue for the existence of eugenic differences, and they used significance testing to do so.\n",
        "* Significance testing was useful for stating that racial subgroups existed, or that there was a \"significant\" correlation between intelligence and cleanliness, or a \"significant\" difference in criminality, fertility, or disease between socioeconomic classes.\n",
        "* Fisher’s eugenicist proposals aimed to exclude \"inferior types\" from the statistics profession.\n",
        "* In 1904, Karl Pearson published a study that reported similar correlations between inherited traits like eye color and mental qualities like \"vivacity\" among siblings. He concluded that these traits were equally hereditary, leading to eugenicist conclusions about breeding intelligence.\n",
        "* Pearson argued that an asymmetry in skull measurements indicated different races, further arguing for racial superiority.\n",
        "* Criticism of Statistical Significance: Critics argue that a scientific hypothesis is more than a statistical hypothesis, and should explain why, by how much, and why it matters. Significance testing only asks \"whether\" an effect or association exists, not how much or why it matters.\n",
        "\n",
        "\n"
      ]
    },
    {
      "cell_type": "markdown",
      "metadata": {
        "id": "d32f6f0a"
      },
      "source": [
        "### Sewall Wright and Guinea Pigs\n",
        "\n",
        "* 1889 - 1988\n",
        "* Statistics may be regarded as the study of methods of the reductions of data\n",
        "* Wright argued that statistics was more than just a collection of mathematical methods\n",
        "* Wright went to Harvard to study genetics and about 1915 got a job with the USDA taking care of Guinea Pigs\n",
        "* The Guinea Pigs turned out to be the spring board to Wright's success\n",
        "* Evolution was not gradual, as Darwin posited, but happens in bursts\n",
        "* 1925, Wright was faculty at University of Chicago and stayed close to Guinea Pigs\n",
        "* A story is that he was handling a Gunea Pig while lecturing at the chalk board and mistakenely used the Guinea Pig to erase the board\n",
        "* Guinea Pig coat color refused to play by the genetic understanding of the time\n",
        "* It proved impossible to breed an all white / all colored guinea pig\n",
        "* Even the most inbred had a wide variation\n",
        "* Wright postulated that genetics alone governed coat color and added developmental factors in the womb\n",
        "* Something in the womb was `causing` coat color\n",
        "* 20 generations eliminated the genetic variation while maintaining the developmental factors\n",
        "* Wright's work with guinea pigs contributed to his development of path analysis, which is now used in the social sciences\n",
        "* Path Analysis is a causal modeling approach to exploring the correlations within a defined network. The method is also known as Structural Equation Modeling\n",
        "* https://en.wikipedia.org/wiki/Sewall_Wright#Evolutionary_theory\n",
        "Path analysis can disredit causation but cannot prove causation\n",
        "* Wright, even though right, according to Judea Pearl, was severely attacked at the time by Fisher\n",
        "Sewall Wright's contributions to statistics, particularly his development of path analysis, offer a distinct approach that, in some ways, rivaled Fisher's statistical methods.\n",
        "*   **Path Analysis:** Wright invented path analysis in 1921, which is a statistical method that uses a graphical model and is still widely used in social science. Path analysis is a technique for estimating unknown parameters given a set of simultaneous equations, and of mapping out the interrelations among a pre-determined network of variables. It is credited to biometrician Sewall Wright.\n",
        "\n",
        "*   **Population Genetics**: Wright was a founder of population genetics alongside Ronald Fisher and J. B. S. Haldane. Their theoretical work is the origin of the modern evolutionary synthesis or neo-Darwinian synthesis. Wright, along with Fisher, pioneered methods for computing the distribution of gene frequencies among populations as a result of the interaction of natural selection, mutation, migration and genetic drift.\n",
        "\n",
        "*   **Coefficient of Determination:** Wright is credited with creating the statistical coefficient of determination, first published in 1921. This metric is commonly employed to evaluate regression analyses in computational statistics and machine learning.\n",
        "\n",
        "*   **Inbreeding Coefficient:** Wright discovered the inbreeding coefficient and methods of computing it in pedigree animals and extended this work to populations, computing the amount of inbreeding between members of populations as a result of random genetic drift.\n",
        "\n",
        "*   **Wright's View on Causation:** Wright introduced his method of path coefficients in the context of causality and perhaps unintentionally, forever linked the statistical method with causal issues. Essential to the controversy surrounding Wright’s methods were claims, originally advanced by Wright, that the method could be applied to problems in which causality among variables could be assumed. Wright outlined two ways in which the method of path coefficients may be correctly employed: 1) should one have presumed knowledge of the causal relations inherent in a system of variables, path analysis could be used to find “the degree to which variation of a given effect is determined by each particular cause”, and 2) in those situations in which causal relations were uncertain, the method of path coefficients could be used to deduce the logical consequences inherent in the system.\n",
        "\n",
        "*   **Rivalry with Fisher**:\n",
        "    *   **Interpretation of Population Genetics:** By the mid-1920s, interpretation of the mathematical theories of population genetics became a point of contention between Fisher and Wright, and the issue became acrimonious. Dispute persisted for the rest of Fisher's life.\n",
        "    *   **Genetic Theory of Dominance:** Wright did not accept Fisher's genetic theory of dominance, but instead considered it to arise from biochemical considerations.\n",
        "\n",
        "*   **How Wright's Approach Differed from Fisher's**:\n",
        "    *   **Causal Modeling**: Wright explicitly linked his path analysis to causal inference.\n",
        "    *   **Emphasis on Multiple Factors**: Wright focused on the interaction of genetic drift and other evolutionary forces.\n",
        "    *   **Fitness Landscapes**: Wright described the relationship between genotype or phenotype and fitness as fitness surfaces or evolutionary landscapes.\n",
        "    *   **Holistic View**: Wright's approach incorporated a broader view of evolutionary processes, considering multiple interacting factors and emphasizing the importance of genetic drift alongside natural selection.\n",
        "    *   **Panpsychism**: Wright was one of the few geneticists of his time to venture into philosophy. He endorsed a form of panpsychism, believing that consciousness was an inherent property of elementary particles rather than an emergent property of complexity.\n",
        "\n",
        "While Fisher focused heavily on statistical significance and hypothesis testing, Wright's path analysis provided a method for exploring and visualizing complex relationships among variables, particularly in the context of genetics and evolution. The two scientists also held differing views regarding population genetics and the genetic theory of dominance.\n",
        "\n",
        "Sewall Wright's work with guinea pigs significantly influenced his theories on evolution, offering a perspective that differed from prevailing views at the time.\n",
        "\n",
        "Here's a breakdown:\n",
        "\n",
        "*   **Empirical Observations**\n",
        "    *   Wright conducted extensive experiments with approximately 80,000 guinea pigs.\n",
        "    *   He analyzed characters of some 40,000 guinea pigs in 23 strains of brother-sister matings against a random-bred stock.\n",
        "\n",
        "*   **Insights into Genetic Drift**:\n",
        "    *   His observations of guinea pig populations over many years demonstrated \"cumulative accidents of sampling\".\n",
        "    *   Wright noted extreme differences between stocks that had been inbred in parallel for many years.\n",
        "\n",
        "*   **Shifting Balance Theory**:\n",
        "    *   Wright's guinea pig studies contributed to his \"shifting balance\" theory of evolution.\n",
        "    *   This theory posits that optimal conditions for adaptive evolution occur in large populations subdivided into partially isolated groups.\n",
        "    *   In smaller subpopulations, genetic drift has a significant influence, allowing groups to diverge more rapidly.\n",
        "    *   Subpopulations that happen upon a more adaptive combination of alleles will spread and take over the population.\n",
        "\n",
        "*   **Adaptive Landscape**:\n",
        "    *   Wright introduced the concept of an \"adaptive landscape\" with fitness peaks and maladaptive valleys.\n",
        "    *   He argued that large, freely mixing populations tend to get trapped in locally adaptive peaks, while subdivided populations can more efficiently explore the broader landscape of gene combinations.\n",
        "    *   According to Wright, small populations would be able to drift away from a locally adaptive peak in the fitness landscape, across a saddle to scale an even higher peak.\n",
        "\n",
        "*   **Differences from prevailing evolutionary thinking**:\n",
        "    *   **Emphasis on Genetic Drift**: Wright emphasized the role of random genetic drift, which he sometimes referred to as the Sewall Wright effect.\n",
        "    * **Genetic drift** refers to **cumulative, stochastic (random) changes in gene frequencies** that arise from random births, deaths, and Mendelian segregations in reproduction. It is also sometimes known as the Sewall Wright effect. Sewall Wright's guinea pig studies demonstrated genetic drift. Wright emphasized the role of random genetic drift as an important evolutionary force, in addition to natural selection.\n",
        "    *   **Mendelian segregations** are a component of genetic drift.\n",
        "    *   **Genetic drift** refers to cumulative, stochastic (random) changes in gene frequencies that arise from random births, deaths, and **Mendelian segregations** in reproduction.\n",
        "    *   **Interaction of Evolutionary Forces**: Wright was convinced that the interaction of genetic drift and other evolutionary forces was important in adaptation, not simply natural selection.\n",
        "    *   **Subdivided Populations**: He theorized that subdivided populations could more efficiently explore gene combinations, which runs contrary to large, freely mixing populations.\n",
        "\n",
        "*   **Conflict with Fisher**: Wright's shifting balance theory and emphasis on genetic drift led to conflict with R.A. Fisher, another pioneer in population genetics. Fisher believed that most natural populations were too large for the effects of genetic drift to be significant.\n",
        "\n",
        "Wright's guinea pig experiments provided empirical evidence for the power of genetic drift and the importance of population structure in evolution. His theories offered a nuanced perspective that took into account the interplay of multiple evolutionary forces, which contrasted with views that prioritized natural selection as the primary driver of adaptation.\n",
        "\n",
        "\n",
        "\n"
      ]
    },
    {
      "cell_type": "markdown",
      "source": [
        "### Mendel\n",
        "\n",
        "* 1824 - 1888\n",
        "* **Mendel's laws of inheritance**, established by Gregor Mendel through experiments with pea plants, include the \"Law of Dominance,\" the \"Law of Segregation,\" and the \"Law of Independent Assortment,\" which explain how traits are passed from parents to offspring, stating that each individual carries two alleles for a trait, with one allele being passed on to each offspring during gamete formation, and that different traits are inherited independently of one another.\n",
        "*   **Mendel's laws of inheritance** were reconciled with Darwin's vision of natural selection through formal frameworks such as Sewall Wright’s “Evolution in Mendelian populations”.\n",
        "*   **Mendel's principles were rediscovered in 1900**, which resulted in a conflict between the biometricians, who followed Galton's Law of Ancestral Heredity, and those who advocated for Mendel's principles.\n",
        "*   Ronald Fisher's 1930 book *The Genetical Theory of Natural Selection* helped reconcile **Mendelian genetics with Darwinian evolution**.\n",
        "*   In 1944, Fisher used a Pearson's chi-squared test to analyze Mendel's data and concluded that **Mendel's results were far too perfect**, suggesting that adjustments (intentional or unconscious) had been made to the data to make the observations fit the hypothesis."
      ],
      "metadata": {
        "id": "WRb5VnLYOTgd"
      }
    },
    {
      "cell_type": "markdown",
      "source": [
        "### Darwin\n",
        "\n",
        "* 1809 - 1882\n",
        "* Evolution by natural selection\n",
        "  * within a species, individuals exhibit variation in traits\n",
        "  * these variations are heritable (passed on to offspring)\n",
        "  * more offspring are produced than can survive, leading to a \"struggle for existence\"\n",
        "  * individuals with advantageous traits for their environment are more likely to survive and reproduce, causing these beneficial traits to become more common in the population over time, potentially leading to new species through gradual change. [1, 2, 3, 4, 5]\n",
        "* Variation exists: Individuals within a population have natural variations in their traits. [3, 5, 6]  \n",
        "* Inheritance: These variations are passed on from parents to offspring through genetic material. [3, 4, 5]  \n",
        "* Competition for survival: Due to overpopulation, there is a struggle for limited resources, leading to competition among individuals. [4, 5, 6]  \n",
        "* Natural selection: Individuals with advantageous traits are more likely to survive and reproduce, passing on those traits to their offspring. [3, 4, 5]  \n",
        "* Gradual change: Over many generations, these small variations accumulate, leading to significant changes in a population and potentially the emergence of new species. [2, 5, 6]  \n",
        "* Darwin and eugenics: https://hsm.stackexchange.com/questions/3328/did-darwin-ever-express-his-views-on-eugenics\n"
      ],
      "metadata": {
        "id": "DEAxtFWhOI24"
      }
    },
    {
      "cell_type": "markdown",
      "source": [
        "### The Reconciliation\n",
        "\n",
        "\"Initially, the groundbreaking work of Gregor Mendel on inheritance and Charles Darwin's theory of natural selection were perceived as distinct, and at times, conflicting concepts. Mendel's meticulous experiments with pea plants revealed the fundamental principles of inheritance, demonstrating the transmission of traits through discrete units, now known as genes (Mendel, 1866). Conversely, Darwin's theory of natural selection posited that species evolve through the differential survival and reproduction of individuals with advantageous traits (Darwin, 1859).\n",
        "\n",
        "However, a pivotal shift occurred when scientists recognized the complementary nature of these theories, forming a more comprehensive understanding of evolutionary processes. Darwin's theory elucidated how favorable traits proliferate within a population, yet it lacked a clear explanation of the inheritance mechanism (Darwin, 1859). Mendel's laws, on the other hand, provided this crucial missing link, elucidating the precise manner in which traits are passed across generations (Mendel, 1866).\n",
        "\n",
        "This reconciliation, often referred to as the modern evolutionary synthesis, underscored that Mendelian inheritance serves as the fundamental genetic mechanism underpinning Darwinian natural selection. In essence, Mendel's laws explained the 'how' of trait inheritance, while Darwin's theory explained the 'why' of evolutionary change over time, resulting from the selection of those inherited traits.\"\n",
        "\n",
        "**General References for Further Reading:**\n",
        "\n",
        "* **Darwin, C. (1859). *On the origin of species by means of natural selection, or the preservation of favoured races in the struggle for life*. John Murray.** (This is the foundational text for Darwin's theory of natural selection.)\n",
        "* **Mendel, G. (1866). Versuche über Pflanzen-Hybriden. *Verhandlungen des naturforschenden Vereines in Brünn, IV. Abhandlungen*, 3-47.** (This is Mendel's original paper on his pea plant experiments, a key work in genetics.)\n",
        "* **Any modern Evolutionary biology or Genetics Textbook.** (These will have sections covering the work of both scientists and the Modern Synthesis.)\n",
        "* **Biographies of Charles Darwin and Gregor Mendel.** (These provide valuable context and historical perspective.)\n",
        "\n"
      ],
      "metadata": {
        "id": "9ESsXCDfrhLa"
      }
    },
    {
      "cell_type": "markdown",
      "source": [
        "### Sewall Wright Comparison\n",
        "\n",
        "\"While both Sewall Wright and the combined contributions of Mendel and Darwin have profoundly shaped our understanding of evolution, their works differ significantly in focus, emphasis, key concepts, and methods.\n",
        "\n",
        "**Focus:**\n",
        "\n",
        "The collaborative work of Mendel and Darwin centers on the fundamental mechanisms of heredity, as elucidated by Mendel's laws, and the subsequent evolutionary changes driven by natural selection, as outlined by Darwin (e.g., Mendel, 1866; Darwin, 1859). In contrast, Sewall Wright's research delves into the intricate complexities of evolutionary processes, encompassing factors such as genetic drift, population structure, and the interplay of multiple evolutionary forces (e.g., Wright, 1931).\n",
        "\n",
        "**Emphasis:**\n",
        "\n",
        "Mendel and Darwin's work emphasizes the role of variation and selection in driving gradual evolutionary changes within populations over time (e.g., Darwin, 1859). Wright, however, underscored the significance of random genetic drift and the impact of population structure, offering a more nuanced perspective on evolutionary dynamics (e.g., Wright, 1931).\n",
        "\n",
        "**Key Concepts:**\n",
        "\n",
        "The core concepts associated with Mendel and Darwin include genes, alleles, inheritance patterns, variation, natural selection, and adaptation (e.g., Darwin, 1859). Sewall Wright introduced pivotal concepts such as genetic drift, the \"shifting balance\" theory, adaptive landscapes, and path analysis (e.g., Wright, 1931).\n",
        "\n",
        "**Methods:**\n",
        "\n",
        "Mendel employed controlled breeding experiments with pea plants, while Darwin relied on meticulous observation and comparative analysis (e.g., Mendel, 1866; Darwin, 1859). Wright's methodologies encompassed both empirical studies, such as his experiments with guinea pigs, and sophisticated theoretical modeling, including path analysis (e.g., Wright, 1931).\n",
        "\n",
        "In essence, Mendel and Darwin laid the groundwork for understanding the fundamental principles of inheritance and natural selection, whereas Sewall Wright expanded upon this foundation by exploring the more intricate and multifaceted aspects of evolutionary processes.\"\n",
        "\n",
        "**General References for Further Reading:**\n",
        "\n",
        "* **Darwin, C. (1859). *On the origin of species by means of natural selection, or the preservation of favoured races in the struggle for life*. John Murray.** (This is the foundational text for Darwin's theory of natural selection.)\n",
        "* **Mendel, G. (1866). Versuche über Pflanzen-Hybriden. *Verhandlungen des naturforschenden Vereines in Brünn, IV. Abhandlungen*, 3-47.** (This is Mendel's original paper on his pea plant experiments, a key work in genetics.)\n",
        "* **Wright, S. (1931). Evolution in Mendelian populations. *Genetics*, *16*(2), 97–159.** (This is a significant paper by Wright that introduced many of his key ideas about population genetics.)\n",
        "* **Provine, W. B. (1986). *Sewall Wright: geneticist and evolutionist*. University of Chicago Press.** (This is a comprehensive biography of Sewall Wright.)\n",
        "* **Any modern Evolutionary biology or Genetics Textbook.** (These will have sections covering the work of all three scientists.)\n",
        "*   **Francis Galton - Wikipedia:** [https://en.wikipedia.org/w/index.php?title=Francis\\_Galton&oldid=1276619382](https://en.wikipedia.org/w/index.php?title=Francis_Galton&oldid=1276619382)\n",
        "*   **How Eugenics Shaped Statistics - Nautilus:** The article is part of Nautilus Magazine, accessible via their website.\n",
        "*   **Karl Pearson - Wikipedia:** The general URL for Wikipedia is [https://en.wikipedia.org](https://en.wikipedia.org), but a specific URL for the Karl Pearson page was not provided.\n",
        "*   **Ronald Fisher - Wikipedia:** The general URL for Wikipedia is [https://en.wikipedia.org](https://en.wikipedia.org), but a specific URL for the Ronald Fisher page was not provided.\n",
        "*   **Sewall Wright - Wikipedia:** The general URL for Wikipedia is [https://en.wikipedia.org](https://en.wikipedia.org), but a specific URL for the Sewall Wright page was not provided.\n",
        "*   **Facing History & Ourselves:** [https://www.facinghistory.org](https://www.facinghistory.org)\n",
        "*   \"Adolphe Quetelet (1796-1874)\" https://en.wikipedia.org/wiki/Adolphe_Quetelet\n",
        "*   \"ORIGINS OF PATH ANALYSIS: Causal Modeling and the Origins of Path Analysis\" https://www.sciencedirect.com/topics/economics-econometrics-and-finance/path-analysis\n",
        "*   \"Sewall Wright: Evolving Mendel – Genes to Genomes\" https://genestogenomes.org/sewall-wright-evolving-mendel/\n"
      ],
      "metadata": {
        "id": "7NKn9kxisQNZ"
      }
    },
    {
      "cell_type": "markdown",
      "source": [
        "## Early 20th Century Foundations → Hypothesis Testing & Design (1900–1950)\n",
        "\n",
        "Modern statistical inference\n",
        "\n",
        "* “Student” (Gosset and Guinness) develops the t-distribution for small-sample inference; Fisher codifies likelihood, sufficiency, maximum likelihood, p-values, and ANOVA.\n",
        "* Neyman–Pearson develop hypothesis testing frameworks: Type I/II errors, power, confidence intervals via coverage.\n",
        "* Experiments and agriculture → the template for A/B testing\n",
        "* Fisher’s randomized, replicated field trials at Rothamsted provide the blueprint: randomization, blocking, factorial designs, and ANOVA carry directly into industrial and, later, online experiments.\n",
        "\n"
      ],
      "metadata": {
        "id": "kHonccgOdHNC"
      }
    },
    {
      "cell_type": "markdown",
      "source": [
        "## Mid–Late 20th Century (1950s–1990s): From Industry to Computing to the Web\n",
        "\n",
        "* Design of Experiments spreads to manufacturing and medicine; generalized linear models (Nelder & Wedderburn), robust statistics (Huber), nonparametrics (Wilcoxon, Mann–Whitney), and multivariate analysis (PCA, discriminant analysis) become standard.\n",
        "* Time-series methods (Box–Jenkins ARIMA) formalize forecasting; the bootstrap (Efron) reframes uncertainty by resampling.\n",
        "* Computing revolution - Electronic computers make simulation (Monte Carlo), optimization, and large-scale estimation routine; data visualization advances.\n",
        "* A/B testing roots and web era - The randomized, two-arm comparison from agriculture/industry becomes the A/B test in digital products; by the 1990s the logic—randomize users, compare variants, analyze with t/χ²/ANOVA—sets the stage for the 2000s online experimentation culture.\n",
        "* Key terms - GLM, logistic/Poisson regression, robustness, bootstrap, ARIMA, experimental platform, online controlled experiment (A/B test).\n"
      ],
      "metadata": {
        "id": "z3MJMotZdMC1"
      }
    },
    {
      "cell_type": "markdown",
      "source": [
        "## Repeated Random Sampling"
      ],
      "metadata": {
        "id": "n43jizvbHJmg"
      }
    },
    {
      "cell_type": "markdown",
      "source": [
        "### Monte Carlo\n",
        "\n",
        "Monte Carlo methods are a broad class of computational algorithms that rely on **repeated random sampling** to obtain numerical results. They are particularly useful for solving problems that are difficult to solve using deterministic (exact) analytical methods, such as integration, optimization, and generating samples from complex probability distributions.\n",
        "\n",
        "The core idea is: **Use randomness to estimate a deterministic value.**\n",
        "\n",
        "-----\n",
        "\n",
        "#### How Monte Carlo Works (The General Steps)\n",
        "\n",
        "1.  **Define a Domain:** Establish a range of possible inputs (the \"space\" of your problem).\n",
        "2.  **Generate Samples:** Randomly and uniformly sample points within this domain. The more samples you take, the more accurate the result will be.\n",
        "3.  **Perform Calculation/Test:** Perform a test or calculation on each sample.\n",
        "4.  **Aggregate Results:** Sum or average the results of the individual samples to get the final estimate.\n",
        "\n",
        "-----\n",
        "\n",
        "#### Python Example: Estimating Pi ($\\pi$)\n",
        "\n",
        "A classic example of Monte Carlo simulation is estimating the value of $\\pi$ by using random points inside a square that contains a circle.\n",
        "\n",
        "1.  **Define the Domain:** Consider a square that spans from $(-1, -1)$ to $(1, 1)$, with an area of $2 \\times 2 = 4$.\n",
        "2.  **Define the Target Area:** Inscribe a quarter-circle (or a full circle) inside this square, centered at the origin $(0, 0)$. A quarter-circle in the first quadrant has a radius of $r=1$ and an area of $\\frac{1}{4}\\pi r^2 = \\frac{\\pi}{4}$.\n",
        "3.  **The Ratio:** The ratio of the area of the quarter-circle to the area of the square is:\n",
        "    \n",
        "$$\\frac{\\text{Area}_{\\text{Circle}}}{\\text{Area}_{\\text{Square}}} = \\frac{\\pi/4}{1} = \\frac{\\pi}{4}$$\n",
        "\n",
        "4.  **The Estimation:** If you randomly throw $N$ darts at the square, the proportion of darts that land inside the circle ($\\text{Hits}/N$) should approximate this area ratio ($\\pi/4$).\n",
        "\n",
        "$$\\frac{\\text{Hits}}{N} \\approx \\frac{\\pi}{4}$$   \n",
        "$$\\text{Estimated } \\pi \\approx 4 \\times \\frac{\\text{Hits}}{N}$$\n",
        "\n",
        "**Key Takeaways**\n",
        "\n",
        "  * **Accuracy vs. Samples:** The accuracy of the Monte Carlo estimate generally improves with the square root of the number of samples ($\\sqrt{N}$). To double the accuracy, you need to quadruple the number of samples.\n",
        "  * **Applications:** Monte Carlo methods are widely used in finance (option pricing), physics (simulating particle interactions), and machine learning (e.g., Monte Carlo Tree Search in AI)."
      ],
      "metadata": {
        "id": "d2LjkgJOHQlh"
      }
    },
    {
      "cell_type": "code",
      "source": [
        "# monte carlo example\n",
        "import random\n",
        "\n",
        "def estimate_pi_monte_carlo(N):\n",
        "    \"\"\"\n",
        "    Estimates Pi using the Monte Carlo method.\n",
        "    N: The number of random samples (darts) to throw.\n",
        "    \"\"\"\n",
        "    points_in_circle = 0\n",
        "    total_points = N\n",
        "\n",
        "    # 1. Generate Samples (randomly throw 'darts')\n",
        "    for _ in range(N):\n",
        "        # Generate random x and y coordinates between 0 and 1\n",
        "        x = random.uniform(0, 1)\n",
        "        y = random.uniform(0, 1)\n",
        "\n",
        "        # 2. Perform Calculation/Test: Check if the point is in the quarter-circle\n",
        "        # The equation for a circle centered at (0,0) is x^2 + y^2 = r^2.\n",
        "        # Here, r=1, so we check if x^2 + y^2 <= 1.\n",
        "        distance_squared = x**2 + y**2\n",
        "\n",
        "        if distance_squared <= 1:\n",
        "            points_in_circle += 1\n",
        "\n",
        "    # 3. Aggregate Results: Calculate the estimate\n",
        "    # Ratio (Hits/N) approx pi/4  =>  pi approx 4 * (Hits/N)\n",
        "    estimated_pi = 4 * (points_in_circle / total_points)\n",
        "\n",
        "    return estimated_pi\n",
        "\n",
        "# Run the simulation with a large number of points\n",
        "NUM_SAMPLES = 1_000_000\n",
        "pi_estimate = estimate_pi_monte_carlo(NUM_SAMPLES)\n",
        "\n",
        "print(f\"Number of Samples: {NUM_SAMPLES}\")\n",
        "print(f\"Estimated value of Pi: {pi_estimate}\")\n",
        "print(f\"Difference from math.pi: {abs(pi_estimate - 3.1415926535)}\")\n",
        "\n"
      ],
      "metadata": {
        "id": "7ENZGPmWIJZK"
      },
      "execution_count": null,
      "outputs": []
    },
    {
      "cell_type": "markdown",
      "source": [
        "### Bootstrapping\n",
        "\n",
        "Bootstrapping is a powerful, non-parametric statistical technique used to estimate the **sampling distribution** of a statistic (like the mean, median, or standard deviation) by **sampling with replacement** from the observed data set. It allows you to estimate the variability and shape of the statistic's distribution, often used to construct **confidence intervals**. 📊\n",
        "\n",
        "#### How Bootstrapping Works\n",
        "\n",
        "The core idea is that your single observed sample is the best estimate of the entire population distribution. Therefore, we treat the sample as the \"population\" and draw smaller \"resamples\" from it to understand the sampling variation.\n",
        "\n",
        "Here are the steps:\n",
        "\n",
        "1.  **Original Sample:** Start with your original dataset of size $N$.\n",
        "2.  **Resampling:** Draw a new sample (a **bootstrap sample**) of size $N$ from the original data, *with replacement*. Because of replacement, a single data point can appear multiple times, or not at all, in the resample.\n",
        "3.  **Calculate Statistic:** Calculate the statistic of interest (e.g., the mean) for this resample.\n",
        "4.  **Repeat:** Repeat steps 2 and 3 a large number of times (e.g., 1,000 to 10,000 times) to create a distribution of the calculated statistic.\n",
        "5.  **Inference:** Use this **bootstrap distribution** to estimate properties like the bias, standard error, and confidence intervals of the statistic.\n",
        "\n",
        "-----\n",
        "\n",
        "#### Python Example: Estimating a 95% Confidence Interval for the Mean\n",
        "\n",
        "In the following example, we'll use bootstrapping to estimate a 95% confidence interval for the mean of a small dataset.\n",
        "\n",
        "The output will give you an interval, for example, **(82.60, 89.20)**. This means we are 95% confident that the true population mean lies somewhere between 82.60 and 89.20."
      ],
      "metadata": {
        "id": "yAa65njvIdAY"
      }
    },
    {
      "cell_type": "code",
      "source": [
        "import numpy as np\n",
        "\n",
        "def bootstrap_confidence_interval(data, num_resamples, confidence_level):\n",
        "    \"\"\"\n",
        "    Estimates a confidence interval for the mean using the bootstrapping method.\n",
        "    \"\"\"\n",
        "    sample_size = len(data)\n",
        "    bootstrap_means = []\n",
        "\n",
        "    # 1. & 2. Resampling and Calculation\n",
        "    for _ in range(num_resamples):\n",
        "        # Create a bootstrap sample by sampling with replacement\n",
        "        # np.random.choice returns a random sample from the array\n",
        "        bootstrap_sample = np.random.choice(data, size=sample_size, replace=True)\n",
        "\n",
        "        # Calculate the statistic (mean) for the bootstrap sample\n",
        "        bootstrap_mean = np.mean(bootstrap_sample)\n",
        "        bootstrap_means.append(bootstrap_mean)\n",
        "\n",
        "    # 3. Inference: Calculate the confidence interval\n",
        "\n",
        "    # Sort the list of bootstrap means\n",
        "    sorted_means = np.sort(bootstrap_means)\n",
        "\n",
        "    # Determine the percentiles for the confidence interval\n",
        "    # For a 95% CI, the lower bound is the 2.5th percentile, and the upper is the 97.5th percentile.\n",
        "    alpha = 1 - confidence_level # e.g., 0.05 for 95%\n",
        "    lower_percentile = alpha / 2  # 0.025\n",
        "    upper_percentile = 1 - (alpha / 2) # 0.975\n",
        "\n",
        "    # Use the numpy percentile function\n",
        "    lower_bound = np.percentile(sorted_means, lower_percentile * 100)\n",
        "    upper_bound = np.percentile(sorted_means, upper_percentile * 100)\n",
        "\n",
        "    return lower_bound, upper_bound, np.mean(data)\n",
        "\n",
        "# --- Example Usage ---\n",
        "# Original sample data (e.g., test scores)\n",
        "data = np.array([78, 85, 92, 88, 95, 80, 75, 90, 83, 86])\n",
        "\n",
        "# Parameters for the simulation\n",
        "NUM_RESAMPLES = 5000\n",
        "CONFIDENCE_LEVEL = 0.95\n",
        "\n",
        "lower, upper, original_mean = bootstrap_confidence_interval(\n",
        "    data, NUM_RESAMPLES, CONFIDENCE_LEVEL\n",
        ")\n",
        "\n",
        "print(f\"Original Sample Mean: {original_mean:.2f}\")\n",
        "print(f\"Number of Bootstrap Resamples: {NUM_RESAMPLES}\")\n",
        "print(f\"{int(CONFIDENCE_LEVEL*100)}% Confidence Interval for the Mean: ({lower:.2f}, {upper:.2f})\")"
      ],
      "metadata": {
        "id": "610B2qomIfYl"
      },
      "execution_count": null,
      "outputs": []
    },
    {
      "cell_type": "markdown",
      "source": [
        "## Conditional Probability and Bayes Theorem\n",
        "\n",
        "**Conditional probability** is the likelihood of an event occurring, given that another event has already occurred. It changes the entire **sample space** (the set of all possible outcomes) to only include the outcomes where the given event has happened.\n",
        "\n",
        "The conditional probability of event $A$ given event $B$ is denoted $P(A|B)$ and calculated as:\n",
        "\n",
        "$$P(A|B) = \\frac{P(A \\cap B)}{P(B)}$$\n",
        "\n",
        "* $P(A|B)$: The probability of $A$ given $B$.\n",
        "* $P(A \\cap B)$: The **joint probability**—the probability that both $A$ and $B$ occur.\n",
        "* $P(B)$: The probability of $B$ occurring.\n",
        "\n",
        "**Analogy:** If you pull a card from a standard deck, the probability of it being a King is $4/52$. If I *tell you* the card is a **face card** (J, Q, K), the probability changes. The sample space is now just the 12 face cards, and there are 4 Kings among them.\n",
        "$$P(\\text{King}|\\text{Face Card}) = \\frac{P(\\text{King} \\cap \\text{Face Card})}{P(\\text{Face Card})} = \\frac{4/52}{12/52} = 4/12$$\n",
        "\n",
        "**Bayes' Theorem** is a mathematical formula that provides a way to calculate a conditional probability by using other related conditional probabilities. Crucially, it shows how to **reverse** the conditionality.\n",
        "\n",
        "It is derived directly from the definition of conditional probability: since $P(A \\cap B) = P(A|B)P(B)$ and $P(A \\cap B) = P(B|A)P(A)$, setting them equal gives:\n",
        "\n",
        "$$P(A|B)P(B) = P(B|A)P(A)$$\n",
        "\n",
        "The standard form of Bayes' Theorem is:\n",
        "\n",
        "$$P(A|B) = \\frac{P(B|A)P(A)}{P(B)}$$\n",
        "\n",
        "The terms in the formula have specific names when applied in a statistical context:\n",
        "\n",
        "* **$P(A|B)$:**\n",
        "    * **Name:** Posterior Probability\n",
        "    * **Description:** The updated probability of $A$ after observing the evidence $B$. (What we want to find)\n",
        "\n",
        "* **$P(A)$:**\n",
        "    * **Name:** Prior Probability\n",
        "    * **Description:** The initial belief about event $A$ before seeing any evidence.\n",
        "\n",
        "* **$P(B|A)$:**\n",
        "    * **Name:** Likelihood\n",
        "    * **Description:** The probability of observing the evidence $B$ given that event $A$ is true.\n",
        "\n",
        "* **$P(B)$:**\n",
        "    * **Name:** Evidence (or Marginal Likelihood)\n",
        "    * **Description:** The total probability of observing the evidence $B$, regardless of $A$.\n",
        "\n",
        "**Role:** Bayes' Theorem is the core tool for **updating beliefs**. You start with an initial belief ($P(A)$) and use new evidence ($B$) to calculate a new, revised belief ($P(A|B)$).\n",
        "\n",
        "**Bayesian Inference** is a statistical framework that uses Bayes' Theorem to update the probability of a **hypothesis** as more **evidence** or data becomes available.\n",
        "\n",
        "It contrasts with the classical (frequentist) approach to statistics by treating unknown parameters (like a coin's true bias) as **random variables** with their own probability distributions, rather than as fixed, unknown constants.\n",
        "\n",
        "The process of Bayesian Inference involves four main steps, which align perfectly with the terms in Bayes' Theorem:\n",
        "\n",
        "1.  **Define the Prior ($P(\\text{Hypothesis})$):**\n",
        "    Establish your initial belief about the hypothesis (or parameter $\\theta$) before seeing the data. This is typically a probability distribution.\n",
        "2.  **Calculate the Likelihood ($P(\\text{Data}|\\text{Hypothesis})$):**\n",
        "    Determine the probability of observing the actual data, assuming the hypothesis is true. This comes from your statistical model.\n",
        "3.  **Compute the Posterior ($P(\\text{Hypothesis}|\\text{Data})$):**\n",
        "    Use Bayes' Theorem to combine the **Prior** and the **Likelihood** to get the **Posterior** distribution.\n",
        "4.  **Prediction and Iteration:**\n",
        "    The resulting **Posterior** becomes the new **Prior** when new data arrives, allowing for a continuous process of learning and belief updating.\n",
        "\n",
        "**Core Idea:** Bayesian inference quantifies uncertainty and learning. It starts with an initial state of knowledge (the **Prior**) and uses data (the **Likelihood**) to systematically shift that knowledge to a refined state (the **Posterior**)."
      ],
      "metadata": {
        "id": "4VAemNN8ibNX"
      }
    },
    {
      "cell_type": "markdown",
      "metadata": {
        "id": "94abe732"
      },
      "source": [
        "## Probability Foundations\n",
        "\n",
        "A FEW YEARS AGO a man won the Spanish national lottery with a ticket that ended in the number 48. Proud of his “accomplishment,” he revealed the theory that brought him the riches. “I dreamed of the number 7 for seven straight nights,” he said, “and 7 times 7 is 48.”1 Those of us with a better command of our multiplication tables might chuckle at the man’s error, but we all create our own view of the world and then employ it to filter and process our perceptions, extracting meaning from  the ocean of data that washes over us in daily life. And we often make errors that, though less obvious, are just as significant as his.\n",
        "\n",
        "* The probability that two events will both occur can never be greater than the probability that each will occur individually. Why not? Simple arithmetic: the chances that event A will occur = the chances that events A and B will occur + the chance that event A will occur and event B will not occur.   \n",
        "* If two possible events, A and B, are independent, then the probability that both A and B will occur is equal to the product of their individual probabilities\n",
        "* If an event can have a number of different and distinct possible outcomes, A, B, C, and so on, then the probability that either A or B will occur is equal to the sum of the individual probabilities of A and B, and the sum of the probabilities of all the possible outcomes (A, B, C, and so on) is 1 (that is, 100%)"
      ]
    },
    {
      "cell_type": "markdown",
      "metadata": {
        "id": "6306c486"
      },
      "source": [
        "### Adding or Multiplying Probabilities\n",
        "\n",
        "* If using the word `or`, add\n",
        "* If using the word `and`, multiply\n",
        "    * What's the probability of rolling a 1 or a 6\n",
        "    * What's the probability of first rolling a 1 and then a 6\n",
        "\n",
        "---\n",
        "    \n",
        "**Adding Probabilities (The \"OR\" Rule)**\n",
        "\n",
        "You **add** probabilities when you want to find the chance of **at least one** of several events occurring. This applies to **mutually exclusive events**, meaning the events cannot happen at the same time.\n",
        "\n",
        "* $P(A \\cup B) = P(A) + P(B)$\n",
        "* $P(A \\text{ or } B) = P(A) + P(B)$\n",
        "\n",
        "Imagine rolling a standard six-sided die. What's the probability of rolling a **1 or a 6**?\n",
        "* $P(\\text{rolling a 1}) = \\frac{1}{6}$\n",
        "* $P(\\text{rolling a 6}) = \\frac{1}{6}$\n",
        "* $P(\\text{1 or 6}) = P(\\text{1}) + P(\\text{6}) = \\frac{1}{6} + \\frac{1}{6} = \\frac{2}{6} = \\frac{1}{3} \\approx 33.3\\%$\n",
        "\n",
        "---\n",
        "\n",
        "**Multiplying Probabilities (The \"AND\" Rule)**\n",
        "\n",
        "You **multiply** probabilities when you want to find the chance of **two or more events** happening in sequence or at the same time.\n",
        "\n",
        "* $P(A \\cap B) = P(A) * P(B)$\n",
        "* $P(A \\text{ and } B) = P(A) \\times P(B)$\n",
        "* $P(A \\text{ and } B) = P(A) \\times P(B \\mid A)$\n",
        "\n",
        "The term $P(B \\mid A)$ means \"the probability of event B occurring **given that** event A has already occurred.\" This is called **conditional probability**.\n",
        "\n",
        "---\n",
        "\n",
        "**Probability of Two Events Occurring Together: Independent**\n",
        "\n",
        "**Independent events** are those where the outcome of the first event **does not affect** the outcome of the second event.\n",
        "\n",
        "Events A and B are independent if $P(B \\mid A) = P(B)$.\n",
        "\n",
        "What is the probability of flipping a coin and getting a **Head AND** rolling a six-sided die and getting a **4**?\n",
        "\n",
        "The coin flip and the die roll don't affect each other, so they are independent.\n",
        "* $P(\\text{Head}) = \\frac{1}{2}$\n",
        "* $P(\\text{4}) = \\frac{1}{6}$\n",
        "* $P(\\text{Head and 4}) = P(\\text{Head}) \\times P(\\text{4}) = \\frac{1}{2} \\times \\frac{1}{6} = \\frac{1}{12} \\approx 8.3\\%$\n",
        "\n",
        "---\n",
        "\n",
        "**Probability of Two Events Occurring Together: Dependent**\n",
        "\n",
        "**Dependent events** are those where the outcome of the first event **changes** the probability of the second event. This often happens in situations \"without replacement.\"\n",
        "\n",
        "Events A and B are dependent if $P(B \\mid A) \\neq P(B)$.\n",
        "\n",
        "Imagine a bag contains 3 red marbles and 2 blue marbles (a total of 5 marbles). What is the probability of drawing a **red marble AND then** drawing another **red marble** **without replacing** the first one?\n",
        "\n",
        "* **Event A:** Drawing the first red marble.\n",
        "    $$P(A) = P(\\text{1st Red}) = \\frac{\\text{3 red marbles}}{\\text{5 total marbles}} = \\frac{3}{5}$$\n",
        "\n",
        "* **Event B $\\mid$ A:** Drawing a second red marble *after* the first one was red and not replaced.\n",
        "    Now, there are only 2 red marbles left and 4 total marbles left.\n",
        "    $$P(B \\mid A) = P(\\text{2nd Red } \\mid \\text{ 1st Red}) = \\frac{\\text{2 remaining red marbles}}{\\text{4 remaining total marbles}} = \\frac{2}{4} = \\frac{1}{2}$$\n",
        "\n",
        "* **Probability of both:**\n",
        "    $$P(\\text{1st Red and 2nd Red}) = P(A) \\times P(B \\mid A) = \\frac{3}{5} \\times \\frac{1}{2} = \\frac{3}{10} = 0.3 = 30\\%$$"
      ]
    },
    {
      "cell_type": "markdown",
      "metadata": {
        "id": "87c6db23"
      },
      "source": [
        "### The Conjuction Fallacy\n",
        "\n",
        "The Conjunction Fallacy is a fallacy or error in decision making where people judge that a conjunction of two possible events is more likely than one or both of the conjuncts.\n",
        "\n",
        "* Which is greater: the number of six-letter English words having n as their fifth letter or the number of six-letter\n",
        "English words ending in ing?\n",
        "* Which is more likely: that a defendant, after discovering the body, left the scene of the crime or that a defendant, after discovering the body, left the scene of the crime because he feared being accused of the grisly murder?\n",
        "* Is it more probable that the president will increase federal aid to education or that he or she will increase federal aid to education with funding freed by cutting other aid to the states?\n",
        "* Is it more likely that your company will increase sales next year or that it will increase sales next year because the overall economy has had a banner year?\n",
        "\n",
        "In each case, even though the latter is less probable than the former, it may sound more likely. Or as Kahneman and Tversky put it, “A good story is often less probable than a less satisfactory explanation.\n",
        "\n",
        "The Drunkard's Walk"
      ]
    },
    {
      "cell_type": "markdown",
      "source": [
        "### The Prosecutor's Fallacy"
      ],
      "metadata": {
        "id": "7UwWXHnGhiUZ"
      }
    },
    {
      "cell_type": "markdown",
      "metadata": {
        "id": "d251340f"
      },
      "source": [
        "### Juanita Brooks: Dependent or Independent Variables?\n",
        "\n",
        "* On June 18, 1964, Mrs. Juanita Brooks was walking home along an alley in the San Pedro area of Los Angeles.\n",
        "* She was carrying a basket of groceries and had her purse on top of the packages.\n",
        "* She was using a cane when she was suddenly pushed to the ground by a person she neither saw nor heard approach.\n",
        "* The person stole her purse, which contained between \\$35 and \\$40.\n",
        "* Looking up Mrs. Brooks noticed a young woman with light hair running away.\n",
        "* A witness, John Bass, saw a young woman run out of the alley and enter a yellow car.\n",
        "* The car was described as being medium to large in size and yellow, with either an off-white or egg-shell white top.\n",
        "* The driver was described as a person of color, wearing a mustache and beard.\n",
        "* A few days later a police officer spotted a car matching the description of the suspects' vehicle near their home.\n",
        "* The suspects matched the description except for the man's beard.\n",
        "* The police arrested Malcolm Ricardo Collins and his wife Janet.\n",
        "* The victim could not identify Janet and hadn't seen the driver.\n",
        "* The witness couldn't positively identify Malcolm as the driver.\n",
        "\n",
        "Enter the star witness, described in the California Supreme Court opinion only as “an instructor of mathematics at a state college.” This witness testified that the fact that the defendants were “a Caucasian woman with a blond ponytail…[and] a person of color with a beard and mustache” who drove a partly yellow automobile was enough to convict the couple. To illustrate its point, the prosecution presented this table, quoted here verbatim from the supreme court decision:\n",
        "\n",
        "* Partly yellow automobile 1/10\n",
        "* Man with mustache 1/4\n",
        "* Man with beard 1/10\n",
        "* Woman with ponytail 1/10\n",
        "* Woman with blond hair 1/3\n",
        "* Interracial couple in car 1/1,000\n",
        "\n",
        "Results: The math instructor called by the prosecution said that the product rule applies to this data. By multiplying all the probabilities, one concludes that the chances of a couple fitting all these distinctive characteristics are 1 in 12 million. Accordingly, he said, one could infer that the chances that the couple was innocent were 1 in 12 million. The prosecutor then pointed out that these individual probabilities were estimates and invited the jurors to supply their own guesses and then do the math. He himself, he said, believed they were conservative estimates, and the probability he came up with employing the factors he assigned was more like 1 in 1 billion. The jury bought it and convicted the couple.\n",
        "\n",
        "* The math instructor's argument is flawed because the categories are not independent.\n",
        "* Eliminating the category 'Man with beard' reduces the product of probabilities to 1 in 1 million (many have beard and moustache).\n",
        "* The relevant probability is the chance that a matching couple is guilty, not the chance that a random couple matches the description.\n",
        "* Given the population size of several million, the probability of a matching couple being guilty is only 1 in 2 or 3 (1 in a million in a population with several million).\n",
        "* The conviction was overturned due to these errors."
      ]
    },
    {
      "cell_type": "markdown",
      "source": [
        "### O. J. Simpson: The Other Side of Probability\n",
        "\n",
        "* Alan Dershowitz used the prosecutor's fallacy in the O.J. Simpson trial.\n",
        "* The prosecution focused on Simpson's history of violence against Nicole.\n",
        "* Dershowitz argued that most abusive spouses don't kill their partners, which is true.\n",
        "* However, he ignored the statistic that most murdered battered women are killed by their abusers.\n",
        "* The jury found Simpson not guilty.\n",
        "* Dershowitz believes the justice system doesn't require telling the whole truth.\n"
      ],
      "metadata": {
        "id": "mAcQpXyugRtQ"
      }
    },
    {
      "cell_type": "markdown",
      "metadata": {
        "id": "a7f98c00"
      },
      "source": [
        "### Monty Hall Problem\n",
        "\n",
        "Ask Marilyn column (in Parade magazine)\n",
        "\n",
        "* Marilyn von Savant\n",
        "* Guinness World Records Hall of Fame highest IQ\n",
        "* Married to Robert Jarvik, artificial heart\n",
        "\n",
        "Let's Make a Deal\n",
        "\n",
        "* Monty Hall\n",
        "* Wayne Brady\n",
        "\n",
        "Suppose the contestants on a game show are given the choice of three doors: Behind one door is\n",
        "a car; behind the others, goats. After a contestant picks a door, the host, who knows what’s\n",
        "behind all the doors, opens one of the unchosen doors, which reveals a goat. He then says to the\n",
        "contestant, “Do you want to switch to the other unopened door?” Is it to the contestant’s\n",
        "advantage to make the switch?\n",
        "\n",
        "* Marilyn says switch\n",
        "* Onslaught of criticism started rolling in\n",
        "* Mathematical Professors and teachers\n",
        "\n",
        "Professor from George Mason: Let me explain: If one door is shown to be a loser, that information changes the probability of either remaining choice—neither of which has any reason to be more likely—to 1/2. As a professional mathematician, I’m very concerned with the general public’s lack of mathematical skills. Please help by confessing your error and, in the future, being more careful.\n",
        "\n",
        "From Dickinson State University came this: “I am in shock that after being corrected by at least three mathematicians, you still do not see your mistake.” From Georgetown: “How many irate mathematicians are needed to change your mind?” And someone from the U.S. Army Research Institute remarked, “If all those PhDs are wrong the country would be in serious trouble.” Responses continued in such great numbers and for such a long time that after devoting quite a bit of column space to the issue, Marilyn decided she would no longer address it.\n",
        "\n",
        "Marilyn was right and here's the breakdown:\n",
        "\n",
        "* Starting with 1 out 3 choice you have the lucky guess scenario of picking the right door (1 out of 3)\n",
        "* The Wrong Guess scenario has chances 2 out of 3 that you are wrong\n",
        "* Host intervenes and opens a door knowing where the car is and not wanting to reveal it yet. This action violates randomness"
      ]
    },
    {
      "cell_type": "markdown",
      "metadata": {
        "id": "6bab865d"
      },
      "source": [
        "<table>\n",
        "<tr>\n",
        "<td>Behind door 1</td>\t<td>Behind door 2</td>\t<td>Behind door 3</td>\t<td>Result if staying at door 1</td>\t<td>Result if switching to the door offered</td>\n",
        "</tr>\n",
        "<tr>\n",
        "<td>Goat</td><td>Goat</td><td>Car</td>\t<td>Wins goat</td>\t<td>Wins car</td>\n",
        "</tr>\n",
        "<tr>\n",
        "<td>Goat</td><td>Car</td>\t<td>Goat</td>\t<td>Wins goat</td>\t<td>Wins car</td>\n",
        "</tr>\n",
        "<tr>\n",
        "<td>Car</td>\t<td>Goat</td><td>Goat</td>\t<td>Wins car</td>\t<td>Wins goat</td>\n",
        "</tr>\n",
        "</table>"
      ]
    },
    {
      "cell_type": "markdown",
      "metadata": {
        "id": "bbebcab0"
      },
      "source": [
        "https://en.m.wikipedia.org/wiki/Monty_Hall_problem"
      ]
    },
    {
      "cell_type": "markdown",
      "metadata": {
        "id": "2dd50264"
      },
      "source": [
        "### Random Variables\n",
        "\n",
        "Possible outcomes for an event like flipping a coin or throwing a die.\n",
        "\n",
        "According to Wikipedia (2022):\n",
        "\n",
        "> A random variable is a mathematical formalization of a quantity or object which depends on random events. Informally, randomness typically represents some fundamental element of chance, such as in the roll of a dice; it may also represent uncertainty, such as measurement error (para 1).\n",
        "\n",
        "Random variable. (February 6, 2022). In *Wikipedia*. https://en.wikipedia.org/wiki/Random_variable"
      ]
    },
    {
      "cell_type": "markdown",
      "metadata": {
        "id": "83e075ce"
      },
      "source": [
        "### IID: Independent and Identically Distributed\n",
        "\n",
        "According to Wikipedia (2022):\n",
        "\n",
        "> In probability theory and statistics, a collection of random variables is independent and identically distributed if each random variable has the same probability distribution as the others and all are mutually independent. This property is usually abbreviated as i.i.d. or iid or IID. IID was first used in statistics. With the development of science, IID has been applied in different fields such as data mining and signal processing (para. 1).\n",
        "\n",
        "Independent and identically distributed random variables. (February 13, 2022). In *Wikipedia*. https://en.wikipedia.org/wiki/Independent_and_identically_distributed_random_variables\n",
        "\n",
        "https://stackoverflow.com/questions/24204582/generate-multiple-independent-random-streams-in-python\n",
        "\n",
        "https://www.statisticshowto.com/iid-statistics/"
      ]
    },
    {
      "cell_type": "markdown",
      "metadata": {
        "id": "3da407fd"
      },
      "source": [
        "### Discrete Random Variables\n",
        "\n",
        "Countable possible outcomes\n",
        "\n",
        "Rolling dice (2):<br />\n",
        "https://www.thoughtco.com/probabilities-of-rolling-two-dice-3126559"
      ]
    },
    {
      "cell_type": "code",
      "execution_count": null,
      "metadata": {
        "id": "49f3c12a",
        "outputId": "4cc06ba3-1201-4838-97c7-97f1be482f03"
      },
      "outputs": [
        {
          "data": {
            "image/png": "[encoded data removed]",
            "text/plain": [
              "<Figure size 640x480 with 1 Axes>"
            ]
          },
          "metadata": {},
          "output_type": "display_data"
        }
      ],
      "source": [
        "# plot probability distribution\n",
        "import matplotlib.pyplot as plt\n",
        "\n",
        "sums = [2, 3, 4, 5, 6, 7, 8, 9, 10, 11, 12]\n",
        "probs = [1/36, 2/36, 3/36, 4/36, 5/36, 6/36, 5/36, 4/36, 3/36, 2/36, 1/36]\n",
        "\n",
        "plt.bar(sums, probs)\n",
        "plt.xlabel('Sum of Dice')\n",
        "plt.ylabel('Outcome Probability')\n",
        "plt.title('Probability Distribution')\n",
        "plt.show();"
      ]
    },
    {
      "cell_type": "markdown",
      "metadata": {
        "id": "75af3575"
      },
      "source": [
        "### Continuous Random Variables\n",
        "\n",
        "https://en.wikipedia.org/wiki/Random_variable\n",
        "\n",
        "A continuous random variable X takes all values in a given interval\n",
        "* Height, weight, the amount of sugar in an orange, the time required to run a mile\n",
        "* Often plotted as a curve, or density curve\n",
        "* P(some number) = 0"
      ]
    },
    {
      "cell_type": "code",
      "execution_count": null,
      "metadata": {
        "id": "b6c8bcc3",
        "outputId": "61e616d8-6e44-4e0a-dc90-14f6c6f0f3d3"
      },
      "outputs": [
        {
          "data": {
            "image/png": "[encoded data removed]",
            "text/plain": [
              "<Figure size 640x480 with 1 Axes>"
            ]
          },
          "metadata": {},
          "output_type": "display_data"
        }
      ],
      "source": [
        "# plot normal curve\n",
        "import numpy as np\n",
        "import matplotlib.pyplot as plt\n",
        "import scipy.stats as stats\n",
        "\n",
        "x = np.linspace(-3, 3, 100)\n",
        "plt.plot(x, stats.norm.pdf(x, 0, 1))\n",
        "plt.show()"
      ]
    },
    {
      "cell_type": "markdown",
      "source": [
        "### Binomial vs Discrete\n",
        "\n",
        "* All binomials are discrete.\n",
        "* Not all discrete are binomial.\n",
        "* Binomial was used in games of chance, success or failure, winning or loosing.\n",
        "* A fair six-sided die is rolled ten times, and the number of 6's is recorded. This is a binomial experiment. There are fixed number of trials (ten rolls), each roll is independent of the others, there are only two outcomes (either it's a 6 or it isn't), and the probability of rolling a 6 is constant.\n",
        "* The discrete probability distribution has finite number of values for random variable. The binomial distribution random variable is the number of success which is also finite.\n",
        "* De Moivre, 1733, showed a normal approximation of a binomial distribution.\n",
        "* https://shiny.rit.albany.edu/stat/binomial/\n",
        "\n",
        "Sources\n",
        "* https://www.investopedia.com/terms/d/discrete-distribution.asp\n",
        "* https://faculty.elgin.edu/dkernler/statistics/ch06/6-2.html\n",
        "* https://homework.study.com/explanation/explain-the-difference-between-a-probability-distribution-and-a-binomial-distribution.html\n",
        "* https://en.wikipedia.org/wiki/Binomial_distribution"
      ],
      "metadata": {
        "id": "Xci_vbdiuRPT"
      }
    },
    {
      "cell_type": "markdown",
      "source": [
        "## Probability Distribution Functions\n",
        "\n",
        "In probability theory and statistics, a probability distribution is the mathematical function that gives the probabilities of occurrence of different possible outcomes for an experiment. It is a mathematical description of a random phenomenon in terms of its sample space and the probabilities of events (subsets of the sample space).\n",
        "\n",
        "https://en.wikipedia.org/wiki/"
      ],
      "metadata": {
        "id": "JhHY79kV6tni"
      }
    },
    {
      "cell_type": "code",
      "source": [
        "from scipy.stats import binom\n",
        "import seaborn as sns\n",
        "import matplotlib.pyplot as plt\n",
        "\n",
        "n = 100\n",
        "\n",
        "data1 = binom.rvs(n=n, p=0.1, size=10000)\n",
        "ax = sns.histplot(data1, color='red', alpha=0.5)\n",
        "\n",
        "data2 = binom.rvs(n=n, p=0.5, size=10000)\n",
        "ax = sns.histplot(data2, color='green', alpha=0.5)\n",
        "\n",
        "data3 = binom.rvs(n=n, p=0.9, size=10000)\n",
        "ax = sns.histplot(data3, color='blue', alpha=0.5)\n",
        "# plt.xlim(-5, 15)\n",
        "ax.set(xlabel='Binomial', ylabel='Frequency');"
      ],
      "metadata": {
        "colab": {
          "base_uri": "https://localhost:8080/",
          "height": 449
        },
        "id": "Bv-7zRqrz01S",
        "outputId": "4ec2db9f-52f2-4b12-95ac-47c16c0eefd3"
      },
      "execution_count": null,
      "outputs": [
        {
          "output_type": "display_data",
          "data": {
            "text/plain": [
              "<Figure size 640x480 with 1 Axes>"
            ],
            "image/png": "[encoded data removed]"
          },
          "metadata": {}
        }
      ]
    },
    {
      "cell_type": "markdown",
      "source": [
        "### What the Chart Shows\n",
        "\n",
        "The chart is a **histogram** (a bar plot showing frequency) of the results from three separate binomial experiments.\n",
        "\n",
        "* **X-axis (Binomial):** This represents the number of \"successes\" ($k$) in a fixed number of trials ($n$). For example, the first red distribution is centered around $k=10$.\n",
        "* **Y-axis (Frequency):** This represents how many times that specific number of successes ($k$) occurred during the simulation. The peaks show the most common outcomes.\n",
        "* **Three Distributions:** There are three distinct distributions, colored **red** (left), **green** (middle), and **blue** (right).\n",
        "\n",
        "**Inferences about the Binomial Parameters ($n$ and $p$)**\n",
        "\n",
        "A binomial distribution is defined by two parameters:\n",
        "1.  **$n$ (Number of Trials):** The total number of independent trials.\n",
        "2.  **$p$ (Probability of Success):** The probability of a successful outcome on any single trial.\n",
        "\n",
        "For a binomial distribution, the **expected value (mean)** is calculated as $\\mu = n \\times p$. The center of each distribution's peak approximates its expected value.\n",
        "\n",
        "Based on the chart, we can make the following observations:\n",
        "\n",
        "**1. The Red Distribution (Left)**\n",
        "* **Center ($\\mu$):** The peak is centered around **$k \\approx 10$ to $12$**.\n",
        "* **Inference:** This distribution represents an experiment where $n \\times p \\approx 10$ to $12$.\n",
        "\n",
        "**2. The Green Distribution (Middle)**\n",
        "* **Center ($\\mu$):** The peak is centered around **$k \\approx 50$**.\n",
        "* **Inference:** This distribution represents an experiment where $n \\times p \\approx 50$.\n",
        "\n",
        "**3. The Blue Distribution (Right)**\n",
        "* **Center ($\\mu$):** The peak is centered around **$k \\approx 90$**.\n",
        "* **Inference:** This distribution represents an experiment where $n \\times p \\approx 90$.\n",
        "\n",
        "**Conclusion on Parameters**\n",
        "\n",
        "Since the distributions are roughly symmetrical and bell-shaped, they likely share the same **number of trials ($n$)**. If we assume $n$ is the same for all three, we can infer how the **probability of success ($p$)** changes:\n",
        "\n",
        "* Assuming a common $n \\approx 100$ (since the rightmost peak is at 90):\n",
        "    * **Red:** $p = \\mu/n \\approx 10/100 = \\mathbf{0.1}$\n",
        "    * **Green:** $p = \\mu/n \\approx 50/100 = \\mathbf{0.5}$\n",
        "    * **Blue:** $p = \\mu/n \\approx 90/100 = \\mathbf{0.9}$\n",
        "\n",
        "The chart visually demonstrates that **increasing the probability of success ($p$) shifts the entire distribution to the right** (higher expected number of successes). It also appears that the green distribution ($p \\approx 0.5$) has a slightly wider spread, which is expected for binomial distributions when $p$ is close to $0.5$."
      ],
      "metadata": {
        "id": "BuP_JX34qUWY"
      }
    },
    {
      "cell_type": "markdown",
      "source": [
        "### The Transition from Discrete to Continuous\n",
        "\n",
        "The transition from **discrete distributions** (like the binomial) to **continuous distributions** (like the normal curve) required a new set of conceptual tools to describe probability.\n",
        "\n",
        "Unlike a discrete distribution, which can assign a non-zero probability to a single, specific outcome, a continuous distribution **cannot**—the probability of any single value is zero. Instead, probability is described over a range.\n",
        "\n",
        "This led to the development of several key functions:\n",
        "\n",
        "The Probability Density Function (PDF) describes the likelihood for a continuous random variable:\n",
        "\n",
        "* **Key Conceptual Role:** Describes the **relative likelihood** of a continuous variable.\n",
        "* **Mathematical Description:** Typically denoted as $f(x)$.\n",
        "* **Core Concept:** The area under the curve represents the probability.\n",
        "* **Interpretation:** The value of the PDF at a specific point is **not a probability itself** but a measure of probability density.\n",
        "\n",
        "The Cumulative Distribution Function (CDF) provides a complementary, cumulative perspective on probability:\n",
        "\n",
        "* **Key Conceptual Role:** Gives the **cumulative probability** of a variable taking a value less than or equal to a given point.\n",
        "* **Applies To:** Both discrete and continuous random variables.\n",
        "* **Mathematical Description:** Denoted as $F(x)$, it is defined as $P(X \\le x)$.\n",
        "* For a continuous distribution, it is the integral of the PDF: $F(x) = \\int_{-\\infty}^{x} f(t)dt$.\n",
        "* **Note:** Differentiation (finding the derivative) and integration are inverse operations, linked by the Fundamental Theorem of Calculus. If you differentiate a function, you find its rate of change (its slope). If you integrate that rate of change, you get back the original function (its total accumulated value).\n",
        "* **Form:**\n",
        "    * For a **discrete distribution**, the CDF is a step function.\n",
        "    * For a **continuous distribution**, it is a smooth, non-decreasing curve.\n",
        "\n",
        "The Percent-Point Function (PPF) is the inverse of the CDF:\n",
        "\n",
        "* **Key Conceptual Role:** Finds the value of the random variable for a given probability.\n",
        "* **Question Answered:** \"For a given probability, what is the value of the random variable?\"\n",
        "* **Application:** Used to find percentiles (e.g., finding the value that corresponds to the 95th percentile).\n",
        "\n",
        "**Summary by Variable Type**\n",
        "\n",
        "**Functions for Discrete Variables**\n",
        "\n",
        "* **Probability Mass Function (PMF):** Assigns a specific probability to each discrete outcome, e.g., $P(X=k)=\\binom{n}{k}p^k(1-p)^{n-k}$.\n",
        "* **Cumulative Distribution Function (CDF):** Provides the cumulative probability, $F(x) = P(X \\le x)$, and is a step function.\n",
        "\n",
        "**Functions for Continuous Variables**\n",
        "\n",
        "* **Probability Density Function (PDF):** Describes relative likelihood; area under the curve is probability.\n",
        "* **Cumulative Distribution Function (CDF):** Provides the cumulative probability, $F(x) = \\int_{-\\infty}^{x} f(t)dt$, and is a smooth curve.\n",
        "* **Percent-Point Function (PPF):** The inverse of the CDF."
      ],
      "metadata": {
        "id": "_ewGyxi9v_Av"
      }
    },
    {
      "cell_type": "markdown",
      "metadata": {
        "id": "293988fd"
      },
      "source": [
        "### Parameters of a Population and Sample\n",
        "\n",
        "Parameters are numbers that summarize data for an entire population. A statistic is a number that summarizes data from a sample. Each are notated differently. For example the mean of a population is represented by $\\mu$ and the mean of a statistic is represented by $\\bar{x}$. The formulas look like the following: <br />\n",
        "population mean: $\\mu = \\frac{\\sum{x_i}}{N}$<br />\n",
        "sample mean: $\\bar{x} = \\frac{\\sum{x_i}}{n}$<br />\n",
        "\n",
        "### Parameters of a Parametric Equation\n",
        "\n",
        "Parameters are also used in parametric equations. Any equation expressed in terms of parameters is a parametric equation. For example, y = mx + b (slope/intercept form for the equation of a line), is a parametric equation where m and b are considered the parameters because they remain constant for a given line. The variables x and y change, vary, according to the change in x. Y is dependent on the independent x. In fact, we often refer to y as a function of x, notated like $f(x)$.\n",
        "\n",
        "Most of our datasets contain the X and y so we're not to concerned about finding X. We are concerned with finding the parameters, or the best estimate for our parameters given X. For y = mx + b we want to find the parameters, m & b.\n",
        "\n",
        "For the normal distribution probability density function <br />\n",
        "$\n",
        "\\frac{1}{\\sqrt{2\\pi\\sigma^2}}\\large{e^\\frac{-(x-\\mu)^2}{2\\sigma^2}}\n",
        "$ <br />\n",
        "we want to find $\\mu$ and $\\sigma$. Parameters are often represented together using notation similar to $\\theta = \\{\\mu, \\sigma\\}$.\n",
        "\n",
        "Probability distributions have parameters that define their shape such as mean, variance, and skewness"
      ]
    },
    {
      "cell_type": "code",
      "source": [
        "# the normal curve\n",
        "import numpy as np\n",
        "import matplotlib.pyplot as plt\n",
        "from scipy import stats\n",
        "\n",
        "X = stats.norm.rvs(size=100000)\n",
        "X.sort()\n",
        "\n",
        "parameters = stats.norm.fit(X)\n",
        "mu, sigma = parameters\n",
        "\n",
        "print('The area between -3 and 3 is considered to contains 99.73% of the area in the curve')\n",
        "print('The area between -2 and 2 is considered to contains 95.44% of the area in the curve')\n",
        "print('The area between -1 and 1 is considered to contains 68.26% of the area in the curve')\n",
        "print('The line at 0 is the expected average of the normal distribution at 50%')\n",
        "print()\n",
        "print('Mean: ', np.mean(X))\n",
        "print('Median: ', np.median(X))\n",
        "print('Mode?', X[1])\n",
        "print('Variance: ', np.var(X))\n",
        "print('Standard Deviation: ', np.std(X))\n",
        "\n",
        "fig, ax = plt.subplots()\n",
        "ax.plot(X, stats.norm.pdf(X, loc=mu, scale=sigma))\n",
        "ax.hist(X, bins=25, density=True, color='lightgray', alpha=0.5)\n",
        "ax.set_xlabel('z scores')\n",
        "# ax.set_ylabel('pdf(x)')\n",
        "ax.set_xlim(-4, 4)\n",
        "ax.grid(True)\n",
        "\n",
        "plt.vlines(x=-3, ymin=0, ymax=stats.norm.pdf(-3, loc=mu, scale=sigma), color='black')\n",
        "plt.vlines(x=-2, ymin=0, ymax=stats.norm.pdf(-2, loc=mu, scale=sigma), color='red')\n",
        "plt.vlines(x=-1, ymin=0, ymax=stats.norm.pdf(-1, loc=mu, scale=sigma), color='green')\n",
        "plt.vlines(x=0, ymin=0, ymax=stats.norm.pdf(0, loc=mu, scale=sigma), color='blue')\n",
        "plt.vlines(x=1, ymin=0, ymax=stats.norm.pdf(1, loc=mu, scale=sigma), color='green')\n",
        "plt.vlines(x=2, ymin=0, ymax=stats.norm.pdf(2, loc=mu, scale=sigma), color='red')\n",
        "plt.vlines(x=3, ymin=0, ymax=stats.norm.pdf(3, loc=mu, scale=sigma), color='black')\n",
        "plt.yticks([])\n",
        "\n",
        "plt.title('Normal Curve with 68-95-99.7 rule')\n",
        "plt.show()"
      ],
      "metadata": {
        "colab": {
          "base_uri": "https://localhost:8080/",
          "height": 646
        },
        "id": "e1-2DgtD7ecz",
        "outputId": "836d1cae-3857-4f2e-d665-eaa62e43d0c1"
      },
      "execution_count": null,
      "outputs": [
        {
          "output_type": "stream",
          "name": "stdout",
          "text": [
            "The area between -3 and 3 is considered to contains 99.73% of the area in the curve\n",
            "The area between -2 and 2 is considered to contains 95.44% of the area in the curve\n",
            "The area between -1 and 1 is considered to contains 68.26% of the area in the curve\n",
            "The line at 0 is the expected average of the normal distribution at 50%\n",
            "\n",
            "Mean:  -0.0004763483645039014\n",
            "Median:  -0.0014382450140198932\n",
            "Mode? -3.9625407395589707\n",
            "Variance:  0.9973471956063097\n",
            "Standard Deviation:  0.9986727169630247\n"
          ]
        },
        {
          "output_type": "display_data",
          "data": {
            "text/plain": [
              "<Figure size 640x480 with 1 Axes>"
            ],
            "image/png": "[encoded data removed]"
          },
          "metadata": {}
        }
      ]
    },
    {
      "cell_type": "markdown",
      "metadata": {
        "id": "f3c5b142"
      },
      "source": [
        "### Probability Density Function\n",
        "\n",
        "According to NIH SEMATECH (2022):\n",
        "\n",
        "> For a continuous function, the probability density function (pdf) is the probability that the variate has the value x. Since for continuous distributions the probability at a single point is zero, this is often expressed in terms of an integral between two points.\n",
        "\n",
        "Related Distributions. (February 13, 2022). In *NIST/SEMATECH e-Handbook of Statistical Methods*. https://www.itl.nist.gov/div898/handbook/eda/section3/eda362.htm"
      ]
    },
    {
      "cell_type": "code",
      "execution_count": null,
      "metadata": {
        "colab": {
          "base_uri": "https://localhost:8080/",
          "height": 447
        },
        "id": "4bba9e8c",
        "outputId": "cc011524-bad5-40cd-e760-65e51a193aa8"
      },
      "outputs": [
        {
          "output_type": "stream",
          "name": "stdout",
          "text": [
            "mu = -0.00, sigma = 1.00\n"
          ]
        },
        {
          "output_type": "display_data",
          "data": {
            "text/plain": [
              "<Figure size 640x480 with 1 Axes>"
            ],
            "image/png": "[encoded data removed]"
          },
          "metadata": {}
        }
      ],
      "source": [
        "# demonstrate pdf\n",
        "import numpy as np\n",
        "import matplotlib.pyplot as plt\n",
        "from scipy import stats\n",
        "\n",
        "# pay attention to the use of the parameters inside the stats.norm.pdf function.\n",
        "data = stats.norm.rvs(size=100000) # rvs = random variates\n",
        "\n",
        "# get the parameter for a normal distribution\n",
        "parameters = stats.norm.fit(data)\n",
        "mu = parameters[0]\n",
        "sigma = parameters[1] # sigma is std\n",
        "\n",
        "# using unpacking\n",
        "mu, sigma = parameters\n",
        "\n",
        "print(f'mu = {mu:.2f}, sigma = {sigma:.2f}') # f strings https://zetcode.com/python/fstring/\n",
        "\n",
        "# plot the PDF.\n",
        "xmin, xmax = plt.xlim() # https://matplotlib.org/3.3.3/api/_as_gen/matplotlib.pyplot.xlim.html\n",
        "x = np.linspace(-3, 3, 100)\n",
        "params = stats.norm.pdf(x, loc=mu, scale=sigma)\n",
        "plt.axvline(x=1, color='red')\n",
        "plt.yticks([])\n",
        "# we could also do stats.norm.pdf(x, loc=0, scale=1)\n",
        "\n",
        "plt.plot(x, params, 'k'); # k is short for the color black"
      ]
    },
    {
      "cell_type": "markdown",
      "metadata": {
        "id": "bc985dea"
      },
      "source": [
        "### Cumulative Density Function\n",
        "\n",
        "According to NIH SEMATECH (2022):\n",
        "\n",
        "> The cumulative distribution function (cdf) is the probability that the variable takes a value less than or equal to x\n",
        "\n",
        "Related Distributions. (February 13, 2022). In *NIST/SEMATECH e-Handbook of Statistical Methods*. https://www.itl.nist.gov/div898/handbook/eda/section3/eda362.htm"
      ]
    },
    {
      "cell_type": "code",
      "execution_count": null,
      "metadata": {
        "colab": {
          "base_uri": "https://localhost:8080/",
          "height": 472
        },
        "id": "151049c1",
        "outputId": "a0cf2e79-4db8-4e58-c945-bab73eee14f8"
      },
      "outputs": [
        {
          "output_type": "display_data",
          "data": {
            "text/plain": [
              "<Figure size 640x480 with 1 Axes>"
            ],
            "image/png": "[encoded data removed]"
          },
          "metadata": {}
        }
      ],
      "source": [
        "# plot the cdf with ppf\n",
        "import numpy as np\n",
        "import matplotlib.pyplot as plt\n",
        "from scipy import stats\n",
        "\n",
        "mu = 0\n",
        "sigma = 1\n",
        "cdf_val = np.round(stats.norm.cdf(1, loc=mu, scale=sigma), 2)\n",
        "ppf_val = np.round(stats.norm.ppf(cdf_val, loc=mu, scale=sigma), 2)\n",
        "\n",
        "x = np.linspace(-3, 3, 100000)\n",
        "cdf_y = stats.norm.cdf(x)\n",
        "plt.plot(x, cdf_y, 'k')\n",
        "plt.axvline(x=ppf_val, color='red')\n",
        "plt.axhline(y=cdf_val, color='red')\n",
        "plt.title(f'cdf: {cdf_val}, pdf: {ppf_val}')\n",
        "plt.xlabel('X')\n",
        "plt.ylabel('cdf(X)')\n",
        "plt.grid(True)\n",
        "plt.show();"
      ]
    },
    {
      "cell_type": "markdown",
      "metadata": {
        "id": "4f8f6531"
      },
      "source": [
        "### Percent Point Function\n",
        "\n",
        "According to NIH SEMATECH (2022):\n",
        "\n",
        "> The percent point function (ppf) is the inverse of the cumulative distribution function. For this reason, the percent point function is also commonly referred to as the inverse distribution function. That is, for a distribution function we calculate the probability that the variable is less than or equal to x for a given x. For the percent point function, we start with the probability and compute the corresponding x for the cumulative distribution.\n",
        "\n",
        "Related Distributions. (February 13, 2022). In *NIST/SEMATECH e-Handbook of Statistical Methods*. https://www.itl.nist.gov/div898/handbook/eda/section3/eda362.htm"
      ]
    },
    {
      "cell_type": "code",
      "execution_count": null,
      "metadata": {
        "colab": {
          "base_uri": "https://localhost:8080/",
          "height": 472
        },
        "id": "7e2fb055",
        "outputId": "ec3ec5d8-4f8d-460e-c99a-f20787e1295b"
      },
      "outputs": [
        {
          "output_type": "display_data",
          "data": {
            "text/plain": [
              "<Figure size 640x480 with 1 Axes>"
            ],
            "image/png": "[encoded data removed]"
          },
          "metadata": {}
        }
      ],
      "source": [
        "# plot the ppf\n",
        "import numpy as np\n",
        "import matplotlib.pyplot as plt\n",
        "from scipy import stats\n",
        "\n",
        "x = np.linspace(-3, 3, 100000)\n",
        "ppf_y = stats.norm.ppf(x)\n",
        "plt.plot(x, ppf_y, 'k', label='cdf')\n",
        "plt.axhline(y=1, color='red')\n",
        "plt.title('The PPF')\n",
        "plt.xlabel('X')\n",
        "plt.ylabel('ppf(X)')\n",
        "plt.grid(True)\n",
        "plt.show();"
      ]
    },
    {
      "cell_type": "code",
      "execution_count": null,
      "metadata": {
        "id": "93caaa52",
        "outputId": "a5bef81a-3a1a-4931-c861-87cedd5362eb"
      },
      "outputs": [
        {
          "name": "stdout",
          "output_type": "stream",
          "text": [
            "The corresponding percentile for 1 standard deviation above the mean (z) is 0.84% rounded, so,\n",
            "a z score for 0.84  is 0.9832128822407085 and,\n",
            "a z score for 50% is -0.02\n",
            "for normal distributions.\n"
          ]
        },
        {
          "data": {
            "image/png": "[encoded data removed]",
            "text/plain": [
              "<Figure size 640x480 with 1 Axes>"
            ]
          },
          "metadata": {},
          "output_type": "display_data"
        }
      ],
      "source": [
        "# compare CDF and PPF\n",
        "X = stats.norm.rvs(size=10000)\n",
        "X.sort()\n",
        "\n",
        "parameters = stats.norm.fit(X)\n",
        "mu, sigma = parameters\n",
        "# print(stats.norm.cdf(1, loc=mu, scale=sigma))\n",
        "cdf_val = np.round(stats.norm.cdf(1, loc=mu, scale=sigma), 2)\n",
        "ppf_val = np.round(stats.norm.ppf(.85, loc=mu, scale=sigma), 2)\n",
        "\n",
        "print(f'The corresponding percentile for 1 standard deviation above the mean (z) is {cdf_val}% rounded, so,')\n",
        "print(f'a z score for {cdf_val}  is {stats.norm.ppf(cdf_val, loc=mu, scale=sigma)} and,')\n",
        "print(f'a z score for 50% is {np.round(stats.norm.ppf(0.5, loc=mu, scale=sigma), 2)}')\n",
        "print('for normal distributions.')\n",
        "\n",
        "fig, ax = plt.subplots()\n",
        "ax.plot(X, stats.norm.pdf(X, loc=mu, scale=sigma))\n",
        "ax.hist(X, bins=25, density=True, alpha=0.5)\n",
        "ax.set_xlabel('x')\n",
        "ax.set_ylabel('pdf(x)')\n",
        "ax.set_xlim(-3, 3)\n",
        "ax.grid(True)\n",
        "\n",
        "px=np.arange(-3, ppf_val, 0.01)\n",
        "ax.fill_between(px, stats.norm.pdf(px,loc=mu,scale=sigma), alpha=0.5, color='k')\n",
        "ax.text(0, 0.02, f'{cdf_val}%', fontsize=20, color='w')\n",
        "\n",
        "plt.title(f'{cdf_val}% (or z = 1) Shade Area Under the Curve')\n",
        "plt.show()"
      ]
    },
    {
      "cell_type": "markdown",
      "metadata": {
        "id": "31710eeb"
      },
      "source": [
        "### Probability Mass Function\n",
        "\n",
        "In probability and statistics, a probability mass function is a function that gives the probability that a discrete random variable is exactly equal to some value.[1] Sometimes it is also known as the discrete density function. The probability mass function is often the primary means of defining a discrete probability distribution, and such functions exist for either scalar or multivariate random variables whose domain is discrete.\n",
        "\n",
        "https://en.wikipedia.org/wiki/Probability_mass_function\n",
        "\n",
        "\n",
        "Discrete probability functions are referred to as probability mass functions and continuous probability functions are referred to as probability density functions. The term probability functions covers both discrete and continuous distributions.\n",
        "\n",
        "https://www.itl.nist.gov/div898/handbook/eda/section3/eda361.htm\n",
        "\n",
        "Bernoulli, Binomial, Geometric, Poisson - flip of coin, roll of 1 die or two dice"
      ]
    },
    {
      "cell_type": "code",
      "execution_count": null,
      "metadata": {
        "id": "75942864",
        "outputId": "fe1fb55e-f944-4e3a-e8c5-d1331167c713"
      },
      "outputs": [
        {
          "data": {
            "image/png": "[encoded data removed]",
            "text/plain": [
              "<Figure size 640x480 with 1 Axes>"
            ]
          },
          "metadata": {},
          "output_type": "display_data"
        }
      ],
      "source": [
        "# probability mass function\n",
        "throws = 100\n",
        "observations = []\n",
        "for i in range(throws):\n",
        "    roll = np.random.choice(['1', '2', '3', '4', '5', '6']) # roll the die\n",
        "    observations.append(roll)\n",
        "\n",
        "val, cnt = np.unique(observations, return_counts=True)\n",
        "prop = cnt / len(observations)\n",
        "\n",
        "plt.bar(val, prop)\n",
        "plt.ylabel('Probability')\n",
        "plt.xlabel('Roll')\n",
        "plt.title('Probability Mass Function Example')\n",
        "plt.show()"
      ]
    },
    {
      "cell_type": "markdown",
      "metadata": {
        "id": "c7eef493"
      },
      "source": [
        "### Kernel Density Estimation\n",
        "\n",
        "According to Wikipedia (2022):\n",
        "\n",
        "> In statistics, kernel density estimation (KDE) is a non-parametric way to estimate the probability density function of a random variable. Kernel density estimation is a fundamental data smoothing problem where inferences about the population are made, based on a finite data sample.\n",
        "\n",
        "Kernel density estimation. (February 13, 2022) In *Wikipedia*. https://en.wikipedia.org/wiki/Kernel_density_estimation\n",
        "\n",
        "As mentioned, KDE is a non-parametric estimate compared to the parametric probability density function. Non-parametric data do not fit an established distribution such as the normal, or gaussian, distribution. Non-parametric models don't have parameters to define the data distribution so in the case of KDE, the shape of the data is estimated.\n",
        "\n",
        "According to Wikipedia (2022):\n",
        "\n",
        "> In nonparametric statistics, a kernel is a weighting function used in non-parametric estimation techniques. Kernels are used in kernel density estimation to estimate random variables' density functions, or in kernel regression to estimate the conditional expectation of a random variable.\n",
        "\n",
        "Nonparametric statistics. (February 13, 2022) In *Wikipedia*.https://en.wikipedia.org/wiki/Kernel_(statistics)#Nonparametric_statistics\n",
        "\n",
        "Here is a simplified version of the equation provided by Wikipedia:\n",
        "\n",
        "$\n",
        "\\hat{f(x)} = \\frac{1}{N}\\sum{K(x - x_i)}\n",
        "$\n",
        "\n",
        "Let (x1, x2, …, xn) be independent and identically distributed \\[IID\\] samples drawn from some univariate distribution with an unknown density ƒ at any given point x. We are interested in estimating the shape of this function ƒ.\n",
        "\n",
        "https://en.wikipedia.org/wiki/Kernel_density_estimation#Definition\n",
        "\n",
        "Recall **IID** definition: In probability theory and statistics, a collection of random variables is independent and identically distributed if each random variable has the same probability distribution as the others and all are mutually independent.\n",
        "\n",
        "https://en.wikipedia.org/wiki/Independent_and_identically_distributed_random_variables"
      ]
    },
    {
      "cell_type": "code",
      "execution_count": null,
      "metadata": {
        "id": "ca54cb44",
        "outputId": "41108a4d-e43d-4a83-d031-f52a8874d51b"
      },
      "outputs": [
        {
          "data": {
            "image/png": "[encoded data removed]",
            "text/plain": [
              "<Figure size 640x480 with 1 Axes>"
            ]
          },
          "metadata": {},
          "output_type": "display_data"
        }
      ],
      "source": [
        "import seaborn as sns\n",
        "from scipy.stats.distributions import norm\n",
        "\n",
        "x = np.random.randn(100)\n",
        "x[int(0.3 * 100):] += 7\n",
        "sns.histplot(x, kde=True)\n",
        "plt.title('Bimodal Distribution')\n",
        "plt.show()"
      ]
    },
    {
      "cell_type": "markdown",
      "metadata": {
        "id": "79ab59a4"
      },
      "source": [
        "## Distributions\n",
        "\n",
        "Discrete distributions: all probabilities add up to one\n",
        "* Uniform\n",
        "* Bernoulli\n",
        "* Binomial\n",
        "* Poisson\n",
        "\n",
        "Continuous distributions: area under curve adds up to one\n",
        "* Normal\n",
        "* z\n",
        "* t\n",
        "* Chi-Square"
      ]
    },
    {
      "cell_type": "markdown",
      "source": [
        "### From Bernoulli, to Binomial, to Normal\n",
        "\n",
        "**1. The Bernoulli Distribution (The Foundation):**\n",
        "\n",
        "The Bernoulli distribution is the simplest of them all. It describes the probability of a single experiment (or trial) that has only two possible outcomes, often called \"success\" and \"failure.\"  Think of flipping a coin once: heads or tails.\n",
        "\n",
        "* **Key Characteristics:**\n",
        "    * Two possible outcomes (success with probability *p*, failure with probability 1-*p*).\n",
        "    * It's the building block for more complex distributions.\n",
        "\n",
        "* **Historical Context:** While the formalization of probability theory came later, the concept of dichotomous outcomes was understood much earlier.  The name \"Bernoulli\" is associated with Jacob Bernoulli (1654-1705), who made significant contributions to probability, including work on this distribution, though it wasn't formally named after him until much later.  His work laid the groundwork for many subsequent developments.\n",
        "\n",
        "**2. The Binomial Distribution (Multiple Trials):**\n",
        "\n",
        "The binomial distribution arises when you repeat a Bernoulli experiment multiple times (say, *n* times).  It answers the question: What's the probability of getting exactly *k* successes in *n* independent trials?  Think of flipping a coin 10 times and asking, \"What's the probability of getting exactly 7 heads?\"\n",
        "\n",
        "* **Key Characteristics:**\n",
        "    * *n* independent Bernoulli trials.\n",
        "    * Probability of success *p* is the same for each trial.\n",
        "    * Counts the number of successes (*k*) in those *n* trials.\n",
        "\n",
        "* **Evolution from Bernoulli:** The binomial distribution is a direct generalization of the Bernoulli. If *n*=1 (you only do the trial once), the binomial *becomes* the Bernoulli.  The formula for the binomial probability is based on combinations (how many ways can you choose *k* successes out of *n* trials) and the probabilities of success and failure.\n",
        "\n",
        "* **Historical Context:**  While Bernoulli contributed to the understanding, the binomial distribution was further developed by mathematicians like Abraham de Moivre (1667-1754).  De Moivre, in particular, investigated the *approximation* of the binomial distribution, which is a crucial stepping stone to the normal distribution.\n",
        "\n",
        "**3. The Normal Distribution (The Limit):**\n",
        "\n",
        "The normal distribution (also known as the Gaussian distribution) is a continuous probability distribution that is symmetrical and bell-shaped.  It's ubiquitous in statistics because it arises as the *limiting* distribution of many other distributions, especially the binomial distribution, as the number of trials (*n*) gets very large.  Think of flipping a coin thousands of times: the distribution of the number of heads will be very close to a normal distribution.\n",
        "\n",
        "* **Key Characteristics:**\n",
        "    * Bell-shaped, symmetrical curve.\n",
        "    * Defined by its mean (μ) and standard deviation (σ).\n",
        "    * Continuous (outcomes can take any value within a range).\n",
        "\n",
        "* **Evolution from Binomial:**  As *n* increases in the binomial distribution, the shape of the distribution starts to resemble a bell curve. De Moivre showed that the binomial distribution could be *approximated* by a normal distribution when *n* is large enough and *p* is not too close to 0 or 1.  This approximation became incredibly important because the normal distribution is much easier to work with mathematically than the binomial distribution when *n* is very large.\n",
        "\n",
        "* **Historical Context:** Carl Friedrich Gauss (1777-1855) is most famously associated with the normal distribution, although it was also studied by others like Laplace.  Gauss used it extensively in his work on astronomy and geodesy.  The term \"normal\" came to be used because it was thought to be the most common or \"normal\" distribution found in natural phenomena.\n",
        "\n",
        "**In Summary:**\n",
        "\n",
        "The Bernoulli distribution is the seed. The binomial distribution is what you get when you plant that seed many times (repeating the Bernoulli trial). The normal distribution is what you get when your \"garden\" (number of trials) becomes very large – it's the shape that emerges as the binomial distribution smooths out into a continuous curve.  This progression is a cornerstone of probability theory and has immense implications in statistics, allowing us to model and understand a wide range of real-world phenomena.\n",
        "\n",
        "Take a look at: https://shiny.rit.albany.edu/stat/binomial/"
      ],
      "metadata": {
        "id": "PMcaWVlcUrml"
      }
    },
    {
      "cell_type": "markdown",
      "source": [
        "## Hypothesis Testing\n",
        "\n"
      ],
      "metadata": {
        "id": "--BxqEBgntY3"
      }
    },
    {
      "cell_type": "markdown",
      "metadata": {
        "id": "95685da9"
      },
      "source": [
        "### Some Context\n",
        "\n",
        "**The Dawn of Scientific Reasoning**\n",
        "\n",
        "The story of how we came to understand the world around us is a long and fascinating one. It's a story of brilliant minds, bold experiments, and sometimes, surprising discoveries.\n",
        "\n",
        "One of the earliest heroes of this story is **Galileo Galilei** (1564-1642). Often called the \"father of experiments,\" Galileo insisted on testing his ideas through careful observation and measurement. Unlike many of his contemporaries, who relied on abstract theories and philosophical arguments, Galileo grounded his hypotheses in the real world. He used **deductive reasoning** to test his ideas, making predictions based on his theories and then seeing if those predictions held up in experiments. This approach revolutionized the study of physics and astronomy.\n",
        "\n",
        "But deductive reasoning alone wasn't enough. **Francis Bacon** (1561-1626), writing in 1610, argued that scientists also needed to conduct experiments. He emphasized the importance of **replication**, the idea that an experiment should be repeatable under similar conditions. This was a crucial step in ensuring the reliability of scientific findings.\n",
        "\n",
        "**Isaac Newton** (1643-1727), building on the work of Galileo and Bacon, further refined the scientific method. In 1721, he proposed that scientific laws should be based on data and should be considered accurate until new evidence comes along to challenge them. This emphasis on empirical evidence and the possibility of revision is a cornerstone of modern science.\n",
        "\n",
        "**A Curious Case of Boys and Girls**\n",
        "\n",
        "In the early 18th century, **John Arbuthnot** (1667-1735), a physician to Queen Anne, stumbled upon a curious puzzle. He wanted to know if more boys were born than girls. Examining baptismal records from 1629 to 1710, he found that indeed, more boys had been baptized.\n",
        "\n",
        "Arbuthnot, assuming an equal chance of having a boy or a girl, realized that the odds of getting an excess of boys every year for 81 years in a row were astronomically small. It was like flipping a coin 81 times and getting heads every time!\n",
        "\n",
        "He concluded that something must be influencing the sex ratio at birth. He initially suspected that the higher mortality rate among males might be a factor, but the data didn't support this. Arbuthnot, a man of faith, attributed the phenomenon to a \"wise Creator\" who ensured the survival of the human race by \"bringing forth more Males than Females.\"\n",
        "\n",
        "**The Legacy of Arbuthnot's Discovery**\n",
        "\n",
        "Arbuthnot's work, though driven by religious beliefs, is considered a pioneering example of **hypothesis testing** or **significance testing**. He was essentially trying to determine if the observed difference in the number of boys and girls was due to chance or some other factor.\n",
        "\n",
        "Modern studies have confirmed Arbuthnot's observation. The sex ratio at birth is slightly skewed towards males, with approximately 21 boys born for every 20 girls. The exact reasons for this are still being investigated, but it's clear that Arbuthnot's simple question about boys and girls opened up a whole new world of scientific inquiry.\n",
        "\n",
        "**Gauss and Measurement Error**\n",
        "\n",
        "In the 1800s, scientists started to formally recognize and study **measurement error**.  This led to some important developments:\n",
        "\n",
        "* **Gauss and the Normal Distribution:**  Carl Friedrich Gauss connected the idea of measurement error to the normal distribution (bell curve), which was initially called the \"error distribution.\" This showed how errors are often distributed around a true value.\n",
        "\n",
        "* **Pierce and Outliers:** Benjamin Pierce used the normal distribution to identify outliers—measurements that fall far outside the expected range and might be due to errors.\n",
        "\n",
        "* **Gosset and Fisher: Experiments and Variability:** William Gosset (known as \"Student\") and Ronald Fisher extended these ideas to analyze variability in experiments. This laid the foundation for modern statistical methods used to test hypotheses and draw conclusions from data.\n",
        "\n",
        "Essentially, these scientists helped us understand that **variability and error are inherent in measurement and experimentation**. They developed tools and techniques to account for this, allowing us to make more accurate inferences and draw more reliable conclusions from data.\n",
        "\n",
        "**Fisher, Smoking, and Cancer**\n",
        "\n",
        "The 1950s and 60s saw a fierce debate around the link between smoking and cancer. While evidence mounted suggesting a strong association, the lack of randomized controlled trials (ethically impossible in this case) allowed skeptics, notably statistician Ronald Fisher, to question the causal relationship.\n",
        "\n",
        "Fisher, potentially influenced by his ties to the tobacco industry, argued that the observed association was spurious. This stance, despite growing evidence to the contrary, provided ammunition for cigarette companies to deny the harmful effects of their products.\n",
        "\n",
        "By the late 50s, expert consensus solidified around smoking as a cause of cancer. However, the tobacco industry continued to exploit the uncertainty, fueled by Fisher's arguments, to protect their interests.\n",
        "\n",
        "The formation of an advisory committee in the 60s further solidified the link, with many members personally affected by the findings and quitting smoking themselves. This era highlights the complex interplay of science, industry influence, and public perception in shaping our understanding of health risks."
      ]
    },
    {
      "cell_type": "markdown",
      "metadata": {
        "id": "47398034"
      },
      "source": [
        "### Distribution of Sample Means\n",
        "\n",
        "**What are Sampling Distributions?**\n",
        "\n",
        "Imagine taking many random samples from a population and calculating a statistic (like the mean) for each sample. The distribution of all those sample statistics is the **sampling distribution**. It shows how much the statistic varies from sample to sample.\n",
        "\n",
        "**Why are they important for Hypothesis Testing?**\n",
        "\n",
        "* **Understanding Variability:**  Sampling distributions help us understand how much our sample statistic might differ from the true population parameter due to random chance. This is crucial in hypothesis testing, where we're trying to infer something about the population based on a sample.\n",
        "* **Calculating p-values:** The shape and spread of the sampling distribution allow us to calculate p-values. The p-value tells us how likely it is to observe our sample results (or more extreme) if the null hypothesis were true. This helps us decide whether to reject or fail to reject the null hypothesis.\n",
        "* **Constructing Confidence Intervals:** Sampling distributions are also used to construct confidence intervals, which provide a range of plausible values for the population parameter.\n",
        "\n",
        "**Key Takeaways**\n",
        "\n",
        "* **Bootstrapping:** Modern computing allows us to create sampling distributions empirically using bootstrapping, even without knowing the exact population distribution.\n",
        "* **Theoretical Distributions:**  Probability theory provides formulas for common sampling distributions (like the t-distribution), simplifying calculations.\n",
        "* **Central Limit Theorem:**  As sample size increases, the sampling distribution of the mean tends towards a normal distribution, regardless of the original population distribution. This is the essence of the Central Limit Theorem, previously known as the \"Law of Frequency of Error.\"\n",
        "\n",
        "**Connection to Hypothesis Testing:**\n",
        "\n",
        "In hypothesis testing, we use the sampling distribution to determine if our observed sample statistic is unusual enough to reject the null hypothesis. If our sample statistic falls in the extreme tails of the sampling distribution, it suggests that our results are unlikely to have occurred by chance alone, giving us evidence against the null hypothesis.\n",
        "\n",
        "By understanding sampling distributions, we move from analyzing individual data points to understanding the behavior of statistics across different samples. This allows us to make more informed inferences about populations and test hypotheses effectively.\n"
      ]
    },
    {
      "cell_type": "markdown",
      "source": [
        "### Confidence Intervals\n",
        "\n",
        "Informally, in frequentist statistics, a confidence interval (CI) is an interval which is expected to typically contain the parameter being estimated. More specifically, given a confidence level\n",
        "(95% and 99% are typical values), a CI is a random interval which contains the parameter being estimated a % of the time.\n",
        "\n",
        "https://en.wikipedia.org/wiki/Confidence_interval"
      ],
      "metadata": {
        "id": "mHjTAwE1pQTP"
      }
    },
    {
      "cell_type": "markdown",
      "metadata": {
        "id": "dd6e1569"
      },
      "source": [
        "### Uncertainty\n",
        "\n",
        "Check out the conclusion to this article: https://www.mathsisfun.com/data/confidence-interval.html\n",
        "\n",
        "This passage explains the concept of **confidence intervals** and their role in statistical inference. Here's a summary:\n",
        "\n",
        "**What are Confidence Intervals?**\n",
        "\n",
        "A confidence interval is a range of plausible values for an unknown population parameter (like the population mean). It's calculated from sample data and expressed with a certain confidence level, usually 95%.\n",
        "\n",
        "**What does the confidence level mean?**\n",
        "\n",
        "The confidence level (e.g., 95%) indicates the long-run proportion of confidence intervals that would contain the true population parameter if we repeatedly sampled from the same population and calculated intervals in the same way.\n",
        "\n",
        "**How does this relate to uncertainty?**\n",
        "\n",
        "* **Aleatory uncertainty:** This is the inherent randomness before an event occurs (like flipping a coin). We can't eliminate this uncertainty.\n",
        "* **Epistemic uncertainty:** This is uncertainty due to incomplete knowledge *after* an event. We use statistics to address epistemic uncertainty about populations.\n",
        "\n",
        "**How are confidence intervals constructed?**\n",
        "\n",
        "1. **Probability Theory:** We use probability theory to determine a range where we expect our sample statistic to fall with a certain probability (e.g., 95%).\n",
        "2. **Inverting the Logic:** We then \"invert\" this logic to find the range of population parameters that would produce our observed statistic within that probability range. This gives us the confidence interval.\n",
        "\n",
        "**Key points from the passage:**\n",
        "\n",
        "* **Interpretation:** A 95% confidence interval means that if we repeatedly sampled and calculated intervals, 95% of those intervals would contain the true population parameter.\n",
        "* **Assumptions:**  Traditional methods based on probability theory often require assumptions about the population distribution (e.g., normality) or a large sample size.\n",
        "* **Bootstrap:** The bootstrap approach offers a way to construct confidence intervals without these strict assumptions by resampling from the data itself.\n",
        "\n",
        "**In essence, confidence intervals provide a measure of uncertainty associated with our estimates.** They help us express the range of plausible values for a population parameter based on our sample data.\n"
      ]
    },
    {
      "cell_type": "markdown",
      "metadata": {
        "id": "80b96c49"
      },
      "source": [
        "### CI Formula\n",
        "\n",
        "* We need to know the mean and the standard deviation\n",
        "* $z = \\frac{x - \\bar{x}}{\\sigma}$\n",
        "* standard error = $\\frac{s}{\\sqrt{n}}$\n",
        "* intervals = $\\bar{x} \\pm z\\frac{s}{\\sqrt{n}}$"
      ]
    },
    {
      "cell_type": "markdown",
      "metadata": {
        "id": "f76c26bd"
      },
      "source": [
        "### Margin of Error\n",
        "\n",
        "The lower bound of the confidence interval is the observed score minus the margin of error; the upper bound is the observed score plus the margin of error. The width of the confidence interval is twice the margin of error. Statistics helps us calculate confidence intervals."
      ]
    },
    {
      "cell_type": "markdown",
      "metadata": {
        "id": "2fba2b96"
      },
      "source": [
        "### Standard Error\n",
        "\n",
        "The standard error (SE) of a statistic (usually an estimate of a parameter) is the standard deviation of its sampling distribution or an estimate of that standard deviation. If the statistic is the sample mean, it is called the standard error of the mean (SEM). The sampling distribution of a mean is generated by repeated sampling from the same population and recording of the sample means obtained. This forms a distribution of different means, and this distribution has its own mean and variance. Mathematically, the variance of the sampling mean distribution obtained is equal to the variance of the population divided by the sample size. This is because as the sample size increases, sample means cluster more closely around the population mean.\n",
        "\n",
        "https://en.wikipedia.org/wiki/Standard_error\n",
        "\n",
        "The standard deviation reflects variability within a sample, while the standard error estimates the variability across samples of a population https://www.scribbr.com/statistics/standard-error/"
      ]
    },
    {
      "cell_type": "code",
      "source": [
        "# the normal curve\n",
        "import numpy as np\n",
        "import matplotlib.pyplot as plt\n",
        "import scipy.stats as stats\n",
        "\n",
        "X = stats.norm.rvs(size=100000)\n",
        "X.sort()\n",
        "\n",
        "parameters = stats.norm.fit(X)\n",
        "mu, sigma = parameters\n",
        "\n",
        "fig, ax = plt.subplots()\n",
        "ax.plot(X, stats.norm.pdf(X, loc=mu, scale=sigma))\n",
        "ax.hist(X, bins=25, density=True, color='lightgray', alpha=0.5)\n",
        "ax.set_xlabel('x')\n",
        "ax.set_ylabel('pdf(x)')\n",
        "ax.set_xlim(-4, 4)\n",
        "ax.grid(True)\n",
        "\n",
        "plt.vlines(x=-3, ymin=0, ymax=stats.norm.pdf(-3, loc=mu, scale=sigma), color='black')\n",
        "plt.vlines(x=-2, ymin=0, ymax=stats.norm.pdf(-2, loc=mu, scale=sigma), color='red')\n",
        "plt.vlines(x=-1, ymin=0, ymax=stats.norm.pdf(-1, loc=mu, scale=sigma), color='green')\n",
        "plt.vlines(x=0, ymin=0, ymax=stats.norm.pdf(0, loc=mu, scale=sigma), color='blue')\n",
        "plt.vlines(x=1, ymin=0, ymax=stats.norm.pdf(1, loc=mu, scale=sigma), color='green')\n",
        "plt.vlines(x=2, ymin=0, ymax=stats.norm.pdf(2, loc=mu, scale=sigma), color='red')\n",
        "plt.vlines(x=3, ymin=0, ymax=stats.norm.pdf(3, loc=mu, scale=sigma), color='black')\n",
        "# plt.axvline(np.percentile(X, 2.5), color='black')\n",
        "# plt.axvline(np.percentile(X, 97.5), color='black')\n",
        "\n",
        "plt.title('Normal Curve with 68-95-99 rule')\n",
        "plt.show()"
      ],
      "metadata": {
        "colab": {
          "base_uri": "https://localhost:8080/",
          "height": 472
        },
        "id": "zYEFiELel29i",
        "outputId": "5684c59e-d02c-4123-c017-50d913d429c6"
      },
      "execution_count": null,
      "outputs": [
        {
          "output_type": "display_data",
          "data": {
            "text/plain": [
              "<Figure size 640x480 with 1 Axes>"
            ],
            "image/png": "[encoded data removed]"
          },
          "metadata": {}
        }
      ]
    },
    {
      "cell_type": "markdown",
      "metadata": {
        "id": "fa3088b2"
      },
      "source": [
        "### The Null Hypothesis\n",
        "\n",
        "In scientific research, the null hypothesis (often denoted H0)[1] is the claim that the effect being studied does not exist. Note that the term \"effect\" here is not meant to imply a causative relationship.\n",
        "\n",
        "The null hypothesis can also be described as the hypothesis in which no relationship exists between two sets of data or variables being analyzed. If the null hypothesis is true, any experimentally observed effect is due to chance alone, hence the term \"null\". In contrast with the null hypothesis, an alternative hypothesis is developed, which claims that a relationship does exist between two variables.\n",
        "\n",
        "https://en.wikipedia.org/wiki/Null_hypothesis\n",
        "\n",
        "https://medium.com/peter-flom-the-blog/should-you-even-do-a-hypothesis-test-c21607d31c4b\n",
        "\n",
        "This passage describes the core concepts of **hypothesis testing**, a fundamental method in statistics developed in the 1920s. Here's a summary:\n",
        "\n",
        "**What is Hypothesis Testing?**\n",
        "\n",
        "Hypothesis testing is a way to make inferences about a population based on sample data. It involves formulating two competing hypotheses:\n",
        "\n",
        "* **Null Hypothesis (H0):** A statement of \"no effect\" or \"no difference.\" It represents the status quo.\n",
        "* **Alternative Hypothesis (H1):**  A statement that contradicts the null hypothesis, suggesting an effect or difference.\n",
        "\n",
        "**The Process:**\n",
        "\n",
        "1. **Formulate Hypotheses:** Clearly define the null and alternative hypotheses.\n",
        "2. **Collect Data:** Gather data through experiments or observations.\n",
        "3. **Analyze Data:** Calculate a test statistic that measures the difference between the sample data and what's expected under the null hypothesis.\n",
        "4. **Calculate p-value:** The p-value is the probability of observing results as extreme as those obtained, assuming the null hypothesis is true.\n",
        "5. **Make a Decision:**\n",
        "   * If the p-value is below a predetermined significance level (often 0.05), we reject the null hypothesis in favor of the alternative hypothesis.\n",
        "   * If the p-value is above the significance level, we fail to reject the null hypothesis.\n",
        "\n",
        "**Key Points from the Passage:**\n",
        "\n",
        "* **Hypotheses are Provisional:** Hypotheses are not absolute truths but working assumptions that can be tested.\n",
        "* **The Null Hypothesis is Negative:** It denies change or effects. We aim to disprove it, not prove it.\n",
        "* **P-value:**  A measure of evidence against the null hypothesis. Smaller p-values indicate stronger evidence.\n",
        "* **Statistical Significance:** When the p-value is below the significance level, we say the results are statistically significant, suggesting that the observed effect is unlikely due to chance alone.\n",
        "\n",
        "**Types of Tests:**\n",
        "\n",
        "* **One-tailed test:**  Used when the alternative hypothesis specifies a direction of effect (e.g., greater than, less than).\n",
        "* **Two-tailed test:** Used when the alternative hypothesis simply states a difference without specifying a direction.\n",
        "\n",
        "**In essence, hypothesis testing provides a framework for using data to make decisions about whether to reject or fail to reject a claim about a population.**"
      ]
    },
    {
      "cell_type": "markdown",
      "metadata": {
        "id": "77a40849"
      },
      "source": [
        "### The Alternative Hypothesis\n",
        "\n",
        "The alternative hypothesis and null hypothesis are types of conjectures used in statistical tests, which are formal methods of reaching conclusions or making judgments on the basis of data. In statistical hypothesis testing, the null hypothesis and alternative hypothesis are two mutually exclusive statements.\n",
        "\n",
        "\"The statement being tested in a test of statistical significance is called the null hypothesis. The test of significance is designed to assess the strength of the evidence against the null hypothesis. Usually, the null hypothesis is a statement of 'no effect' or 'no difference'.\" Null hypothesis is often denoted as H0.\n",
        "\n",
        "The statement that is being tested against the null hypothesis is the alternative hypothesis. Alternative hypothesis is often denoted as Ha or H1.\n",
        "\n",
        "In statistical hypothesis testing, to prove the alternative hypothesis is true, it should be shown that the data is contradictory to the null hypothesis. Namely, there is sufficient evidence against null hypothesis to demonstrate that the alternative hypothesis is true.\n",
        "\n",
        "https://en.wikipedia.org/wiki/Alternative_hypothesis\n",
        "\n",
        "This passage delves into the **Neyman-Pearson approach to hypothesis testing**, contrasting it with Fisher's ideas and highlighting the ongoing debate between these two frameworks.\n",
        "\n",
        "**Neyman-Pearson vs. Fisher**\n",
        "\n",
        "While Fisher focused on the p-value as a measure of evidence against the null hypothesis, Neyman and Pearson introduced a decision-making framework with a focus on error rates and power.\n",
        "\n",
        "**Key Concepts in Neyman-Pearson:**\n",
        "\n",
        "* **Alternative Hypothesis:**  Explicitly considered as a competing explanation for the data.\n",
        "* **Decision Making:**  The goal is to decide between rejecting the null hypothesis in favor of the alternative or failing to reject the null.\n",
        "* **Type I Error (False Positive):**  Rejecting the null hypothesis when it's actually true.\n",
        "* **Type II Error (False Negative):** Failing to reject the null hypothesis when the alternative is true.\n",
        "* **Size of the Test (Alpha):**  The probability of making a Type I error, typically pre-specified (e.g., 0.05).\n",
        "* **Power of the Test (Beta):** The probability of correctly rejecting the null hypothesis when the alternative is true.\n",
        "\n",
        "**The Trade-off:**\n",
        "\n",
        "Neyman and Pearson emphasized the importance of balancing Type I and Type II errors.  Increasing power (reducing Type II errors) often comes at the cost of increasing the risk of Type I errors.\n",
        "\n",
        "**The Argument:**\n",
        "\n",
        "Fisher and Neyman-Pearson disagreed on the philosophical underpinnings and practical application of hypothesis testing. Fisher criticized the Neyman-Pearson approach for its focus on decision-making rather than evidence, while Neyman-Pearson argued that Fisher's p-value approach lacked a formal decision rule.\n",
        "\n",
        "**Resolution?**\n",
        "\n",
        "Despite the historical debate, modern practice often combines elements of both approaches. Confidence intervals (influenced by Neyman-Pearson) are used alongside p-values (Fisher's contribution) to provide a more complete picture of the data.\n",
        "\n",
        "**In essence, the Neyman-Pearson approach adds a layer of decision-making to hypothesis testing, considering error rates and power. This complements Fisher's p-value approach, and the combination of these perspectives provides a richer toolkit for statistical inference.**"
      ]
    },
    {
      "cell_type": "markdown",
      "metadata": {
        "id": "4366b7d0"
      },
      "source": [
        "### Type I and Type II Errors\n",
        "\n",
        "- Hypothesis testing is used against results that are already known\n",
        "- Type I error: Reject null hypothesis that should have been supported\n",
        "- $H_0$: There is no fire. Pull the fire alarm, when there is no fire\n",
        "- Type II error: Fail to reject a null hypothesis that should have been rejected\n",
        "- $H_0$: There is no fire. Failed to pull the fire alarm, when there is a fire\n",
        "\n",
        "https://economics.stackexchange.com/questions/27677/type-i-error-type-ii-error-pregnancy-test-analogy-is-it-legit"
      ]
    },
    {
      "cell_type": "code",
      "source": [
        "import numpy as np\n",
        "import matplotlib.pyplot as plt\n",
        "from scipy.stats import norm\n",
        "from scipy.optimize import fsolve\n",
        "\n",
        "# --- 1. Define Distribution Parameters ---\n",
        "# H0 (Null Hypothesis) Distribution: Mean and Standard Deviation\n",
        "mu_0 = 100\n",
        "sigma_0 = 10\n",
        "\n",
        "# H1 (Alternative Hypothesis) Distribution: Mean and Standard Deviation\n",
        "# The alternative mean (mu_1) is shifted to the right to illustrate the errors\n",
        "mu_1 = 120\n",
        "sigma_1 = 10\n",
        "\n",
        "# Significance level (alpha) - often not explicitly used to define the curve intersection\n",
        "# in the image, but conceptually related to the Type I error area.\n",
        "# alpha = 0.05\n",
        "\n",
        "# --- 2. Generate Data for Plotting ---\n",
        "# Create a range of x-values for the plot\n",
        "x = np.linspace(mu_0 - 4 * sigma_0, mu_1 + 4 * sigma_1, 500)\n",
        "\n",
        "# Calculate the Probability Density Function (PDF) for each distribution\n",
        "pdf_0 = norm.pdf(x, mu_0, sigma_0)\n",
        "pdf_1 = norm.pdf(x, mu_1, sigma_1)\n",
        "\n",
        "# --- 3. Find the Critical Value (Intersection Point) ---\n",
        "# The critical value (rejection region boundary) is where the two PDFs are equal.\n",
        "# It's an arbitrary point in the image, but we'll use the intersection for a clear visualization.\n",
        "\n",
        "# Define the function for which we want to find the root (f(x) = pdf_0 - pdf_1 = 0)\n",
        "def equations(p):\n",
        "    x_val = p[0]\n",
        "    return norm.pdf(x_val, mu_0, sigma_0) - norm.pdf(x_val, mu_1, sigma_1)\n",
        "\n",
        "# Use fsolve to find the x-value where the two PDFs are equal\n",
        "# An initial guess is needed, here we'll use the midpoint of the means\n",
        "initial_guess = (mu_0 + mu_1) / 2\n",
        "critical_value = fsolve(equations, initial_guess)[0]\n",
        "\n",
        "# For a simpler, one-tailed test where the critical value is set based on a fixed alpha:\n",
        "# If you wanted a one-tailed test with alpha=0.05 on the H0 curve:\n",
        "# critical_value_alpha = norm.ppf(1 - alpha, loc=mu_0, scale=sigma_0)\n",
        "# We'll use the intersection point (critical_value) for better visual symmetry with the image.\n",
        "\n",
        "# The y-value at the critical point\n",
        "critical_y = norm.pdf(critical_value, mu_0, sigma_0)\n",
        "\n",
        "# --- 4. Plot the Distributions and Errors ---\n",
        "plt.figure(figsize=(10, 6))\n",
        "\n",
        "# Plot the Null Hypothesis (H0) curve\n",
        "plt.plot(x, pdf_0, color='black', label='$H_0$: Null Hypothesis')\n",
        "# plt.text(mu_0, max(pdf_0) * 0.9, 'Null', ha='center', fontsize=12)\n",
        "plt.text(mu_0, max(pdf_0) * 0.6, 'Null\\nHypothesis\\n$H_0$', ha='center', fontsize=12)\n",
        "\n",
        "# Plot the Alternative Hypothesis (H1) curve\n",
        "plt.plot(x, pdf_1, color='black', label='$H_1$: Alternative Hypothesis')\n",
        "# plt.text(mu_1, max(pdf_1) * 0.9, 'Theoretical\\nnon-null value', ha='center', fontsize=12)\n",
        "plt.text(mu_1, max(pdf_1) * 0.6, 'Alternative\\nHypothesis\\n$H_1$', ha='center', fontsize=12)\n",
        "\n",
        "# --- Shading the Errors ---\n",
        "\n",
        "# Type I Error (alpha) - Reject H0 when H0 is true\n",
        "# Area under H0 curve to the RIGHT of the critical value\n",
        "x_alpha = x[x >= critical_value]\n",
        "pdf_0_alpha = norm.pdf(x_alpha, mu_0, sigma_0)\n",
        "plt.fill_between(x_alpha, pdf_0_alpha, color='red', alpha=0.7)\n",
        "plt.text(critical_value + 0.5 * sigma_0, critical_y * 0.1, 'Type I\\nerror',\n",
        "         ha='left', color='black', weight='bold', fontsize=12)\n",
        "\n",
        "# Type II Error (beta) - Fail to reject H0 when H1 is true\n",
        "# Area under H1 curve to the LEFT of the critical value\n",
        "x_beta = x[x <= critical_value]\n",
        "pdf_1_beta = norm.pdf(x_beta, mu_1, sigma_1)\n",
        "plt.fill_between(x_beta, pdf_1_beta, color='deepskyblue', alpha=0.7)\n",
        "plt.text(critical_value - 0.5 * sigma_0, critical_y * 0.1, 'Type II\\nerror',\n",
        "         ha='right', color='black', weight='bold', fontsize=12)\n",
        "\n",
        "# --- Add Annotations and Styling ---\n",
        "\n",
        "# Vertical line for \"Any mean\" (the Critical Value)\n",
        "# plt.axvline(critical_value, color='black', linestyle='-', linewidth=0.8)\n",
        "# plt.text(critical_value + 0.5, max(pdf_0) * 0.8, 'Any\\nmean',\n",
        "#          ha='center', va='bottom', fontsize=12)\n",
        "\n",
        "# Horizontal x-axis line at y=0\n",
        "plt.axhline(0, color='black', linewidth=1)\n",
        "\n",
        "# Customize plot appearance\n",
        "plt.ylim(bottom=0)\n",
        "plt.yticks([]) # Remove y-axis ticks\n",
        "plt.xticks([]) # Remove x-axis ticks\n",
        "plt.xlabel('')\n",
        "plt.ylabel('')\n",
        "plt.title('Type I and Type II Errors in Hypothesis Testing', fontsize=14, weight='bold')\n",
        "\n",
        "plt.show()"
      ],
      "metadata": {
        "colab": {
          "base_uri": "https://localhost:8080/",
          "height": 522
        },
        "id": "YyQS54RPoodw",
        "outputId": "c755e44f-8e89-40e5-e31f-def4ac9566cf"
      },
      "execution_count": null,
      "outputs": [
        {
          "output_type": "display_data",
          "data": {
            "text/plain": [
              "<Figure size 1000x600 with 1 Axes>"
            ],
            "image/png": "[encoded data removed]"
          },
          "metadata": {}
        }
      ]
    },
    {
      "cell_type": "markdown",
      "source": [
        "### Analysis\n",
        "\n",
        "The image illustrates a core concept in **hypothesis testing**, where two distributions represent the possibilities under the **Null Hypothesis ($H_0$)** and the **Alternative Hypothesis ($H_1$)**.\n",
        "\n",
        "The Null Hypothesis ($H_0$) is the default position, stating there is no effect, no difference, or no change (e.g., a new drug has no effect). The Alternative Hypothesis ($H_1$) is what you're trying to prove, stating there *is* an effect or difference (e.g., the new drug works).\n",
        "\n",
        "The two curves overlap because, in real-world data, the results from your sample could plausibly come from either distribution. The point where the red and blue areas meet is the **critical value** or **significance level ($\\alpha$)**, which is the boundary set to decide whether to **reject $H_0$** or **fail to reject $H_0$**.\n",
        "\n",
        "**Type I Error (False Positive) - The Red Area**\n",
        "\n",
        "A **Type I error** occurs when you **reject a true Null Hypothesis ($H_0$)**.\n",
        "\n",
        "* **In the graph (Red Area):** This area lies under the **Null Hypothesis ($H_0$)** curve, but is on the side of the **rejection region**. If your sample data falls in this red area, you conclude the result is significant (i.e., you reject $H_0$ and claim $H_1$ is true). However, since this area is still part of the $H_0$ distribution, this conclusion is incorrect.\n",
        "* **Probability:** The probability of a Type I error is denoted by $\\alpha$ (alpha), the **significance level**, and is typically set to $0.05$ (or 5%).\n",
        "* **Analogy (Legal System):** A Type I error is like **convicting an innocent person**. The person is truly innocent ($H_0$ is true), but based on the evidence, the jury rejects $H_0$ and finds them guilty.\n",
        "* **Analogy (Medical Test):** A Type I error is a **false positive**, where a healthy person is incorrectly diagnosed with a disease.\n",
        "\n",
        "**Type II Error (False Negative) - The Blue Area**\n",
        "\n",
        "A **Type II error** occurs when you **fail to reject a false Null Hypothesis ($H_0$)**.\n",
        "\n",
        "* **In the graph (Blue Area):** This area lies under the **Alternative Hypothesis ($H_1$)** curve, but is on the side of the **acceptance region** (failure to reject $H_0$). If your sample data falls in this blue area, you conclude the result is *not* significant (i.e., you fail to reject $H_0$). However, since this area is part of the $H_1$ distribution, the effect is real, and your conclusion is incorrect. You missed a real effect.\n",
        "* **Probability:** The probability of a Type II error is denoted by $\\beta$ (beta).\n",
        "* **Analogy (Legal System):** A Type II error is like **acquitting a guilty person**. The person is truly guilty ($H_0$ is false, $H_1$ is true), but the jury concludes there is not enough evidence to reject $H_0$ and finds them not guilty.\n",
        "* **Analogy (Medical Test):** A Type II error is a **false negative**, where a person who has the disease is incorrectly told they are healthy.\n",
        "\n",
        "There is a **trade-off** between the two errors:\n",
        "\n",
        "* **To decrease the Type I error ($\\alpha$ - red area):** You must move the critical value further to the right. This makes the rejection region smaller, which **increases the Type II error ($\\beta$ - blue area)**.\n",
        "* **To decrease the Type II error ($\\beta$ - blue area):** You must move the critical value further to the left. This makes the rejection region larger, which **increases the Type I error ($\\alpha$ - red area)**.\n",
        "\n",
        "In practice, a researcher must decide which type of error is more costly to commit and set the $\\alpha$ level accordingly."
      ],
      "metadata": {
        "id": "KdKn2D5zq-u7"
      }
    },
    {
      "cell_type": "markdown",
      "source": [
        "## Word Problems"
      ],
      "metadata": {
        "id": "YgfgqkjzxqqG"
      }
    },
    {
      "cell_type": "markdown",
      "source": [
        "###Binomial Distribution (PMF) Word Problem\n",
        "\n",
        "**Problem:** A factory produces computer chips, and historically, **1.5%** of the chips are defective. If a quality control inspector randomly selects a batch of **200** chips, what is the probability that **exactly 5** chips in the batch are defective?\n",
        "\n",
        "**Concept:** This is a **Binomial Distribution** problem because there is a fixed number of independent trials ($n=200$), and each trial has only two outcomes (defective or non-defective) with a constant probability of success ($p=0.015$). We are looking for the probability of a single, exact number of successes ($k=5$). The solution uses the **Probability Mass Function (PMF)**."
      ],
      "metadata": {
        "id": "_x7dzjjHxHUI"
      }
    },
    {
      "cell_type": "code",
      "source": [
        "from scipy.stats import binom\n",
        "\n",
        "# Parameters\n",
        "n = 200     # number of chips (trials)\n",
        "k = 5       # number of defective chips (successes)\n",
        "p = 0.015   # probability of a chip being defective (success probability)\n",
        "\n",
        "# Calculate the probability mass function (PMF) P(X = 5)\n",
        "probability = binom.pmf(k, n, p)\n",
        "\n",
        "print(f\"The probability of exactly 5 defective chips is: {probability:.4f}\")"
      ],
      "metadata": {
        "id": "_nSMgSiBxfv5"
      },
      "execution_count": null,
      "outputs": []
    },
    {
      "cell_type": "markdown",
      "source": [
        "\n",
        "### Normal Distribution (PDF) Word Problem\n",
        "\n",
        "**Problem:** The scores on a standardized test are normally distributed with a **mean ($\\\\mu$) of 500** and a **standard deviation ($\\\\sigma$) of 100**. What is the probability density associated with a score of exactly **650**?\n",
        "\n",
        "**Concept:** This uses the **Probability Density Function (PDF)** for the continuous Normal distribution. Remember, the PDF value at a single point is not a probability; it is a measure of the relative likelihood or density at that point on the curve."
      ],
      "metadata": {
        "id": "jf703XNNxgiK"
      }
    },
    {
      "cell_type": "code",
      "source": [
        "from scipy.stats import norm\n",
        "\n",
        "# Parameters\n",
        "mu = 500    # mean\n",
        "sigma = 100 # standard deviation\n",
        "x = 650     # specific score\n",
        "\n",
        "# Calculate the Probability Density Function (PDF) value f(650)\n",
        "density = norm.pdf(x, loc=mu, scale=sigma)\n",
        "\n",
        "print(f\"The probability density at a score of 650 is: {density:.6f}\")"
      ],
      "metadata": {
        "id": "lUwQ8f9Rx5Yr"
      },
      "execution_count": null,
      "outputs": []
    },
    {
      "cell_type": "markdown",
      "source": [
        "### Normal Distribution (CDF) Word Problem\n",
        "\n",
        "**Problem:** A light bulb company states that the lifespan of their bulbs is normally distributed with a **mean ($\\\\mu$) of 800 hours** and a **standard deviation ($\\\\sigma$) of 50 hours**. What is the probability that a randomly selected light bulb will last **less than or equal to 750 hours**?\n",
        "\n",
        "**Concept:** This uses the **Cumulative Distribution Function (CDF)**, which calculates the cumulative probability of a continuous variable falling below a certain value $P(X \\le x)$.\n"
      ],
      "metadata": {
        "id": "-3GPU2JKx1aQ"
      }
    },
    {
      "cell_type": "code",
      "source": [
        "from scipy.stats import norm\n",
        "\n",
        "# Parameters\n",
        "mu = 800    # mean lifespan\n",
        "sigma = 50  # standard deviation\n",
        "x = 750     # target hour\n",
        "\n",
        "# Calculate the Cumulative Distribution Function (CDF) P(X <= 750)\n",
        "probability = norm.cdf(x, loc=mu, scale=sigma)\n",
        "\n",
        "print(f\"The probability a bulb lasts 750 hours or less is: {probability:.4f}\")"
      ],
      "metadata": {
        "id": "99IjFPRGyKbV"
      },
      "execution_count": null,
      "outputs": []
    },
    {
      "cell_type": "markdown",
      "source": [
        "### Normal Distribution (PPF) Word Problem\n",
        "\n",
        "**Problem:** The time it takes for a customer service agent to resolve an issue is normally distributed with a **mean ($\\\\mu$) of 15 minutes** and a **standard deviation ($\\\\sigma$) of 3 minutes**. The company wants to set a service target so that **90%** of all customer issues are resolved within that time. What is the target resolution time?\n",
        "\n",
        "**Concept:** This requires the **Percent-Point Function (PPF)**, which is the inverse of the CDF. Given a cumulative probability (the percentile), it returns the corresponding value of the random variable.\n"
      ],
      "metadata": {
        "id": "dO4vEm-JyN5c"
      }
    },
    {
      "cell_type": "code",
      "source": [
        "from scipy.stats import norm\n",
        "\n",
        "# Parameters\n",
        "mu = 15     # mean resolution time\n",
        "sigma = 3   # standard deviation\n",
        "percentile = 0.90 # 90th percentile (90% probability)\n",
        "\n",
        "# Calculate the Percent-Point Function (PPF) - the value 'x' where P(X <= x) = 0.90\n",
        "target_time = norm.ppf(percentile, loc=mu, scale=sigma)\n",
        "\n",
        "print(f\"The target resolution time (90th percentile) is: {target_time:.2f} minutes\")"
      ],
      "metadata": {
        "id": "BImGzT7Oygvo"
      },
      "execution_count": null,
      "outputs": []
    },
    {
      "cell_type": "markdown",
      "source": [
        "### Hypothesis Testing Word Problem (One-Sample Z-Test)\n",
        "\n",
        "A company that manufactures batteries claims their standard AA batteries have a mean lifespan of **20 hours**. A consumer advocacy group suspects this claim is too high. They know from past testing that the population standard deviation ($\\\\sigma$) is **1.5 hours**. The group decides to test the company's claim by taking a random sample of **30** batteries and measuring their lifespan. The sample yields an average lifespan ($\\\\bar{x}$) of **19.5 hours**.\n",
        "\n",
        "Using a significance level ($\\\\alpha$) of **0.05**, should the consumer group **reject** the company's claim?\n",
        "\n",
        "This problem requires a one-sample Z-test since the sample size is large ($n \\\\ge 30$) and the population standard deviation ($\\\\sigma$) is known.\n",
        "\n",
        "**Step 1: State the Hypotheses**\n",
        "\n",
        "  * **Null Hypothesis ($H\\_0$):** The true mean lifespan is 20 hours.\n",
        "    $$\\mu = 20$$\n",
        "  * **Alternative Hypothesis ($H\\_1$):** The true mean lifespan is less than 20 hours (since the group suspects the claim is too high). This is a **left-tailed test**.\n",
        "    $$\\mu < 20$$\n",
        "\n",
        "**Step 2: Calculate the Test Statistic (Z-score)**\n",
        "\n",
        "The formula for the Z-test statistic is:\n",
        "$$Z = \\frac{\\bar{x} - \\mu_0}{\\sigma / \\sqrt{n}}$$\n",
        "\n"
      ],
      "metadata": {
        "id": "BDBUUaDYysdA"
      }
    },
    {
      "cell_type": "code",
      "source": [
        "import numpy as np\n",
        "from scipy.stats import norm\n",
        "\n",
        "# Given parameters\n",
        "mu_0 = 20.0  # Null hypothesis mean\n",
        "sigma = 1.5  # Population standard deviation\n",
        "n = 30       # Sample size\n",
        "x_bar = 19.5 # Sample mean\n",
        "alpha = 0.05 # Significance level\n",
        "\n",
        "# Calculate the Z-test statistic\n",
        "z_statistic = (x_bar - mu_0) / (sigma / np.sqrt(n))\n",
        "\n",
        "print(f\"The calculated Z-test statistic is: {z_statistic:.4f}\")"
      ],
      "metadata": {
        "id": "I5CipDXBzGBH"
      },
      "execution_count": null,
      "outputs": []
    },
    {
      "cell_type": "markdown",
      "source": [
        "**Step 3: Determine the Critical Value and p-value**\n",
        "\n",
        "For a left-tailed test with $\\\\alpha = 0.05$, the critical value is the Z-score that leaves $0.05$ area in the left tail."
      ],
      "metadata": {
        "id": "fOkJFvgHzGkv"
      }
    },
    {
      "cell_type": "code",
      "source": [
        "# Find the critical value (Z-score corresponding to 5% in the left tail)\n",
        "critical_value = norm.ppf(alpha)\n",
        "\n",
        "# Find the p-value (area to the left of the Z-statistic)\n",
        "p_value = norm.cdf(z_statistic)\n",
        "\n",
        "print(f\"The critical Z-value for alpha=0.05 is: {critical_value:.4f}\")\n",
        "print(f\"The p-value is: {p_value:.4f}\")"
      ],
      "metadata": {
        "id": "kxku4XGzzU2H"
      },
      "execution_count": null,
      "outputs": []
    },
    {
      "cell_type": "markdown",
      "source": [
        "**Step 4: Conclusion**\n",
        "\n",
        "**Decision Rule:**\n",
        "\n",
        "1.  **Critical Value Method:** Reject $H\\_0$ if the Z-statistic is less than the critical value.\n",
        "2.  **p-value Method:** Reject $H\\_0$ if the p-value is less than $\\\\alpha$.\n",
        "\n",
        "**Decision on the Null Hypothesis ($H_0$)**\n",
        "\n",
        "The data provides sufficient evidence to **Reject the Null Hypothesis ($H_0$)** at the $\\alpha = 0.05$ significance level. This decision is confirmed by both standard methods:\n",
        "\n",
        "**The Z-statistic (Critical Value Method)**\n",
        "\n",
        "* **Value:** $Z = -1.8257$\n",
        "* **Rule for Rejection:** The test statistic must be less than the Critical Value.\n",
        "* **Comparison:** $$-1.8257 < -1.6449$$\n",
        "* **Conclusion:** The calculated Z-statistic falls into the rejection region (to the left of the critical boundary), leading to the rejection of $H_0$.\n",
        "\n",
        "**The $p$-value (Significance Level Method)**\n",
        "\n",
        "* **Value:** $p$-value $= 0.0339$\n",
        "* **Rule for Rejection:** The $p$-value must be less than the significance level ($\\alpha$).\n",
        "* **Comparison:** $$0.0339 < 0.05$$\n",
        "* **Conclusion:** The probability of observing this result (or one more extreme) is less than the 5% risk ($\\alpha$) the researcher was willing to tolerate, leading to the rejection of $H_0$.\n",
        "\n",
        "**Conclusion:**\n",
        "\n",
        "Since the **Z-statistic (-1.8257) is less than the critical value (-1.6449)**, **AND** the **p-value (0.0339) is less than the significance level ($\\\\alpha=0.05$)**, the consumer group **rejects the null hypothesis ($H\\_0$)**.\n",
        "\n",
        "**Final Answer:** There is statistically sufficient evidence to conclude that the true mean lifespan of the batteries is less than 20 hours. The company's claim is likely too high.\n",
        "\n",
        "**Connection to Errors**\n",
        "\n",
        "  * By rejecting $H\\_0$, the consumer group runs the risk of committing a **Type I Error** ($\\\\alpha$), which means concluding the mean is less than 20 hours when, in reality, it *is* 20 hours. The probability of this error is $0.05$ (or 5%)."
      ],
      "metadata": {
        "id": "kleZ9cqdzVZe"
      }
    },
    {
      "cell_type": "code",
      "execution_count": null,
      "metadata": {
        "id": "d42fbe91",
        "outputId": "49fcd837-3bb0-4100-b3e0-0f4f59f655ab"
      },
      "outputs": [
        {
          "name": "stdout",
          "output_type": "stream",
          "text": [
            "One-tailed test: 1.645\n",
            "Two-tailed test: 1.96\n"
          ]
        }
      ],
      "source": [
        "# one tail vs two tail\n",
        "import numpy as np\n",
        "from scipy import stats\n",
        "\n",
        "a = 0.05\n",
        "print(f'One-tailed test: {np.round(np.abs(stats.norm.ppf(a)), 3)}')\n",
        "print(f'Two-tailed test: {np.round(np.abs(stats.norm.ppf(a/2)), 3)}')"
      ]
    },
    {
      "cell_type": "code",
      "execution_count": null,
      "metadata": {
        "id": "ef6f5cba",
        "outputId": "30d0dc9a-a0b9-471b-9397-0a7ef2350ca0"
      },
      "outputs": [
        {
          "name": "stdout",
          "output_type": "stream",
          "text": [
            "z=-1.65:  0.0494714680336481\n",
            "z=-1.64:  0.05050258347410371\n"
          ]
        },
        {
          "data": {
            "text/plain": [
              "0.05050258347410371"
            ]
          },
          "execution_count": 19,
          "metadata": {},
          "output_type": "execute_result"
        }
      ],
      "source": [
        "# find p value given z left tail\n",
        "import scipy.stats as stats\n",
        "\n",
        "print('z=-1.65: ', stats.norm.cdf(-1.65))\n",
        "print('z=-1.64: ', stats.norm.cdf(-1.64))\n",
        "\n",
        "stats.norm.sf(abs(-1.64))"
      ]
    },
    {
      "cell_type": "code",
      "execution_count": null,
      "metadata": {
        "id": "83e620e1",
        "outputId": "4a8034af-b60a-40b7-e1c1-d077c9dafd4a"
      },
      "outputs": [
        {
          "data": {
            "text/plain": [
              "0.04550026389635839"
            ]
          },
          "execution_count": 20,
          "metadata": {},
          "output_type": "execute_result"
        }
      ],
      "source": [
        "# find p value given z two tail\n",
        "stats.norm.sf(abs(2))*2"
      ]
    },
    {
      "cell_type": "markdown",
      "metadata": {
        "id": "212d32e2"
      },
      "source": [
        "### Pizza Example\n",
        "\n",
        "Pizza delivery takes, on average, 31 minutes with a standard deviation of 7 minutes. We want faster delivery times so we provide bonuses to drivers that deliver under 30 minutes. We take a sample of size 40 of these new deliveries and find that the mean of the sample = 28. We want the confidence level to be 95%.\n",
        "\n",
        "- State the null hypothesis: $H_0: \\mu \\geq 31$\n",
        "- State the alternative hypothesis: $H_a: \\mu \\lt 31$\n",
        "- Determine test type (left tail, right tail, two tail)\n",
        "- Since we want an improved outcome this will be one tailed left\n",
        "- $z = \\frac{\\bar{x} - \\mu}{\\sigma/\\sqrt{n}}$"
      ]
    },
    {
      "cell_type": "code",
      "execution_count": null,
      "metadata": {
        "id": "6b80ceba",
        "outputId": "181b86ce-6461-4ab3-d805-0a35d2b1f098"
      },
      "outputs": [
        {
          "data": {
            "text/plain": [
              "-2.711"
            ]
          },
          "execution_count": 21,
          "metadata": {},
          "output_type": "execute_result"
        }
      ],
      "source": [
        "# find test statistic from our formula\n",
        "import numpy as np\n",
        "\n",
        "test_statistic = (28 - 31) / (7/np.sqrt(40))\n",
        "np.round(test_statistic, 3)"
      ]
    },
    {
      "cell_type": "code",
      "execution_count": null,
      "metadata": {
        "id": "d38fec8a",
        "outputId": "7c681a9d-fb5f-4389-acba-f950cfb1227f"
      },
      "outputs": [
        {
          "data": {
            "text/plain": [
              "-1.645"
            ]
          },
          "execution_count": 22,
          "metadata": {},
          "output_type": "execute_result"
        }
      ],
      "source": [
        "# find critical value\n",
        "from scipy import stats\n",
        "\n",
        "critical_value = stats.norm.ppf(0.05)\n",
        "np.round(critical_value, 3)"
      ]
    },
    {
      "cell_type": "markdown",
      "metadata": {
        "id": "833fbdb4"
      },
      "source": [
        "Since -2.711 < -1.645 we reject the null hypothesis."
      ]
    },
    {
      "cell_type": "code",
      "execution_count": null,
      "metadata": {
        "id": "030259eb",
        "outputId": "8a8416fb-62d6-407a-96eb-5429ddb51246"
      },
      "outputs": [
        {
          "data": {
            "text/plain": [
              "0.003"
            ]
          },
          "execution_count": 23,
          "metadata": {},
          "output_type": "execute_result"
        }
      ],
      "source": [
        "# p-value approach\n",
        "import scipy.stats as stats\n",
        "\n",
        "np.round(stats.norm.sf(abs(test_statistic)), 3)"
      ]
    },
    {
      "cell_type": "markdown",
      "metadata": {
        "id": "551959f0"
      },
      "source": [
        "0.003 < 0.05"
      ]
    }
  ]
}