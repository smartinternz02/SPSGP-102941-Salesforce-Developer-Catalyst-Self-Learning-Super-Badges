{
  "cells": [
    {
      "cell_type": "markdown",
      "metadata": {
        "id": "view-in-github",
        "colab_type": "text"
      },
      "source": [
        "<a href=\"https://colab.research.google.com/github/smartinternz02/SPSGP-102941-Salesforce-Developer-Catalyst-Self-Learning-Super-Badges/blob/main/Module_02-Data_Prep/What_is_Data.ipynb\" target=\"_parent\"><img src=\"https://colab.research.google.com/assets/colab-badge.svg\" alt=\"Open In Colab\"/></a>"
      ]
    },
    {
      "cell_type": "markdown",
      "id": "41c9a5d1",
      "metadata": {
        "id": "41c9a5d1"
      },
      "source": [
        "# Data\n",
        "\n",
        "Your Name"
      ]
    },
    {
      "cell_type": "markdown",
      "source": [
        "## Getting Started\n",
        "\n",
        "* Colab - get notebook from gitmystuff DTSC5502 repository\n",
        "* Save a Copy in Drive\n",
        "* Remove Copy of\n",
        "* Edit your name\n",
        "* Clean up Colab Notebooks folder\n",
        "* Submit shared link"
      ],
      "metadata": {
        "id": "tv86CANY3_Xy"
      },
      "id": "tv86CANY3_Xy"
    },
    {
      "cell_type": "markdown",
      "id": "87f8c9ee",
      "metadata": {
        "id": "87f8c9ee"
      },
      "source": [
        "## Data Science Process\n",
        "\n",
        "https://www.springboard.com/blog/data-science/data-science-process/"
      ]
    },
    {
      "cell_type": "markdown",
      "source": [
        "## Statistics\n",
        "\n",
        "Why use statistics?\n",
        "\n",
        "* To summarize huge quantities of data\n",
        "* To make better decisions\n",
        "* Answer important social questions\n",
        "* Recognize patterns\n",
        "* Evaluate effectiveness\n"
      ],
      "metadata": {
        "id": "iWSQPh49xpgD"
      },
      "id": "iWSQPh49xpgD"
    },
    {
      "cell_type": "markdown",
      "id": "259d6803",
      "metadata": {
        "id": "259d6803"
      },
      "source": [
        "## Parameter vs Statistic\n",
        "\n",
        "* https://www.statisticshowto.com/statistics-basics/how-to-tell-the-difference-between-a-statistic-and-a-parameter/\n",
        "* Parameter describes population, statistic describes sample\n",
        "\n",
        "### Statistical Inference\n",
        "\n",
        "According to Wikipedia (2022):\n",
        "\n",
        ">  the process of using data analysis to infer properties of an underlying distribution of probability (para 1).\n",
        "\n",
        "Statistical Inference. (2022, January 24). In *Wikipedia*. https://en.wikipedia.org/wiki/Statistical_inference.\n",
        "\n",
        "https://www.analyticsvidhya.com/blog/2022/03/an-overview-of-data-collection-data-sources-and-data-mining/\n",
        "\n",
        "* Mean and standard deviation of a sample should be similar to the mean and standard deviation of the population\n",
        "* Mean: where most of the observations lie with a distribution variance that is symmetrical\n",
        "* Standard Deviation: a way to measure how far observations are from the mean, on the x axis, in terms similar to the data it represents"
      ]
    },
    {
      "cell_type": "markdown",
      "id": "74b4d70e",
      "metadata": {
        "id": "74b4d70e"
      },
      "source": [
        "## Data Defined\n",
        "\n",
        "According to Wikipedia (2023):\n",
        "\n",
        ">  In the pursuit of knowledge, data is a collection of discrete values that convey information, describing quantity, quality, fact, statistics, other basic units of meaning, or simply sequences of symbols that may be further interpreted. A datum is an individual value in a collection of data. Data is usually organized into structures such as tables that provide additional context and meaning, and which may themselves be used as data in larger structures (para 1).\n",
        "\n",
        "Data. (2023, January 23). In *Wikipedia*. https://en.wikipedia.org/wiki/Data\n",
        "\n",
        "Data are dumb. Data needs context.\n",
        "\n",
        "* GPA, used a lot but doesn't count the difficulty of the courses taken\n",
        "\n",
        "* It was found that workers who take frequent breaks died earlier than others\n",
        "    * That's because they were out smoking"
      ]
    },
    {
      "cell_type": "markdown",
      "id": "0047de15",
      "metadata": {
        "id": "0047de15"
      },
      "source": [
        "## Data Science, Data Analysis, and Data Mining\n",
        "\n",
        "* Data science is generally concerned with scientific applications, while data mining is used in market analysis, financial analysis, fraud detection, etc.\n",
        "* https://magnimindacademy.com/blog/7-awesome-difference-between-data-science-vs-data-mining/\n",
        "* Data mining is a process of extracting useful information, patterns, and trends from huge databases. Data science refers to the process of obtaining valuable insights from structured and unstructured data by using various tools and methods. Data mining is a technique. Data science is a field\n",
        "* https://www.javatpoint.com/data-mining-vs-data-science\n",
        "* **Check the following image out!**\n",
        "* https://uwex.wisconsin.edu/wp-content/uploads/2020/10/294-ds-vs-da_Page_1-2048x798-1.png"
      ]
    },
    {
      "cell_type": "markdown",
      "source": [
        "# Make It Stick - What is the Data Life Cycle"
      ],
      "metadata": {
        "id": "nRETt71sK52Q"
      },
      "id": "nRETt71sK52Q"
    },
    {
      "cell_type": "markdown",
      "source": [
        "## Data Life Cycle\n",
        "\n",
        "The data lifecycle is like a journey that data takes from its creation to its retirement. It's a continuous process with several stages, each with its own purpose and challenges. Here's a breakdown of the typical stages:\n",
        "\n",
        "**1. Data Creation/Capture**\n",
        "\n",
        "* This is where data is born! It can be generated from various sources:\n",
        "    * **Directly:** User input (forms, surveys), sensors (IoT devices), transactions (online purchases).\n",
        "    * **Indirectly:**  Social media activity, web scraping, machine-generated data (logs).\n",
        "\n",
        "**2. Data Collection**\n",
        "\n",
        "* Gathering the raw data from different sources and bringing it together.\n",
        "* This might involve:\n",
        "    * APIs to connect to databases or online services\n",
        "    * Sensors transmitting data wirelessly\n",
        "    * Manual data entry\n",
        "\n",
        "**3. Data Processing**\n",
        "\n",
        "* Cleaning, transforming, and preparing the data for analysis.\n",
        "* This is often the most time-consuming step and can involve:\n",
        "    * Removing errors and inconsistencies\n",
        "    * Handling missing values\n",
        "    * Converting data types\n",
        "    * Aggregating or summarizing data\n",
        "\n",
        "**4. Data Storage**\n",
        "\n",
        "* Storing the processed data in a secure and accessible way.\n",
        "* Storage options include:\n",
        "    * Databases (relational, NoSQL)\n",
        "    * Data warehouses\n",
        "    * Cloud storage (AWS S3, Google Cloud Storage)\n",
        "\n",
        "**5. Data Analysis**\n",
        "\n",
        "* Extracting insights and knowledge from the data.\n",
        "* This involves:\n",
        "    * Statistical analysis\n",
        "    * Machine learning\n",
        "    * Data visualization\n",
        "\n",
        "**6. Data Visualization**\n",
        "\n",
        "* Representing the data and insights in a visual format (charts, graphs, dashboards).\n",
        "* Makes it easier to understand trends, patterns, and outliers.\n",
        "\n",
        "**7. Data Interpretation**\n",
        "\n",
        "* Drawing conclusions and making decisions based on the data analysis and visualization.\n",
        "* This is where data turns into actionable knowledge.\n",
        "\n",
        "**8. Data Archiving/Deletion**\n",
        "\n",
        "* Deciding what to do with data that's no longer actively used.\n",
        "* Options include:\n",
        "    * Archiving for long-term storage\n",
        "    * Deleting data securely to comply with regulations or free up space\n",
        "\n",
        "**Why is the data lifecycle important?**\n",
        "\n",
        "* **Efficiency:**  It provides a structured approach to managing data, ensuring that it's used effectively throughout its lifespan.\n",
        "* **Data quality:** Helps maintain data accuracy, consistency, and completeness.\n",
        "* **Security and compliance:**  Ensures data is stored and handled securely, meeting regulatory requirements.\n",
        "* **Decision-making:** Provides a framework for turning raw data into valuable insights that drive informed decisions.\n",
        "\n",
        "Understanding the data lifecycle is crucial for anyone working with data, from data scientists and analysts to business leaders and policymakers. It helps organizations maximize the value of their data and make better decisions.\n"
      ],
      "metadata": {
        "id": "czRoYYVHCKFz"
      },
      "id": "czRoYYVHCKFz"
    },
    {
      "cell_type": "markdown",
      "id": "ba618b59",
      "metadata": {
        "id": "ba618b59"
      },
      "source": [
        "## Data Types\n",
        "\n",
        "Computer Science Considerations:\n",
        "* str, int, float\n",
        "* dynamic typing: the type of a variable is determined at runtime\n",
        "* static typing: the type of a variable is determined at compilt time\n",
        "\n",
        "Basic Data Types:\n",
        "* Numerical: has measurement\n",
        "    * Discrete: can be counted (number of people in a class)\n",
        "    * Continuous: described as a measurement (height, weight, temps), usually rounded off\n",
        "* Categorical: some type of group, category, that can be represented by a number (female: 1, male: 2) but have no mathematical meaning\n",
        "* Nominal: named or labeled (31 flavors)\n",
        "* Ordinal: ordered or scaled (first, second, etc, very happy, happy, meh, sad, very sad)\n",
        "* Cardinal: the number of things, counted (1, 2, 3, 4, 6, etc)\n",
        "* Interval: ordered numbers with equal distances (50 degrees, 60 degrees, etc)\n",
        "* Ratio: has a true zero (can't have height of -2 inches, distance between 1 and 2 is the same as 3 and 4 and 4 is twice 2)"
      ]
    },
    {
      "cell_type": "markdown",
      "source": [
        "## Data Structures\n",
        "\n",
        "collection data types, mutable vs immutable (tuples and strings are immutable)\n",
        "\n",
        "* List\n",
        "* Tuple\n",
        "* Set\n",
        "* Sequence (ordered set, list, tuple, string)\n",
        "* Dictionary\n",
        "* Matrix\n",
        "* Classes?\n",
        "\n",
        "Practice:\n",
        "\n",
        "* https://www.w3schools.com/python/default.asp"
      ],
      "metadata": {
        "id": "55Efv8dySBBq"
      },
      "id": "55Efv8dySBBq"
    },
    {
      "cell_type": "code",
      "source": [
        "for i in 'string':\n",
        "    print(i)\n",
        "\n",
        "print('string'[0])\n",
        "'string'[0] = 'x'\n",
        "\n",
        "for i in 12345:\n",
        "    print(i)"
      ],
      "metadata": {
        "colab": {
          "base_uri": "https://localhost:8080/",
          "height": 346
        },
        "id": "Ztm-LqHqJ6Ck",
        "outputId": "4aea8479-ef67-4289-8885-6ec9ab2b93c9"
      },
      "id": "Ztm-LqHqJ6Ck",
      "execution_count": null,
      "outputs": [
        {
          "output_type": "stream",
          "name": "stdout",
          "text": [
            "s\n",
            "t\n",
            "r\n",
            "i\n",
            "n\n",
            "g\n",
            "s\n"
          ]
        },
        {
          "output_type": "error",
          "ename": "TypeError",
          "evalue": "'str' object does not support item assignment",
          "traceback": [
            "\u001b[0;31m---------------------------------------------------------------------------\u001b[0m",
            "\u001b[0;31mTypeError\u001b[0m                                 Traceback (most recent call last)",
            "\u001b[0;32m<ipython-input-6-0db676d003ac>\u001b[0m in \u001b[0;36m<cell line: 5>\u001b[0;34m()\u001b[0m\n\u001b[1;32m      3\u001b[0m \u001b[0;34m\u001b[0m\u001b[0m\n\u001b[1;32m      4\u001b[0m \u001b[0mprint\u001b[0m\u001b[0;34m(\u001b[0m\u001b[0;34m'string'\u001b[0m\u001b[0;34m[\u001b[0m\u001b[0;36m0\u001b[0m\u001b[0;34m]\u001b[0m\u001b[0;34m)\u001b[0m\u001b[0;34m\u001b[0m\u001b[0;34m\u001b[0m\u001b[0m\n\u001b[0;32m----> 5\u001b[0;31m \u001b[0;34m'string'\u001b[0m\u001b[0;34m[\u001b[0m\u001b[0;36m0\u001b[0m\u001b[0;34m]\u001b[0m \u001b[0;34m=\u001b[0m \u001b[0;34m'x'\u001b[0m\u001b[0;34m\u001b[0m\u001b[0;34m\u001b[0m\u001b[0m\n\u001b[0m\u001b[1;32m      6\u001b[0m \u001b[0;34m\u001b[0m\u001b[0m\n\u001b[1;32m      7\u001b[0m \u001b[0;32mfor\u001b[0m \u001b[0mi\u001b[0m \u001b[0;32min\u001b[0m \u001b[0;36m12345\u001b[0m\u001b[0;34m:\u001b[0m\u001b[0;34m\u001b[0m\u001b[0;34m\u001b[0m\u001b[0m\n",
            "\u001b[0;31mTypeError\u001b[0m: 'str' object does not support item assignment"
          ]
        }
      ]
    },
    {
      "cell_type": "markdown",
      "source": [
        "## Data Modeling\n",
        "\n",
        "Data modeling is a process of creating a conceptual representation of data objects and their relationships to one another. The process of data modeling typically involves several steps, including requirements gathering, conceptual design, logical design, physical design, and implementation.\n",
        "\n",
        "https://www.simplilearn.com/what-is-data-modeling-article"
      ],
      "metadata": {
        "id": "5lxa_HCYyJdM"
      },
      "id": "5lxa_HCYyJdM"
    },
    {
      "cell_type": "markdown",
      "source": [
        "## Data Models and Data Structures\n",
        "\n",
        "Python's data model and data structures are foundational concepts in the language. Let's break them down:\n",
        "\n",
        "**Python Data Model**:\n",
        "\n",
        "Concept:\n",
        "* The data model defines how Python objects behave and interact. It's a set of rules that govern how you can access, manipulate, and represent data in Python.\n",
        "\n",
        "Key Features:\n",
        "\n",
        "* Everything is an object: All data types in Python are objects, including numbers, strings, lists, and even functions.\n",
        "* Special methods: Objects can implement special methods (e.g., __init__, __str__, __len__) to customize their behavior.\n",
        "* Duck typing: Python focuses on an object's behavior rather than its type. If an object \"walks like a duck and quacks like a duck,\" it's considered a duck.\n",
        "\n",
        "**Python Data Structures**:\n",
        "\n",
        "Concept:\n",
        "\n",
        "* Data structures are ways of organizing and storing data efficiently. Python offers several built-in data structures, each with its strengths and use cases.\n",
        "\n",
        "Common Data Structures:\n",
        "* Lists: Ordered, mutable collections that can store different data types.\n",
        "* Tuples: Ordered, immutable collections. Often used to store related pieces of information.\n",
        "* Dictionaries: Unordered collections of key-value pairs. Efficient for data retrieval.\n",
        "* Sets: Unordered collections of unique elements. Useful for membership testing.\n",
        "\n",
        "**Relationship between Data Model and Data Structures**:\n",
        "* The data model provides the foundation for how data structures are implemented and used in Python.\n",
        "* Special methods in the data model allow you to customize the behavior of your data structures.\n",
        "* By understanding the data model, you can use built-in data structures more effectively and even create your own custom data structures."
      ],
      "metadata": {
        "id": "BnHk1G520tCP"
      },
      "id": "BnHk1G520tCP"
    },
    {
      "cell_type": "markdown",
      "source": [
        "## Sources of Data"
      ],
      "metadata": {
        "id": "FqwjLbA0YaTl"
      },
      "id": "FqwjLbA0YaTl"
    },
    {
      "cell_type": "markdown",
      "source": [
        "### Primary Data Sources\n",
        "\n",
        "* First hand experience\n",
        "* Census data\n",
        "* Surveys\n",
        "* Questionnaires\n",
        "* Real time sentiment\n",
        "* Interviews\n",
        "* Observations\n",
        "* Experiments"
      ],
      "metadata": {
        "id": "ANTXk1tsYgYY"
      },
      "id": "ANTXk1tsYgYY"
    },
    {
      "cell_type": "markdown",
      "source": [
        "# Make It Stick - Secondary Data Sources"
      ],
      "metadata": {
        "id": "Ry3RFXKHLxES"
      },
      "id": "Ry3RFXKHLxES"
    },
    {
      "cell_type": "markdown",
      "source": [
        "### Secondary Data Sources\n",
        "\n",
        "* Books\n",
        "* Journals\n",
        "* Articles\n",
        "* Web pages\n",
        "* Blogs"
      ],
      "metadata": {
        "id": "OqPusSI-zXaO"
      },
      "id": "OqPusSI-zXaO"
    },
    {
      "cell_type": "markdown",
      "source": [
        "### Databases\n",
        "\n",
        "* SQL\n",
        "* NoSQL"
      ],
      "metadata": {
        "id": "CdCshkgmLhZ5"
      },
      "id": "CdCshkgmLhZ5"
    },
    {
      "cell_type": "markdown",
      "source": [
        "### APIs\n",
        "\n",
        "* Web services\n",
        "* Used to retrieve data"
      ],
      "metadata": {
        "id": "RBHpxjJELm8_"
      },
      "id": "RBHpxjJELm8_"
    },
    {
      "cell_type": "markdown",
      "source": [
        "### Web Scraping\n",
        "\n",
        "* Programs you write to gather online data\n",
        "* Web harvesting\n",
        "* Online data extraction"
      ],
      "metadata": {
        "id": "9TgZfFHILrj1"
      },
      "id": "9TgZfFHILrj1"
    },
    {
      "cell_type": "markdown",
      "source": [
        "### Data Streams\n",
        "\n",
        "* Internet of Things (sensors)\n",
        "* GPS\n",
        "* GIS (Geographic Information System) Mapping\n",
        "* Social media"
      ],
      "metadata": {
        "id": "9cz89PMtLt7X"
      },
      "id": "9cz89PMtLt7X"
    },
    {
      "cell_type": "markdown",
      "source": [
        "## Data Points"
      ],
      "metadata": {
        "id": "ETzTGrzmRfol"
      },
      "id": "ETzTGrzmRfol"
    },
    {
      "cell_type": "markdown",
      "id": "0edbb01a",
      "metadata": {
        "id": "0edbb01a"
      },
      "source": [
        "### Data Starts with a Question\n",
        "\n",
        "According to Wikipedia (2022):\n",
        "\n",
        ">  A research question is a question that a research project sets out to answer'. Choosing a research question is an essential element of both quantitative and qualitative research. Investigation will **require data collection and analysis**, and the methodology for this will vary widely. Good research questions seek to improve knowledge on an important topic, and are usually narrow and specific (para 1).\n",
        "\n",
        "Research Question. (2022, January 24). In *Wikipedia*. https://en.wikipedia.org/wiki/Research_question"
      ]
    },
    {
      "cell_type": "markdown",
      "id": "651e577d",
      "metadata": {
        "id": "651e577d"
      },
      "source": [
        "### Data Needs to be Reliable (Precision)\n",
        "\n",
        "* Consistency of a measure (whether the results can be reproduced under the same conditions)"
      ]
    },
    {
      "cell_type": "markdown",
      "source": [
        "### Data Needs to be Valid (Accurate)\n",
        "\n",
        "* The accuracy of a measure (whether the results really do represent what they are supposed to measure)"
      ],
      "metadata": {
        "id": "0Od0sU77Rmyx"
      },
      "id": "0Od0sU77Rmyx"
    },
    {
      "cell_type": "markdown",
      "source": [
        "### Precision vs Accuracy\n",
        "\n",
        "Accuracy is about correctness, and precision is about consistency\n",
        "\n",
        "* Precision: exactitude of describing something\n",
        "* Accuracy: how consistent to the truth\n",
        "* Where's the library? Library is 1.6 miles from here (precise but not to useful) vs. go down this street a couple of blocks till you pass a bank. It'll be to the right. If you pass the fire station, you've gone too far"
      ],
      "metadata": {
        "id": "ohnu8Mm0Rpql"
      },
      "id": "ohnu8Mm0Rpql"
    },
    {
      "cell_type": "markdown",
      "source": [
        "## Story Time"
      ],
      "metadata": {
        "id": "rw77hetyNlZX"
      },
      "id": "rw77hetyNlZX"
    },
    {
      "cell_type": "markdown",
      "metadata": {
        "id": "UOgYrCtFX1D_"
      },
      "source": [
        "### Jeff Seder\n",
        "\n",
        "Everybody Lies\n",
        "    \n",
        "* Jeff Seder was hired by an Egyptian Beer Magnate, named Ahmed Zayat, who was into horses and horse racing, as a consultant\n",
        "    * There was a sale of 152 one year old horses\n",
        "    * One of those horses, an average horse designated number 85, was owned by Zayat\n",
        "    * At the time Jeff Seder and his team were unable to recommend the purchase of any of the horses\n",
        "    * But was adamant about not selling No. 85 even though similar horses were going for 1 million dollars\n",
        "    * Three months later, Zayat named the horse American Pharoah\n",
        "    * 18 months later American Pharoah won the Triple Crown\n",
        "    \n",
        "* How did Seder know?\n",
        "    * Was it through pedigree? father, mother, grand parents, etc.\n",
        "    * Gaits (a manner of walk, trot, canter, and gallop)?\n",
        "    * Years of data collection resulted in frustration for Seder\n",
        "    * Measured the size of nostrils (produced a book on horse nostrils)\n",
        "    * EKGs\n",
        "    * Dug through horse poop\n",
        "    * Finally found that the size of the heart specifically the left ventricle and spleen mattered\n",
        "    \n",
        "* Data on American Pharoah:\n",
        "    * Height: 56 percentile\n",
        "    * Weight: 61 percentile\n",
        "    * Pedigree: 70 percentile\n",
        "    * Left Ventricle: 99.61 percentile\n",
        "\n"
      ],
      "id": "UOgYrCtFX1D_"
    },
    {
      "cell_type": "markdown",
      "id": "6e50a1e9",
      "metadata": {
        "id": "6e50a1e9"
      },
      "source": [
        "### Fruit Flies and a Data Perspective\n",
        "\n",
        "https://www.bbc.com/news/science-environment-17357560\n",
        "\n",
        "Study Findings\n",
        "\n",
        "Scientists discovered that male fruit flies rejected by females consume significantly more alcohol than those that successfully mate. The research, published in Science journal, suggests alcohol acts as a \"reward\" in the brain similar to sexual conquest.\n",
        "\n",
        "Key Scientific Details\n",
        "\n",
        "* The Chemical Connection: The study identified neuropeptide F (NPF) as the brain chemical linking sexual behavior and alcohol consumption\n",
        "* NPF Levels: Rejected males had lower NPF levels, while mated males had higher levels\n",
        "* Human Parallel: Humans have a similar chemical called neuropeptide Y, suggesting potential relevance to human behavior\n",
        "\n",
        "Research Method\n",
        "\n",
        "Researchers at UC San Francisco tested male flies in two scenarios:\n",
        "\n",
        "* Group 1: Males with receptive virgin females (who mated successfully)\n",
        "* Group 2: Males with previously mated females (who were rejected)\n",
        "\n",
        "When offered regular food or alcohol-laced food, the rejected males chose alcohol while successful males avoided it.\n",
        "\n",
        "Broader Implications\n",
        "\n",
        "The research suggests that brains have internal reward systems that seek to restore balance when reward levels drop. This could help explain addiction mechanisms and reward-seeking behaviors across species, though researchers caution against directly applying fly behavior to humans.\n",
        "\n",
        "The study connects social interactions, brain chemistry, and substance use in a way that could inform understanding of addiction and reward systems.\n",
        "\n",
        "* The study possibly suggests a connection between stress and chemical responses\n",
        "* The real winner is the data, a group of satiated males and a group of frustrated males\n",
        "* Data are to statistics what the pitch is to a bowler"
      ]
    },
    {
      "cell_type": "markdown",
      "source": [
        "## Getting Data"
      ],
      "metadata": {
        "id": "0iQjMyVdSRAx"
      },
      "id": "0iQjMyVdSRAx"
    },
    {
      "cell_type": "markdown",
      "source": [
        "# Code Along"
      ],
      "metadata": {
        "id": "wrnNNAeqPym3"
      },
      "id": "wrnNNAeqPym3"
    },
    {
      "cell_type": "markdown",
      "id": "26b9c5e9",
      "metadata": {
        "id": "26b9c5e9"
      },
      "source": [
        "### Sklearn\n",
        "\n",
        "* https://scikit-learn.org/stable/datasets.html"
      ]
    },
    {
      "cell_type": "code",
      "execution_count": 1,
      "id": "9c7432ed",
      "metadata": {
        "id": "9c7432ed",
        "colab": {
          "base_uri": "https://localhost:8080/"
        },
        "outputId": "729916a8-5aee-4a05-c347-ffa929a36ef6"
      },
      "outputs": [
        {
          "output_type": "execute_result",
          "data": {
            "text/plain": [
              "{'data': array([[   8.3252    ,   41.        ,    6.98412698, ...,    2.55555556,\n",
              "           37.88      , -122.23      ],\n",
              "        [   8.3014    ,   21.        ,    6.23813708, ...,    2.10984183,\n",
              "           37.86      , -122.22      ],\n",
              "        [   7.2574    ,   52.        ,    8.28813559, ...,    2.80225989,\n",
              "           37.85      , -122.24      ],\n",
              "        ...,\n",
              "        [   1.7       ,   17.        ,    5.20554273, ...,    2.3256351 ,\n",
              "           39.43      , -121.22      ],\n",
              "        [   1.8672    ,   18.        ,    5.32951289, ...,    2.12320917,\n",
              "           39.43      , -121.32      ],\n",
              "        [   2.3886    ,   16.        ,    5.25471698, ...,    2.61698113,\n",
              "           39.37      , -121.24      ]]),\n",
              " 'target': array([4.526, 3.585, 3.521, ..., 0.923, 0.847, 0.894]),\n",
              " 'frame': None,\n",
              " 'target_names': ['MedHouseVal'],\n",
              " 'feature_names': ['MedInc',\n",
              "  'HouseAge',\n",
              "  'AveRooms',\n",
              "  'AveBedrms',\n",
              "  'Population',\n",
              "  'AveOccup',\n",
              "  'Latitude',\n",
              "  'Longitude'],\n",
              " 'DESCR': '.. _california_housing_dataset:\\n\\nCalifornia Housing dataset\\n--------------------------\\n\\n**Data Set Characteristics:**\\n\\n:Number of Instances: 20640\\n\\n:Number of Attributes: 8 numeric, predictive attributes and the target\\n\\n:Attribute Information:\\n    - MedInc        median income in block group\\n    - HouseAge      median house age in block group\\n    - AveRooms      average number of rooms per household\\n    - AveBedrms     average number of bedrooms per household\\n    - Population    block group population\\n    - AveOccup      average number of household members\\n    - Latitude      block group latitude\\n    - Longitude     block group longitude\\n\\n:Missing Attribute Values: None\\n\\nThis dataset was obtained from the StatLib repository.\\nhttps://www.dcc.fc.up.pt/~ltorgo/Regression/cal_housing.html\\n\\nThe target variable is the median house value for California districts,\\nexpressed in hundreds of thousands of dollars ($100,000).\\n\\nThis dataset was derived from the 1990 U.S. census, using one row per census\\nblock group. A block group is the smallest geographical unit for which the U.S.\\nCensus Bureau publishes sample data (a block group typically has a population\\nof 600 to 3,000 people).\\n\\nA household is a group of people residing within a home. Since the average\\nnumber of rooms and bedrooms in this dataset are provided per household, these\\ncolumns may take surprisingly large values for block groups with few households\\nand many empty houses, such as vacation resorts.\\n\\nIt can be downloaded/loaded using the\\n:func:`sklearn.datasets.fetch_california_housing` function.\\n\\n.. rubric:: References\\n\\n- Pace, R. Kelley and Ronald Barry, Sparse Spatial Autoregressions,\\n  Statistics and Probability Letters, 33 (1997) 291-297\\n'}"
            ]
          },
          "metadata": {},
          "execution_count": 1
        }
      ],
      "source": [
        "# fetch california housing\n",
        "from sklearn.datasets import fetch_california_housing\n",
        "housing = fetch_california_housing()\n",
        "housing\n"
      ]
    },
    {
      "cell_type": "code",
      "execution_count": 2,
      "id": "ac34ae7c",
      "metadata": {
        "id": "ac34ae7c",
        "colab": {
          "base_uri": "https://localhost:8080/"
        },
        "outputId": "5865ddc4-af53-47a1-b80c-5fa66946fb52"
      },
      "outputs": [
        {
          "output_type": "execute_result",
          "data": {
            "text/plain": [
              "dict_keys(['data', 'target', 'frame', 'target_names', 'feature_names', 'DESCR'])"
            ]
          },
          "metadata": {},
          "execution_count": 2
        }
      ],
      "source": [
        "# get keys\n",
        "housing.keys()"
      ]
    },
    {
      "cell_type": "code",
      "execution_count": 4,
      "id": "d24db2ea",
      "metadata": {
        "id": "d24db2ea",
        "colab": {
          "base_uri": "https://localhost:8080/"
        },
        "outputId": "b5eab508-62ae-44b6-a235-329cf6a85946"
      },
      "outputs": [
        {
          "output_type": "stream",
          "name": "stdout",
          "text": [
            ".. _california_housing_dataset:\n",
            "\n",
            "California Housing dataset\n",
            "--------------------------\n",
            "\n",
            "**Data Set Characteristics:**\n",
            "\n",
            ":Number of Instances: 20640\n",
            "\n",
            ":Number of Attributes: 8 numeric, predictive attributes and the target\n",
            "\n",
            ":Attribute Information:\n",
            "    - MedInc        median income in block group\n",
            "    - HouseAge      median house age in block group\n",
            "    - AveRooms      average number of rooms per household\n",
            "    - AveBedrms     average number of bedrooms per household\n",
            "    - Population    block group population\n",
            "    - AveOccup      average number of household members\n",
            "    - Latitude      block group latitude\n",
            "    - Longitude     block group longitude\n",
            "\n",
            ":Missing Attribute Values: None\n",
            "\n",
            "This dataset was obtained from the StatLib repository.\n",
            "https://www.dcc.fc.up.pt/~ltorgo/Regression/cal_housing.html\n",
            "\n",
            "The target variable is the median house value for California districts,\n",
            "expressed in hundreds of thousands of dollars ($100,000).\n",
            "\n",
            "This dataset was derived from the 1990 U.S. census, using one row per census\n",
            "block group. A block group is the smallest geographical unit for which the U.S.\n",
            "Census Bureau publishes sample data (a block group typically has a population\n",
            "of 600 to 3,000 people).\n",
            "\n",
            "A household is a group of people residing within a home. Since the average\n",
            "number of rooms and bedrooms in this dataset are provided per household, these\n",
            "columns may take surprisingly large values for block groups with few households\n",
            "and many empty houses, such as vacation resorts.\n",
            "\n",
            "It can be downloaded/loaded using the\n",
            ":func:`sklearn.datasets.fetch_california_housing` function.\n",
            "\n",
            ".. rubric:: References\n",
            "\n",
            "- Pace, R. Kelley and Ronald Barry, Sparse Spatial Autoregressions,\n",
            "  Statistics and Probability Letters, 33 (1997) 291-297\n",
            "\n"
          ]
        }
      ],
      "source": [
        "# get description\n",
        "print(housing.DESCR)\n"
      ]
    },
    {
      "cell_type": "code",
      "execution_count": 6,
      "id": "66be9b06",
      "metadata": {
        "id": "66be9b06",
        "colab": {
          "base_uri": "https://localhost:8080/"
        },
        "outputId": "69de152d-3b4d-4738-a228-2d76a7cffa84"
      },
      "outputs": [
        {
          "output_type": "stream",
          "name": "stdout",
          "text": [
            "(20640, 9)\n",
            "<class 'pandas.core.frame.DataFrame'>\n",
            "RangeIndex: 20640 entries, 0 to 20639\n",
            "Data columns (total 9 columns):\n",
            " #   Column      Non-Null Count  Dtype  \n",
            "---  ------      --------------  -----  \n",
            " 0   MedInc      20640 non-null  float64\n",
            " 1   HouseAge    20640 non-null  float64\n",
            " 2   AveRooms    20640 non-null  float64\n",
            " 3   AveBedrms   20640 non-null  float64\n",
            " 4   Population  20640 non-null  float64\n",
            " 5   AveOccup    20640 non-null  float64\n",
            " 6   Latitude    20640 non-null  float64\n",
            " 7   Longitude   20640 non-null  float64\n",
            " 8   target      20640 non-null  float64\n",
            "dtypes: float64(9)\n",
            "memory usage: 1.4 MB\n",
            "None\n",
            "   MedInc  HouseAge  AveRooms  AveBedrms  Population  AveOccup  Latitude  \\\n",
            "0  8.3252      41.0  6.984127   1.023810       322.0  2.555556     37.88   \n",
            "1  8.3014      21.0  6.238137   0.971880      2401.0  2.109842     37.86   \n",
            "2  7.2574      52.0  8.288136   1.073446       496.0  2.802260     37.85   \n",
            "3  5.6431      52.0  5.817352   1.073059       558.0  2.547945     37.85   \n",
            "4  3.8462      52.0  6.281853   1.081081       565.0  2.181467     37.85   \n",
            "\n",
            "   Longitude  target  \n",
            "0    -122.23   4.526  \n",
            "1    -122.22   3.585  \n",
            "2    -122.24   3.521  \n",
            "3    -122.25   3.413  \n",
            "4    -122.25   3.422  \n"
          ]
        }
      ],
      "source": [
        "# print feature names and target names\n",
        "import pandas as pd\n",
        "df = pd.DataFrame(housing.data, columns=housing.feature_names)\n",
        "df['target'] = housing.target\n",
        "print(df.shape)\n",
        "print(df.info())\n",
        "print(df.head())"
      ]
    },
    {
      "cell_type": "code",
      "execution_count": 7,
      "id": "9dc5505b",
      "metadata": {
        "id": "9dc5505b",
        "colab": {
          "base_uri": "https://localhost:8080/"
        },
        "outputId": "7c843ba0-292f-423b-9c60-3e79a7a7e94c"
      },
      "outputs": [
        {
          "output_type": "stream",
          "name": "stdout",
          "text": [
            "(20640, 9)\n",
            "<class 'pandas.core.frame.DataFrame'>\n",
            "RangeIndex: 20640 entries, 0 to 20639\n",
            "Data columns (total 9 columns):\n",
            " #   Column      Non-Null Count  Dtype  \n",
            "---  ------      --------------  -----  \n",
            " 0   MedInc      20640 non-null  float64\n",
            " 1   HouseAge    20640 non-null  float64\n",
            " 2   AveRooms    20640 non-null  float64\n",
            " 3   AveBedrms   20640 non-null  float64\n",
            " 4   Population  20640 non-null  float64\n",
            " 5   AveOccup    20640 non-null  float64\n",
            " 6   Latitude    20640 non-null  float64\n",
            " 7   Longitude   20640 non-null  float64\n",
            " 8   target      20640 non-null  float64\n",
            "dtypes: float64(9)\n",
            "memory usage: 1.4 MB\n",
            "None\n",
            "   MedInc  HouseAge  AveRooms  AveBedrms  Population  AveOccup  Latitude  \\\n",
            "0  8.3252      41.0  6.984127   1.023810       322.0  2.555556     37.88   \n",
            "1  8.3014      21.0  6.238137   0.971880      2401.0  2.109842     37.86   \n",
            "2  7.2574      52.0  8.288136   1.073446       496.0  2.802260     37.85   \n",
            "3  5.6431      52.0  5.817352   1.073059       558.0  2.547945     37.85   \n",
            "4  3.8462      52.0  6.281853   1.081081       565.0  2.181467     37.85   \n",
            "\n",
            "   Longitude  target  \n",
            "0    -122.23   4.526  \n",
            "1    -122.22   3.585  \n",
            "2    -122.24   3.521  \n",
            "3    -122.25   3.413  \n",
            "4    -122.25   3.422  \n"
          ]
        }
      ],
      "source": [
        "# alternative method\n",
        "import pandas as pd\n",
        "X, y = fetch_california_housing(return_X_y=True)\n",
        "df = pd.DataFrame(X, columns=housing.feature_names)\n",
        "df['target'] = y\n",
        "print(df.shape)\n",
        "print(df.info())\n",
        "print(df.head())"
      ]
    },
    {
      "cell_type": "markdown",
      "id": "09455b39",
      "metadata": {
        "id": "09455b39"
      },
      "source": [
        "### Seaborn\n",
        "\n",
        "* https://seaborn.pydata.org/generated/seaborn.load_dataset.html"
      ]
    },
    {
      "cell_type": "code",
      "execution_count": 8,
      "id": "efa93820",
      "metadata": {
        "id": "efa93820",
        "colab": {
          "base_uri": "https://localhost:8080/"
        },
        "outputId": "3366fea8-4b73-41cd-aa28-7e89972c3c2c"
      },
      "outputs": [
        {
          "output_type": "execute_result",
          "data": {
            "text/plain": [
              "['anagrams',\n",
              " 'anscombe',\n",
              " 'attention',\n",
              " 'brain_networks',\n",
              " 'car_crashes',\n",
              " 'diamonds',\n",
              " 'dots',\n",
              " 'dowjones',\n",
              " 'exercise',\n",
              " 'flights',\n",
              " 'fmri',\n",
              " 'geyser',\n",
              " 'glue',\n",
              " 'healthexp',\n",
              " 'iris',\n",
              " 'mpg',\n",
              " 'penguins',\n",
              " 'planets',\n",
              " 'seaice',\n",
              " 'taxis',\n",
              " 'tips',\n",
              " 'titanic']"
            ]
          },
          "metadata": {},
          "execution_count": 8
        }
      ],
      "source": [
        "# get list of seaborn datasets\n",
        "import seaborn as sns\n",
        "sns.get_dataset_names()\n"
      ]
    },
    {
      "cell_type": "code",
      "execution_count": 9,
      "id": "aedf5438",
      "metadata": {
        "id": "aedf5438",
        "colab": {
          "base_uri": "https://localhost:8080/"
        },
        "outputId": "0b1e7e7d-d7f7-48c1-a4df-fdf1c199f748"
      },
      "outputs": [
        {
          "output_type": "stream",
          "name": "stdout",
          "text": [
            "(891, 15)\n",
            "<class 'pandas.core.frame.DataFrame'>\n",
            "RangeIndex: 891 entries, 0 to 890\n",
            "Data columns (total 15 columns):\n",
            " #   Column       Non-Null Count  Dtype   \n",
            "---  ------       --------------  -----   \n",
            " 0   survived     891 non-null    int64   \n",
            " 1   pclass       891 non-null    int64   \n",
            " 2   sex          891 non-null    object  \n",
            " 3   age          714 non-null    float64 \n",
            " 4   sibsp        891 non-null    int64   \n",
            " 5   parch        891 non-null    int64   \n",
            " 6   fare         891 non-null    float64 \n",
            " 7   embarked     889 non-null    object  \n",
            " 8   class        891 non-null    category\n",
            " 9   who          891 non-null    object  \n",
            " 10  adult_male   891 non-null    bool    \n",
            " 11  deck         203 non-null    category\n",
            " 12  embark_town  889 non-null    object  \n",
            " 13  alive        891 non-null    object  \n",
            " 14  alone        891 non-null    bool    \n",
            "dtypes: bool(2), category(2), float64(2), int64(4), object(5)\n",
            "memory usage: 80.7+ KB\n",
            "None\n",
            "   survived  pclass     sex   age  sibsp  parch     fare embarked  class  \\\n",
            "0         0       3    male  22.0      1      0   7.2500        S  Third   \n",
            "1         1       1  female  38.0      1      0  71.2833        C  First   \n",
            "2         1       3  female  26.0      0      0   7.9250        S  Third   \n",
            "3         1       1  female  35.0      1      0  53.1000        S  First   \n",
            "4         0       3    male  35.0      0      0   8.0500        S  Third   \n",
            "\n",
            "     who  adult_male deck  embark_town alive  alone  \n",
            "0    man        True  NaN  Southampton    no  False  \n",
            "1  woman       False    C    Cherbourg   yes  False  \n",
            "2  woman       False  NaN  Southampton   yes   True  \n",
            "3  woman       False    C  Southampton   yes  False  \n",
            "4    man        True  NaN  Southampton    no   True  \n"
          ]
        }
      ],
      "source": [
        "# loading seaborn dataset\n",
        "import seaborn as sns\n",
        "df = sns.load_dataset('titanic')\n",
        "print(df.shape)\n",
        "print(df.info())\n",
        "print(df.head())\n"
      ]
    },
    {
      "cell_type": "code",
      "execution_count": 10,
      "id": "d9b24424",
      "metadata": {
        "id": "d9b24424",
        "colab": {
          "base_uri": "https://localhost:8080/",
          "height": 300
        },
        "outputId": "0ccf22b0-28c8-49f7-8c63-a175c1aa146e"
      },
      "outputs": [
        {
          "output_type": "execute_result",
          "data": {
            "text/plain": [
              "         survived      pclass         age       sibsp       parch        fare\n",
              "count  891.000000  891.000000  714.000000  891.000000  891.000000  891.000000\n",
              "mean     0.383838    2.308642   29.699118    0.523008    0.381594   32.204208\n",
              "std      0.486592    0.836071   14.526497    1.102743    0.806057   49.693429\n",
              "min      0.000000    1.000000    0.420000    0.000000    0.000000    0.000000\n",
              "25%      0.000000    2.000000   20.125000    0.000000    0.000000    7.910400\n",
              "50%      0.000000    3.000000   28.000000    0.000000    0.000000   14.454200\n",
              "75%      1.000000    3.000000   38.000000    1.000000    0.000000   31.000000\n",
              "max      1.000000    3.000000   80.000000    8.000000    6.000000  512.329200"
            ],
            "text/html": [
              "\n",
              "  <div id=\"df-f89dc436-5bf4-4b99-b643-dc2497e601d2\" class=\"colab-df-container\">\n",
              "    <div>\n",
              "<style scoped>\n",
              "    .dataframe tbody tr th:only-of-type {\n",
              "        vertical-align: middle;\n",
              "    }\n",
              "\n",
              "    .dataframe tbody tr th {\n",
              "        vertical-align: top;\n",
              "    }\n",
              "\n",
              "    .dataframe thead th {\n",
              "        text-align: right;\n",
              "    }\n",
              "</style>\n",
              "<table border=\"1\" class=\"dataframe\">\n",
              "  <thead>\n",
              "    <tr style=\"text-align: right;\">\n",
              "      <th></th>\n",
              "      <th>survived</th>\n",
              "      <th>pclass</th>\n",
              "      <th>age</th>\n",
              "      <th>sibsp</th>\n",
              "      <th>parch</th>\n",
              "      <th>fare</th>\n",
              "    </tr>\n",
              "  </thead>\n",
              "  <tbody>\n",
              "    <tr>\n",
              "      <th>count</th>\n",
              "      <td>891.000000</td>\n",
              "      <td>891.000000</td>\n",
              "      <td>714.000000</td>\n",
              "      <td>891.000000</td>\n",
              "      <td>891.000000</td>\n",
              "      <td>891.000000</td>\n",
              "    </tr>\n",
              "    <tr>\n",
              "      <th>mean</th>\n",
              "      <td>0.383838</td>\n",
              "      <td>2.308642</td>\n",
              "      <td>29.699118</td>\n",
              "      <td>0.523008</td>\n",
              "      <td>0.381594</td>\n",
              "      <td>32.204208</td>\n",
              "    </tr>\n",
              "    <tr>\n",
              "      <th>std</th>\n",
              "      <td>0.486592</td>\n",
              "      <td>0.836071</td>\n",
              "      <td>14.526497</td>\n",
              "      <td>1.102743</td>\n",
              "      <td>0.806057</td>\n",
              "      <td>49.693429</td>\n",
              "    </tr>\n",
              "    <tr>\n",
              "      <th>min</th>\n",
              "      <td>0.000000</td>\n",
              "      <td>1.000000</td>\n",
              "      <td>0.420000</td>\n",
              "      <td>0.000000</td>\n",
              "      <td>0.000000</td>\n",
              "      <td>0.000000</td>\n",
              "    </tr>\n",
              "    <tr>\n",
              "      <th>25%</th>\n",
              "      <td>0.000000</td>\n",
              "      <td>2.000000</td>\n",
              "      <td>20.125000</td>\n",
              "      <td>0.000000</td>\n",
              "      <td>0.000000</td>\n",
              "      <td>7.910400</td>\n",
              "    </tr>\n",
              "    <tr>\n",
              "      <th>50%</th>\n",
              "      <td>0.000000</td>\n",
              "      <td>3.000000</td>\n",
              "      <td>28.000000</td>\n",
              "      <td>0.000000</td>\n",
              "      <td>0.000000</td>\n",
              "      <td>14.454200</td>\n",
              "    </tr>\n",
              "    <tr>\n",
              "      <th>75%</th>\n",
              "      <td>1.000000</td>\n",
              "      <td>3.000000</td>\n",
              "      <td>38.000000</td>\n",
              "      <td>1.000000</td>\n",
              "      <td>0.000000</td>\n",
              "      <td>31.000000</td>\n",
              "    </tr>\n",
              "    <tr>\n",
              "      <th>max</th>\n",
              "      <td>1.000000</td>\n",
              "      <td>3.000000</td>\n",
              "      <td>80.000000</td>\n",
              "      <td>8.000000</td>\n",
              "      <td>6.000000</td>\n",
              "      <td>512.329200</td>\n",
              "    </tr>\n",
              "  </tbody>\n",
              "</table>\n",
              "</div>\n",
              "    <div class=\"colab-df-buttons\">\n",
              "\n",
              "  <div class=\"colab-df-container\">\n",
              "    <button class=\"colab-df-convert\" onclick=\"convertToInteractive('df-f89dc436-5bf4-4b99-b643-dc2497e601d2')\"\n",
              "            title=\"Convert this dataframe to an interactive table.\"\n",
              "            style=\"display:none;\">\n",
              "\n",
              "  <svg xmlns=\"http://www.w3.org/2000/svg\" height=\"24px\" viewBox=\"0 -960 960 960\">\n",
              "    <path d=\"M120-120v-720h720v720H120Zm60-500h600v-160H180v160Zm220 220h160v-160H400v160Zm0 220h160v-160H400v160ZM180-400h160v-160H180v160Zm440 0h160v-160H620v160ZM180-180h160v-160H180v160Zm440 0h160v-160H620v160Z\"/>\n",
              "  </svg>\n",
              "    </button>\n",
              "\n",
              "  <style>\n",
              "    .colab-df-container {\n",
              "      display:flex;\n",
              "      gap: 12px;\n",
              "    }\n",
              "\n",
              "    .colab-df-convert {\n",
              "      background-color: #E8F0FE;\n",
              "      border: none;\n",
              "      border-radius: 50%;\n",
              "      cursor: pointer;\n",
              "      display: none;\n",
              "      fill: #1967D2;\n",
              "      height: 32px;\n",
              "      padding: 0 0 0 0;\n",
              "      width: 32px;\n",
              "    }\n",
              "\n",
              "    .colab-df-convert:hover {\n",
              "      background-color: #E2EBFA;\n",
              "      box-shadow: 0px 1px 2px rgba(60, 64, 67, 0.3), 0px 1px 3px 1px rgba(60, 64, 67, 0.15);\n",
              "      fill: #174EA6;\n",
              "    }\n",
              "\n",
              "    .colab-df-buttons div {\n",
              "      margin-bottom: 4px;\n",
              "    }\n",
              "\n",
              "    [theme=dark] .colab-df-convert {\n",
              "      background-color: #3B4455;\n",
              "      fill: #D2E3FC;\n",
              "    }\n",
              "\n",
              "    [theme=dark] .colab-df-convert:hover {\n",
              "      background-color: #434B5C;\n",
              "      box-shadow: 0px 1px 3px 1px rgba(0, 0, 0, 0.15);\n",
              "      filter: drop-shadow(0px 1px 2px rgba(0, 0, 0, 0.3));\n",
              "      fill: #FFFFFF;\n",
              "    }\n",
              "  </style>\n",
              "\n",
              "    <script>\n",
              "      const buttonEl =\n",
              "        document.querySelector('#df-f89dc436-5bf4-4b99-b643-dc2497e601d2 button.colab-df-convert');\n",
              "      buttonEl.style.display =\n",
              "        google.colab.kernel.accessAllowed ? 'block' : 'none';\n",
              "\n",
              "      async function convertToInteractive(key) {\n",
              "        const element = document.querySelector('#df-f89dc436-5bf4-4b99-b643-dc2497e601d2');\n",
              "        const dataTable =\n",
              "          await google.colab.kernel.invokeFunction('convertToInteractive',\n",
              "                                                    [key], {});\n",
              "        if (!dataTable) return;\n",
              "\n",
              "        const docLinkHtml = 'Like what you see? Visit the ' +\n",
              "          '<a target=\"_blank\" href=https://colab.research.google.com/notebooks/data_table.ipynb>data table notebook</a>'\n",
              "          + ' to learn more about interactive tables.';\n",
              "        element.innerHTML = '';\n",
              "        dataTable['output_type'] = 'display_data';\n",
              "        await google.colab.output.renderOutput(dataTable, element);\n",
              "        const docLink = document.createElement('div');\n",
              "        docLink.innerHTML = docLinkHtml;\n",
              "        element.appendChild(docLink);\n",
              "      }\n",
              "    </script>\n",
              "  </div>\n",
              "\n",
              "\n",
              "    <div id=\"df-d8c8bf7b-8ebf-4dfb-ac6e-c0c10c0c8701\">\n",
              "      <button class=\"colab-df-quickchart\" onclick=\"quickchart('df-d8c8bf7b-8ebf-4dfb-ac6e-c0c10c0c8701')\"\n",
              "                title=\"Suggest charts\"\n",
              "                style=\"display:none;\">\n",
              "\n",
              "<svg xmlns=\"http://www.w3.org/2000/svg\" height=\"24px\"viewBox=\"0 0 24 24\"\n",
              "     width=\"24px\">\n",
              "    <g>\n",
              "        <path d=\"M19 3H5c-1.1 0-2 .9-2 2v14c0 1.1.9 2 2 2h14c1.1 0 2-.9 2-2V5c0-1.1-.9-2-2-2zM9 17H7v-7h2v7zm4 0h-2V7h2v10zm4 0h-2v-4h2v4z\"/>\n",
              "    </g>\n",
              "</svg>\n",
              "      </button>\n",
              "\n",
              "<style>\n",
              "  .colab-df-quickchart {\n",
              "      --bg-color: #E8F0FE;\n",
              "      --fill-color: #1967D2;\n",
              "      --hover-bg-color: #E2EBFA;\n",
              "      --hover-fill-color: #174EA6;\n",
              "      --disabled-fill-color: #AAA;\n",
              "      --disabled-bg-color: #DDD;\n",
              "  }\n",
              "\n",
              "  [theme=dark] .colab-df-quickchart {\n",
              "      --bg-color: #3B4455;\n",
              "      --fill-color: #D2E3FC;\n",
              "      --hover-bg-color: #434B5C;\n",
              "      --hover-fill-color: #FFFFFF;\n",
              "      --disabled-bg-color: #3B4455;\n",
              "      --disabled-fill-color: #666;\n",
              "  }\n",
              "\n",
              "  .colab-df-quickchart {\n",
              "    background-color: var(--bg-color);\n",
              "    border: none;\n",
              "    border-radius: 50%;\n",
              "    cursor: pointer;\n",
              "    display: none;\n",
              "    fill: var(--fill-color);\n",
              "    height: 32px;\n",
              "    padding: 0;\n",
              "    width: 32px;\n",
              "  }\n",
              "\n",
              "  .colab-df-quickchart:hover {\n",
              "    background-color: var(--hover-bg-color);\n",
              "    box-shadow: 0 1px 2px rgba(60, 64, 67, 0.3), 0 1px 3px 1px rgba(60, 64, 67, 0.15);\n",
              "    fill: var(--button-hover-fill-color);\n",
              "  }\n",
              "\n",
              "  .colab-df-quickchart-complete:disabled,\n",
              "  .colab-df-quickchart-complete:disabled:hover {\n",
              "    background-color: var(--disabled-bg-color);\n",
              "    fill: var(--disabled-fill-color);\n",
              "    box-shadow: none;\n",
              "  }\n",
              "\n",
              "  .colab-df-spinner {\n",
              "    border: 2px solid var(--fill-color);\n",
              "    border-color: transparent;\n",
              "    border-bottom-color: var(--fill-color);\n",
              "    animation:\n",
              "      spin 1s steps(1) infinite;\n",
              "  }\n",
              "\n",
              "  @keyframes spin {\n",
              "    0% {\n",
              "      border-color: transparent;\n",
              "      border-bottom-color: var(--fill-color);\n",
              "      border-left-color: var(--fill-color);\n",
              "    }\n",
              "    20% {\n",
              "      border-color: transparent;\n",
              "      border-left-color: var(--fill-color);\n",
              "      border-top-color: var(--fill-color);\n",
              "    }\n",
              "    30% {\n",
              "      border-color: transparent;\n",
              "      border-left-color: var(--fill-color);\n",
              "      border-top-color: var(--fill-color);\n",
              "      border-right-color: var(--fill-color);\n",
              "    }\n",
              "    40% {\n",
              "      border-color: transparent;\n",
              "      border-right-color: var(--fill-color);\n",
              "      border-top-color: var(--fill-color);\n",
              "    }\n",
              "    60% {\n",
              "      border-color: transparent;\n",
              "      border-right-color: var(--fill-color);\n",
              "    }\n",
              "    80% {\n",
              "      border-color: transparent;\n",
              "      border-right-color: var(--fill-color);\n",
              "      border-bottom-color: var(--fill-color);\n",
              "    }\n",
              "    90% {\n",
              "      border-color: transparent;\n",
              "      border-bottom-color: var(--fill-color);\n",
              "    }\n",
              "  }\n",
              "</style>\n",
              "\n",
              "      <script>\n",
              "        async function quickchart(key) {\n",
              "          const quickchartButtonEl =\n",
              "            document.querySelector('#' + key + ' button');\n",
              "          quickchartButtonEl.disabled = true;  // To prevent multiple clicks.\n",
              "          quickchartButtonEl.classList.add('colab-df-spinner');\n",
              "          try {\n",
              "            const charts = await google.colab.kernel.invokeFunction(\n",
              "                'suggestCharts', [key], {});\n",
              "          } catch (error) {\n",
              "            console.error('Error during call to suggestCharts:', error);\n",
              "          }\n",
              "          quickchartButtonEl.classList.remove('colab-df-spinner');\n",
              "          quickchartButtonEl.classList.add('colab-df-quickchart-complete');\n",
              "        }\n",
              "        (() => {\n",
              "          let quickchartButtonEl =\n",
              "            document.querySelector('#df-d8c8bf7b-8ebf-4dfb-ac6e-c0c10c0c8701 button');\n",
              "          quickchartButtonEl.style.display =\n",
              "            google.colab.kernel.accessAllowed ? 'block' : 'none';\n",
              "        })();\n",
              "      </script>\n",
              "    </div>\n",
              "\n",
              "    </div>\n",
              "  </div>\n"
            ],
            "application/vnd.google.colaboratory.intrinsic+json": {
              "type": "dataframe",
              "summary": "{\n  \"name\": \"df\",\n  \"rows\": 8,\n  \"fields\": [\n    {\n      \"column\": \"survived\",\n      \"properties\": {\n        \"dtype\": \"number\",\n        \"std\": 314.8713661874558,\n        \"min\": 0.0,\n        \"max\": 891.0,\n        \"num_unique_values\": 5,\n        \"samples\": [\n          0.3838383838383838,\n          1.0,\n          0.4865924542648585\n        ],\n        \"semantic_type\": \"\",\n        \"description\": \"\"\n      }\n    },\n    {\n      \"column\": \"pclass\",\n      \"properties\": {\n        \"dtype\": \"number\",\n        \"std\": 314.2523437079693,\n        \"min\": 0.8360712409770513,\n        \"max\": 891.0,\n        \"num_unique_values\": 6,\n        \"samples\": [\n          891.0,\n          2.308641975308642,\n          3.0\n        ],\n        \"semantic_type\": \"\",\n        \"description\": \"\"\n      }\n    },\n    {\n      \"column\": \"age\",\n      \"properties\": {\n        \"dtype\": \"number\",\n        \"std\": 242.9056731818781,\n        \"min\": 0.42,\n        \"max\": 714.0,\n        \"num_unique_values\": 8,\n        \"samples\": [\n          29.69911764705882,\n          28.0,\n          714.0\n        ],\n        \"semantic_type\": \"\",\n        \"description\": \"\"\n      }\n    },\n    {\n      \"column\": \"sibsp\",\n      \"properties\": {\n        \"dtype\": \"number\",\n        \"std\": 314.4908277465442,\n        \"min\": 0.0,\n        \"max\": 891.0,\n        \"num_unique_values\": 6,\n        \"samples\": [\n          891.0,\n          0.5230078563411896,\n          8.0\n        ],\n        \"semantic_type\": \"\",\n        \"description\": \"\"\n      }\n    },\n    {\n      \"column\": \"parch\",\n      \"properties\": {\n        \"dtype\": \"number\",\n        \"std\": 314.65971717879,\n        \"min\": 0.0,\n        \"max\": 891.0,\n        \"num_unique_values\": 5,\n        \"samples\": [\n          0.38159371492704824,\n          6.0,\n          0.8060572211299559\n        ],\n        \"semantic_type\": \"\",\n        \"description\": \"\"\n      }\n    },\n    {\n      \"column\": \"fare\",\n      \"properties\": {\n        \"dtype\": \"number\",\n        \"std\": 330.6256632228577,\n        \"min\": 0.0,\n        \"max\": 891.0,\n        \"num_unique_values\": 8,\n        \"samples\": [\n          32.204207968574636,\n          14.4542,\n          891.0\n        ],\n        \"semantic_type\": \"\",\n        \"description\": \"\"\n      }\n    }\n  ]\n}"
            }
          },
          "metadata": {},
          "execution_count": 10
        }
      ],
      "source": [
        "# information on the dataset\n",
        "df.describe()\n"
      ]
    },
    {
      "cell_type": "markdown",
      "id": "f368cf3f",
      "metadata": {
        "id": "f368cf3f"
      },
      "source": [
        "### Explore UCI\n",
        "\n",
        "* https://archive.ics.uci.edu/\n",
        "* https://www.datacamp.com/tutorial/pandas-read-csv"
      ]
    },
    {
      "cell_type": "code",
      "execution_count": 15,
      "id": "4e7e911d",
      "metadata": {
        "id": "4e7e911d",
        "colab": {
          "base_uri": "https://localhost:8080/"
        },
        "outputId": "18d4d434-8165-45ae-f812-a02a3e45bd3a"
      },
      "outputs": [
        {
          "output_type": "stream",
          "name": "stdout",
          "text": [
            "Requirement already satisfied: ucimlrepo in /usr/local/lib/python3.12/dist-packages (0.0.7)\n",
            "Requirement already satisfied: pandas>=1.0.0 in /usr/local/lib/python3.12/dist-packages (from ucimlrepo) (2.2.2)\n",
            "Requirement already satisfied: certifi>=2020.12.5 in /usr/local/lib/python3.12/dist-packages (from ucimlrepo) (2025.8.3)\n",
            "Requirement already satisfied: numpy>=1.26.0 in /usr/local/lib/python3.12/dist-packages (from pandas>=1.0.0->ucimlrepo) (2.0.2)\n",
            "Requirement already satisfied: python-dateutil>=2.8.2 in /usr/local/lib/python3.12/dist-packages (from pandas>=1.0.0->ucimlrepo) (2.9.0.post0)\n",
            "Requirement already satisfied: pytz>=2020.1 in /usr/local/lib/python3.12/dist-packages (from pandas>=1.0.0->ucimlrepo) (2025.2)\n",
            "Requirement already satisfied: tzdata>=2022.7 in /usr/local/lib/python3.12/dist-packages (from pandas>=1.0.0->ucimlrepo) (2025.2)\n",
            "Requirement already satisfied: six>=1.5 in /usr/local/lib/python3.12/dist-packages (from python-dateutil>=2.8.2->pandas>=1.0.0->ucimlrepo) (1.17.0)\n",
            "{'uci_id': 53, 'name': 'Iris', 'repository_url': 'https://archive.ics.uci.edu/dataset/53/iris', 'data_url': 'https://archive.ics.uci.edu/static/public/53/data.csv', 'abstract': 'A small classic dataset from Fisher, 1936. One of the earliest known datasets used for evaluating classification methods.\\n', 'area': 'Biology', 'tasks': ['Classification'], 'characteristics': ['Tabular'], 'num_instances': 150, 'num_features': 4, 'feature_types': ['Real'], 'demographics': [], 'target_col': ['class'], 'index_col': None, 'has_missing_values': 'no', 'missing_values_symbol': None, 'year_of_dataset_creation': 1936, 'last_updated': 'Tue Sep 12 2023', 'dataset_doi': '10.24432/C56C76', 'creators': ['R. A. Fisher'], 'intro_paper': {'ID': 191, 'type': 'NATIVE', 'title': 'The Iris data set: In search of the source of virginica', 'authors': 'A. Unwin, K. Kleinman', 'venue': 'Significance, 2021', 'year': 2021, 'journal': 'Significance, 2021', 'DOI': '1740-9713.01589', 'URL': 'https://www.semanticscholar.org/paper/4599862ea877863669a6a8e63a3c707a787d5d7e', 'sha': None, 'corpus': None, 'arxiv': None, 'mag': None, 'acl': None, 'pmid': None, 'pmcid': None}, 'additional_info': {'summary': 'This is one of the earliest datasets used in the literature on classification methods and widely used in statistics and machine learning.  The data set contains 3 classes of 50 instances each, where each class refers to a type of iris plant.  One class is linearly separable from the other 2; the latter are not linearly separable from each other.\\n\\nPredicted attribute: class of iris plant.\\n\\nThis is an exceedingly simple domain.\\n\\nThis data differs from the data presented in Fishers article (identified by Steve Chadwick,  spchadwick@espeedaz.net ).  The 35th sample should be: 4.9,3.1,1.5,0.2,\"Iris-setosa\" where the error is in the fourth feature. The 38th sample: 4.9,3.6,1.4,0.1,\"Iris-setosa\" where the errors are in the second and third features.  ', 'purpose': 'N/A', 'funded_by': None, 'instances_represent': 'Each instance is a plant', 'recommended_data_splits': None, 'sensitive_data': None, 'preprocessing_description': None, 'variable_info': None, 'citation': None}}\n",
            "           name     role         type demographic  \\\n",
            "0  sepal length  Feature   Continuous        None   \n",
            "1   sepal width  Feature   Continuous        None   \n",
            "2  petal length  Feature   Continuous        None   \n",
            "3   petal width  Feature   Continuous        None   \n",
            "4         class   Target  Categorical        None   \n",
            "\n",
            "                                         description units missing_values  \n",
            "0                                               None    cm             no  \n",
            "1                                               None    cm             no  \n",
            "2                                               None    cm             no  \n",
            "3                                               None    cm             no  \n",
            "4  class of iris plant: Iris Setosa, Iris Versico...  None             no  \n"
          ]
        }
      ],
      "source": [
        "# explore uci / see website\n",
        "\n",
        "!pip install ucimlrepo\n",
        "# getting data from csv on GitHub\n",
        "from ucimlrepo import fetch_ucirepo\n",
        "\n",
        "# fetch dataset\n",
        "iris = fetch_ucirepo(id=53)\n",
        "\n",
        "# data (as pandas dataframes)\n",
        "X = iris.data.features\n",
        "y = iris.data.targets\n",
        "\n",
        "# metadata\n",
        "print(iris.metadata)\n",
        "\n",
        "# variable information\n",
        "print(iris.variables)"
      ]
    },
    {
      "cell_type": "markdown",
      "id": "fc8f5538",
      "metadata": {
        "id": "fc8f5538"
      },
      "source": [
        "### Online Repositories\n",
        "* https://archive.ics.uci.edu/ml/datasets/Auto+MPG\n",
        "* http://lib.stat.cmu.edu/datasets/\n",
        "* https://www.kaggle.com/datasets"
      ]
    },
    {
      "cell_type": "markdown",
      "id": "6459825a",
      "metadata": {
        "id": "6459825a"
      },
      "source": [
        "### Uploading Datasets (.csv files) to Colab\n",
        "\n",
        "* Click on the File icon\n",
        "* Click on the Upload to session storage icon\n",
        "* Find your csv file and upload\n",
        "* Click through warning"
      ]
    },
    {
      "cell_type": "code",
      "source": [
        "df=pd.read_csv('/content/iris.csv')\n",
        "print(df.head())"
      ],
      "metadata": {
        "colab": {
          "base_uri": "https://localhost:8080/"
        },
        "id": "OWxjNZu_fYfj",
        "outputId": "3ab3ad95-351d-4343-d975-60b11e38d18e"
      },
      "id": "OWxjNZu_fYfj",
      "execution_count": 23,
      "outputs": [
        {
          "output_type": "stream",
          "name": "stdout",
          "text": [
            "   sepal_length  sepal_width  petal_length  petal_width species\n",
            "0           5.1          3.5           1.4          0.2  setosa\n",
            "1           4.9          3.0           1.4          0.2  setosa\n",
            "2           4.7          3.2           1.3          0.2  setosa\n",
            "3           4.6          3.1           1.5          0.2  setosa\n",
            "4           5.0          3.6           1.4          0.2  setosa\n"
          ]
        }
      ]
    },
    {
      "cell_type": "markdown",
      "id": "64377d9a",
      "metadata": {
        "id": "64377d9a"
      },
      "source": [
        "### CSV from the Web (GitHub)"
      ]
    },
    {
      "cell_type": "code",
      "execution_count": 25,
      "id": "a3810d25",
      "metadata": {
        "id": "a3810d25",
        "colab": {
          "base_uri": "https://localhost:8080/"
        },
        "outputId": "e4286b43-63fa-4b2a-b302-3dbb99e48473"
      },
      "outputs": [
        {
          "output_type": "stream",
          "name": "stdout",
          "text": [
            "   Unnamed: 0  survived  pclass     sex   age  sibsp  parch     fare embarked  \\\n",
            "0           0         0       3    male  22.0      1      0   7.2500        S   \n",
            "1           1         1       1  female  38.0      1      0  71.2833        C   \n",
            "2           2         1       3  female  26.0      0      0   7.9250        S   \n",
            "3           3         1       1  female  35.0      1      0  53.1000        S   \n",
            "4           4         0       3    male  35.0      0      0   8.0500        S   \n",
            "\n",
            "   class    who  adult_male deck  embark_town alive  alone  \n",
            "0  Third    man        True  NaN  Southampton    no  False  \n",
            "1  First  woman       False    C    Cherbourg   yes  False  \n",
            "2  Third  woman       False  NaN  Southampton   yes   True  \n",
            "3  First  woman       False    C  Southampton   yes  False  \n",
            "4  Third    man        True  NaN  Southampton    no   True  \n"
          ]
        }
      ],
      "source": [
        "df = pd.read_csv('/content/titanic.csv')\n",
        "print(df.head())\n",
        "\n"
      ]
    },
    {
      "cell_type": "code",
      "source": [
        "df = pd.DataFrame(X)\n",
        "print(df.shape)\n",
        "print(df.info())\n",
        "print(df.head())"
      ],
      "metadata": {
        "colab": {
          "base_uri": "https://localhost:8080/"
        },
        "id": "eal7k6yjeCdP",
        "outputId": "63e463ef-5ade-48de-aa43-d0aca31c193e"
      },
      "id": "eal7k6yjeCdP",
      "execution_count": 14,
      "outputs": [
        {
          "output_type": "stream",
          "name": "stdout",
          "text": [
            "(150, 4)\n",
            "<class 'pandas.core.frame.DataFrame'>\n",
            "RangeIndex: 150 entries, 0 to 149\n",
            "Data columns (total 4 columns):\n",
            " #   Column        Non-Null Count  Dtype  \n",
            "---  ------        --------------  -----  \n",
            " 0   sepal length  150 non-null    float64\n",
            " 1   sepal width   150 non-null    float64\n",
            " 2   petal length  150 non-null    float64\n",
            " 3   petal width   150 non-null    float64\n",
            "dtypes: float64(4)\n",
            "memory usage: 4.8 KB\n",
            "None\n",
            "   sepal length  sepal width  petal length  petal width\n",
            "0           5.1          3.5           1.4          0.2\n",
            "1           4.9          3.0           1.4          0.2\n",
            "2           4.7          3.2           1.3          0.2\n",
            "3           4.6          3.1           1.5          0.2\n",
            "4           5.0          3.6           1.4          0.2\n"
          ]
        }
      ]
    },
    {
      "cell_type": "markdown",
      "source": [
        "### wget"
      ],
      "metadata": {
        "id": "2MtCw9DPKzRU"
      },
      "id": "2MtCw9DPKzRU"
    },
    {
      "cell_type": "code",
      "source": [
        "# get database\n",
        "# !wget --no-check-certificate 'https://docs.google.com/uc?export=download&id=1a3f1eG7XomCY8NdU2MVKFTmhpZc1fV3O' -O titanic.db\n"
      ],
      "metadata": {
        "id": "p5YGAxdhOR3p"
      },
      "id": "p5YGAxdhOR3p",
      "execution_count": null,
      "outputs": []
    },
    {
      "cell_type": "markdown",
      "source": [
        "### Session Storage and Google Drive"
      ],
      "metadata": {
        "id": "bm8E8ozLK2DN"
      },
      "id": "bm8E8ozLK2DN"
    },
    {
      "cell_type": "markdown",
      "source": [
        "### SQL\n",
        "\n",
        "* SQLAlchemy"
      ],
      "metadata": {
        "id": "MkGHQHRUKjdx"
      },
      "id": "MkGHQHRUKjdx"
    },
    {
      "cell_type": "code",
      "source": [
        "# database table to pandas dataframe\n"
      ],
      "metadata": {
        "id": "qwXjcKjRKodj"
      },
      "id": "qwXjcKjRKodj",
      "execution_count": null,
      "outputs": []
    },
    {
      "cell_type": "markdown",
      "id": "9dc32dfd",
      "metadata": {
        "id": "9dc32dfd"
      },
      "source": [
        "### Simulated Data"
      ]
    },
    {
      "cell_type": "markdown",
      "id": "cbf36cc1",
      "metadata": {
        "id": "cbf36cc1"
      },
      "source": [
        "### Codebooks\n",
        "\n",
        "https://www.kaggle.com/rhuebner/human-resources-data-set<br />\n",
        "https://rpubs.com/rhuebner/hrd_cb_v14"
      ]
    },
    {
      "cell_type": "markdown",
      "id": "4c814fd2",
      "metadata": {
        "id": "4c814fd2"
      },
      "source": [
        "### Data Resource List\n",
        "\n",
        "* https://vincentarelbundock.github.io/Rdatasets/articles/data.html\n",
        "* pip install rdatasets\n",
        "* from rdatasets import data as rdata\n",
        "* https://www.statsmodels.org/devel/datasets/index.html\n",
        "* https://en.wikipedia.org/wiki/List_of_datasets_for_machine-learning_research\n",
        "* https://archive.ics.uci.edu/ml/datasets/Auto+MPG\n",
        "* http://lib.stat.cmu.edu/datasets/\n",
        "* https://www.kaggle.com/datasets\n",
        "* https://registry.opendata.aws/\n",
        "* https://dataportals.org/\n",
        "* https://opendatamonitor.eu/frontend/web/index.php?r=dashboard%2Findex\n",
        "* https://data.nasdaq.com/\n",
        "* http://radar.oreilly.com/2011/01/journalist-data-tools.html\n",
        "* https://www.reddit.com/r/datasets/\n",
        "* https://stat.ethz.ch/R-manual/R-devel/library/datasets/html/00Index.html\n",
        "* https://github.com/vincentarelbundock/Rdatasets\n",
        "* https://data.world/\n",
        "* https://data.gov/\n",
        "* https://registry.opendata.aws/\n",
        "* https://cloud.google.com/datasets\n",
        "* https://cloud.google.com/bigquery/public-data\n",
        "* https://services.google.com/fh/files/misc/public_datasets_one_pager.pdf"
      ]
    },
    {
      "cell_type": "markdown",
      "id": "b0804d2d",
      "metadata": {
        "id": "b0804d2d"
      },
      "source": [
        "### Excel: Text to Column\n",
        "\n",
        "* Download the student.zip file from https://archive.ics.uci.edu/dataset/320/student+performance\n",
        "* Unzip to an appropriate folder, and open student-mat.csv in Excel (HINT: Right-click on student-mat.csv and choose Open with Excel)\n",
        "* Save this file as student-mat.xlsx\n",
        "* Use Text to Column to format data\n",
        "* HINT: select all the data in the first column before using Text to Column and then use the semicolon as the Delimiter"
      ]
    },
    {
      "cell_type": "markdown",
      "source": [
        "### Public Data\n",
        "\n",
        "* https://data.census.gov/\n",
        "* https://healthdata.gov/\n",
        "* Edgar: https://www.sec.gov/edgar\n",
        "* Bureau of Justice: https://bjs.ojp.gov/\n",
        "* IRS: https://www.irs.gov/statistics\n",
        "* Bureau of Economic Analysis: https://www.bea.gov/\n",
        "* Federal Reserve: https://www.federalreserve.gov/data.htm\n",
        "* DOE Data and Research: https://www2.ed.gov/rschstat/landing.jhtml?src=ft\n",
        "* Bureau of Labor Statistics: https://www.bls.gov/\n",
        "* US Patent and Trademark Office: https://www.uspto.gov/\n",
        "* National Centers for Environmental Information: https://www.ncei.noaa.gov/\n",
        "* World Bank: https://data.worldbank.org/\n",
        "* CIA World Factbook: https://www.cia.gov/the-world-factbook/\n",
        "* United Nations: https://data.un.org/\n",
        "* UNICEF: https://data.unicef.org/\n",
        "* Statistics Canada: https://www.statcan.gc.ca/\n",
        "* Eurostat: https://ec.europa.eu/eurostat\n",
        "* Organization for Economic Cooperation and Development: https://data.oecd.org/\n",
        "* UK National Health Service NHS Digital: https://digital.nhs.uk/\n",
        "* Google Finance: https://www.google.com/finance/\n",
        "* Google Trends: https://trends.google.com/trends/\n",
        "* Google Public Data Explorer: https://www.google.com/publicdata/directory\n",
        "* Amazon Web Services Public Data: https://registry.opendata.aws/\n",
        "* Data.gov: https://data.gov/\n",
        "* Google Ngram Viewer: https://books.google.com/ngrams/\n",
        "* The Corpus of Contemporary American English: https://www.english-corpora.org/coca/\n",
        "* University of California, Irvine, Center for Machine Learning: https://archive.ics.uci.edu/\n",
        "* Pew Research Center: https://www.pewresearch.org/\n",
        "* https://www.linkedin.com/learning/learning-public-data-sets-2/bureau-of-labor-statistics?resume=false&u=74650474"
      ],
      "metadata": {
        "id": "3ugtZM3ALn4x"
      },
      "id": "3ugtZM3ALn4x"
    },
    {
      "cell_type": "markdown",
      "source": [
        "## Data Collection"
      ],
      "metadata": {
        "id": "1PylStduOHWj"
      },
      "id": "1PylStduOHWj"
    },
    {
      "cell_type": "markdown",
      "source": [
        "### Essential Principles\n",
        "\n",
        "To ensure data is valuable for analysis and modeling, it must adhere to three core principles: **representativeness**, **comparability**, and a **holistic perspective**.\n",
        "\n",
        "1. Representativeness\n",
        "\n",
        "The data sample must accurately reflect the characteristics of the larger population from which it was drawn.\n",
        "\n",
        "* **Why it matters**: A representative sample allows you to generalize findings from your analysis to the entire population. This enables the use of established statistical methods and ensures your conclusions are valid.\n",
        "* **Key considerations**:\n",
        "    * **Random sampling** is a fundamental technique to achieve representativeness, as it helps minimize bias.\n",
        "    * **Sample size** is critical; a larger sample size generally provides a more reliable and stable estimate of the population.\n",
        "    * **Challenges**: Obtaining a truly representative sample is often difficult and requires careful planning.\n",
        "\n",
        "2. Comparability\n",
        "\n",
        "Data should be collected in a way that allows for meaningful comparisons between different groups, time periods, or conditions.\n",
        "\n",
        "* **Why it matters**: Comparisons reveal relationships and differences that are key to answering questions like, \"Does a new method improve performance?\" or \"How does one group differ from another?\" Without a basis for comparison, it's impossible to evaluate effectiveness or find meaningful patterns.\n",
        "* **Example**: The joke from *Caddyshack* illustrates this perfectly. Comparing golf scores by height is nonsensical because height is an irrelevant metric for evaluating golfing ability. The **right comparison metric** is essential.\n",
        "\n",
        "3. Comprehensive Collection (The \"Clue\" Approach)\n",
        "\n",
        "Sometimes, the purpose of data collection isn't immediately clear. Like investigators at a crime scene, we should collect all available \"clues\" or data points, as their relevance might not be known until later.\n",
        "\n",
        "* **Why it matters**: A broad data collection strategy ensures that no potentially useful information is missed. A seemingly insignificant variable today could be the key to a breakthrough insight tomorrow.\n",
        "* **Analogy**: Think of data as clues. By collecting every clue at a \"crime scene\" (e.g., a business process or a scientific experiment), you ensure you have a complete picture. This holistic approach can reveal hidden connections and dependencies that would be missed if data collection were too narrowly focused."
      ],
      "metadata": {
        "id": "WxDNp47EZZ6X"
      },
      "id": "WxDNp47EZZ6X"
    },
    {
      "cell_type": "markdown",
      "id": "3d6fca2d",
      "metadata": {
        "id": "3d6fca2d"
      },
      "source": [
        "### Sampling\n",
        "\n",
        "According to Wikipedia (2022):\n",
        "\n",
        ">  Sampling is the selection of a subset (a statistical sample) of individuals from within a statistical population [similar elements] to estimate characteristics of the whole population (para 1).\n",
        "\n",
        "Sampling. (2022, January 24). In *Wikipedia*.https://en.wikipedia.org/wiki/Sampling_(statistics)\n",
        "\n",
        "### Probabilistic Sampling\n",
        "\n",
        "* Simple random sampling: https://www.statisticshowto.com/probability-and-statistics/statistics-definitions/simple-random-sample/\n",
        "* Systematic sampling: https://www.open.edu/openlearncreate/mod/oucontent/view.php?id=233&section=1.5.2\n",
        "* Stratified sampling: https://www.geeksforgeeks.org/stratified-sampling-in-pandas/\n",
        "* Clustering: https://www.voxco.com/blog/stratified-sampling-vs-cluster-sampling/\n",
        "\n",
        "In **simple random sampling**, every individual in a population has an **equal chance** of being selected. It's like drawing names out of a hat. This method is the most straightforward and helps to ensure the sample is unbiased and representative of the whole population.\n",
        "\n",
        "**Systematic sampling** is a method where a sample is selected from an ordered list by choosing a **random starting point** and then selecting every **$n^{th}$** individual. For example, if you wanted to survey 100 people from a list of 1,000, you might randomly pick the 7th person to start and then select every 10th person after that (17th, 27th, 37th, and so on). This method is easy to implement and can be efficient, but it can be problematic if there's a hidden pattern in the list that aligns with the sampling interval.\n",
        "\n",
        "**Stratified sampling** involves dividing the population into non-overlapping subgroups, or **strata**, based on shared characteristics (like age, gender, or income). A random sample is then drawn from **each stratum** to ensure that each subgroup is proportionally represented in the final sample. This is particularly useful when you need to ensure that specific, important subgroups are included in the study.\n",
        "\n",
        "**Cluster sampling** involves dividing a population into naturally occurring groups, or **clusters**, which often reflect geographic locations. The researcher then **randomly selects a few clusters** and surveys **every individual within those selected clusters**. Unlike stratified sampling, where you sample from every group, in cluster sampling, you survey everyone in only the chosen groups. This method is cost-effective and efficient for large, geographically spread-out populations.\n",
        "\n",
        "### Non-Probabilistic Sampling Methods\n",
        "\n",
        "https://www.analyticsvidhya.com/blog/2019/09/data-scientists-guide-8-types-of-sampling-techniques/\n",
        "* Convenience sampling\n",
        "* Quota sampling\n",
        "* Snowball sampling\n",
        "\n",
        "**Convenience sampling** involves selecting participants who are the **easiest to reach** or are readily available. Researchers simply collect data from whoever is convenient to them, like surveying people at a mall or students in a specific classroom. This method is fast and cost-effective, but the sample may not be representative of the larger population, which can lead to significant bias.\n",
        "\n",
        "**Quota sampling** is similar to stratified sampling but uses a non-random approach. The researcher divides the population into subgroups (strata) based on specific characteristics (e.g., age, gender, income) and then sets a specific number of participants, or a **quota**, to be collected from each subgroup. The researcher then uses a non-random method (like convenience sampling) to fill each quota. The goal is to ensure that key demographics are represented in the sample in the correct proportions, but because the selection within each subgroup isn't random, it can still introduce bias.\n",
        "\n",
        "**Snowball sampling** is a referral-based method used to find participants in **hard-to-reach or hidden populations**. Researchers start with a few initial participants (the \"seeds\") who meet the study's criteria. These participants are then asked to refer other people they know who also fit the criteria. The sample grows like a snowball rolling down a hill, getting bigger as each new participant refers more people. This method is highly effective for sensitive or niche topics where a list of the population doesn't exist. ❄️\n"
      ]
    },
    {
      "cell_type": "markdown",
      "source": [
        "# Make It Stick - Bias"
      ],
      "metadata": {
        "id": "PRMipbinOa-x"
      },
      "id": "PRMipbinOa-x"
    },
    {
      "cell_type": "markdown",
      "source": [
        "### Bias\n",
        "\n",
        "Data bias is a sneaky problem! It can creep into your data in many ways, often without you even realizing it.\n",
        "\n",
        "Examples of Biased Data\n",
        "\n",
        "**Selection bias** occurs when the sample of data collected is not truly random and therefore not representative of the entire population. If a politician wins an election, we might assume their policies are popular with everyone. However, if the data used to predict the outcome only came from their supporters (e.g., through a poll at a campaign rally), it's a biased sample. This self-selection of participants leads to a flawed conclusion that the politician's popularity is widespread, when in reality, the data was collected from a pre-selected group of people who were already inclined to support them. A survey of a specific online forum for a politician's supporters, for example, would be an example of selection bias, as the results would not reflect the views of the general public.\n",
        "\n",
        "**Publication bias** is the tendency for studies with \"positive\" or significant results to be published more often than those with \"negative\" or inconclusive results. A study that finds \"no link between video games and colon cancer\" is a \"negative\" finding and is less likely to be published. Meanwhile, a study that finds a statistically significant link—even if it's a surprising or weak one, like \"spending a lot of time playing video games is associated with a lower incidence of colon cancer\"—is more likely to be published. This skews the overall body of scientific literature on a topic, making it appear as though certain effects or associations are stronger than they really are, while the studies that found no effect are relegated to a \"file drawer\" of unpublished research.\n",
        "\n",
        "**Recall bias** is a type of measurement bias that happens when participants in a study do not remember past events or experiences accurately or completely. Your phrase \"memory is selective\" captures this perfectly. In a study, this is especially common in retrospective studies (those that look back in time). For instance, a researcher might be studying the potential causes of a disease and asks patients about their past diet. Patients with the disease may be more likely to remember and report a wide range of potential dietary \"risk factors\" they've heard about (over-reporting), while healthy participants may not be as motivated to recall specific details about their diet (under-reporting). This can lead to a misleading association between the reported factors and the disease.\n",
        "\n",
        "**Survivorship bias** is a form of selection bias where you only analyze data from those who \"survived\" a certain process, while ignoring the data from those who failed or dropped out. If a university only looks at the test scores of students who completed all four years, they would see a trend of improving scores. However, this data is biased because it excludes the students who dropped out in earlier years precisely because their academic performance was not strong. The trend of improving scores isn't necessarily true for the entire class cohort; it's only true for the \"survivors\" who were able to maintain a certain level of performance. A classic example is the analysis of World War II bombers: the military initially wanted to add armor to the most damaged parts of returning planes, but a statistician realized they were only looking at the planes that survived. The real insight was to put armor on the parts that **weren't** damaged on the returning planes, as those were the critical areas that, if hit, caused a plane to be lost.\n",
        "\n",
        "Here are some of the common types of bias to watch out for:\n",
        "\n",
        "**1. Sampling Bias**\n",
        "\n",
        "* **What it is:** Your sample doesn't accurately represent the population you're interested in. This can lead to inaccurate conclusions about the population.\n",
        "* **Examples:**\n",
        "    * **Convenience Sampling:**  Surveying only people who are easy to reach (e.g., your friends, people on the street).\n",
        "    * **Undercoverage:**  Some groups in the population are underrepresented in the sample (e.g., a survey about internet usage that only includes people with landline phones).\n",
        "\n",
        "**2. Measurement Bias**\n",
        "\n",
        "* **What it is:** The way you collect data influences the results.\n",
        "* **Examples:**\n",
        "    * **Leading Questions:**  Survey questions that are worded in a way that suggests a particular answer.\n",
        "    * **Social Desirability Bias:** People tend to answer questions in a way that makes them look good, even if it's not entirely truthful.\n",
        "    * **Instrument Bias:**  Problems with the measurement tool itself (e.g., a faulty scale).\n",
        "\n",
        "**3. Confirmation Bias**\n",
        "\n",
        "* **What it is:** You tend to favor information that confirms your existing beliefs and ignore information that contradicts them.\n",
        "* **Example:**  Only looking for research that supports your hypothesis and dismissing studies that don't.\n",
        "\n",
        "**4. Observer Bias**\n",
        "\n",
        "* **What it is:** The researcher's expectations or beliefs influence how they perceive or interpret the data.\n",
        "* **Example:**  A doctor might be more likely to diagnose a patient with a condition they're already familiar with, even if the symptoms could indicate something else.\n",
        "\n",
        "**5. Omitted Variable Bias**\n",
        "\n",
        "* **What it is:**  An important variable that influences the relationship between the variables you're studying is left out of your analysis.\n",
        "* **Example:**  Analyzing the relationship between exercise and heart health without considering factors like diet or genetics.\n",
        "\n",
        "**6. Survivorship Bias**\n",
        "\n",
        "* **What it is:**  You only focus on the \"survivors\" of a process and ignore those that didn't make it.\n",
        "* **Example:**  Studying the characteristics of successful businesses without considering the businesses that failed.\n",
        "\n",
        "**7.  Historical Bias**\n",
        "\n",
        "* **What it is:** Data from the past may reflect societal biases or norms that are no longer relevant or acceptable.\n",
        "* **Example:**  Analyzing historical hiring data might reveal discriminatory practices that were prevalent at the time.\n",
        "\n",
        "**8.  Recall Bias**\n",
        "\n",
        "* **What it is:**  People's memories of past events can be inaccurate or influenced by their current beliefs.\n",
        "* **Example:**  Asking people to recall their childhood eating habits might lead to inaccurate data.\n",
        "\n",
        "You're absolutely correct! Selection bias and publication bias are two very important types of bias that can significantly impact data analysis and interpretation. Let's add them to the list:\n",
        "\n",
        "**9. Selection Bias**\n",
        "\n",
        "* **What it is:** This occurs when the process of selecting individuals, groups, or data for analysis results in a sample that is not representative of the population of interest. This can lead to skewed results and inaccurate conclusions.\n",
        "* **Examples:**\n",
        "    * **Sampling Bias (as mentioned before):**  A specific type of selection bias where the sample isn't representative due to the method of selection.\n",
        "    * **Attrition Bias:** This happens when participants drop out of a study non-randomly, leading to a biased sample of those who remain.\n",
        "    * **Non-response Bias:** Occurs when people who choose to participate in a study differ systematically from those who don't.\n",
        "\n",
        "**10. Publication Bias**\n",
        "\n",
        "* **What it is:** This bias arises in academic research when studies with positive or significant results are more likely to be published than studies with negative or non-significant results. This can create a misleading impression of the true state of knowledge on a topic.\n",
        "* **Examples:**\n",
        "    * **File Drawer Problem:**  Studies with negative results are often \"filed away\" and never published, leading to an overrepresentation of positive findings in the literature.\n",
        "    * **Outcome Reporting Bias:** Researchers may selectively report outcomes that support their hypotheses, while downplaying or ignoring those that don't.\n",
        "\n",
        "**Why are selection and publication bias important?**\n",
        "\n",
        "* **Selection bias** can distort the results of any study, making it difficult to generalize findings to the broader population.\n",
        "* **Publication bias** can lead to a biased view of the evidence on a particular topic, potentially influencing decision-making in areas like healthcare, policy, and research.\n",
        "\n",
        "**How to mitigate these biases:**\n",
        "\n",
        "* **Selection Bias:**\n",
        "    * Use random sampling methods whenever possible.\n",
        "    * Carefully consider the inclusion and exclusion criteria for your study.\n",
        "    * Analyze the characteristics of participants who drop out or don't respond to identify potential biases.\n",
        "\n",
        "* **Publication Bias:**\n",
        "    * Encourage the publication of negative results through platforms like pre-print servers and journals that specifically publish null findings.\n",
        "    * Conduct systematic reviews and meta-analyses that include unpublished studies to get a more complete picture of the evidence.\n",
        "\n",
        "\n",
        "**Why is it important to be aware of bias?**\n",
        "\n",
        "Bias can lead to inaccurate conclusions, flawed models, and unfair or discriminatory outcomes.  By understanding the different types of bias, you can take steps to minimize their impact and ensure that your data analysis is as objective and reliable as possible.\n",
        "\n",
        "**Selection Bias, Measurement Bias, Outcome Report Bias Example**\n",
        "\n",
        "Story of a Texas school district needing good scores on a standard achievement test given in 10th grade so they held back poor performers in 9th grade and then bumped them up to 11th grade after a couple of years."
      ],
      "metadata": {
        "id": "lxDwuP4VNJyD"
      },
      "id": "lxDwuP4VNJyD"
    },
    {
      "cell_type": "markdown",
      "source": [
        "### Garbage In Garbage Out (Biased Data In, Biased Data Out)\n",
        "\n",
        "GI of GIGO\n",
        "\n",
        "* Wrong\n",
        "* Too Different\n",
        "* Too Similar\n",
        "* Missing\n",
        "* Terrible statistical assertions result from good statistical methods applied to bad samples"
      ],
      "metadata": {
        "id": "Ru2iL8qAZEP_"
      },
      "id": "Ru2iL8qAZEP_"
    }
  ],
  "metadata": {
    "kernelspec": {
      "display_name": "Python 3 (ipykernel)",
      "language": "python",
      "name": "python3"
    },
    "language_info": {
      "codemirror_mode": {
        "name": "ipython",
        "version": 3
      },
      "file_extension": ".py",
      "mimetype": "text/x-python",
      "name": "python",
      "nbconvert_exporter": "python",
      "pygments_lexer": "ipython3",
      "version": "3.9.7"
    },
    "colab": {
      "provenance": [],
      "include_colab_link": true
    }
  },
  "nbformat": 4,
  "nbformat_minor": 5
}